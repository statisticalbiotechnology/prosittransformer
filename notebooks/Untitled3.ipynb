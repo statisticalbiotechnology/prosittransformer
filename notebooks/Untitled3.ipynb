{
 "cells": [
  {
   "cell_type": "code",
   "execution_count": 1,
   "metadata": {},
   "outputs": [],
   "source": [
    "%config Completer.use_jedi = False\n",
    "\n"
   ]
  },
  {
   "cell_type": "code",
   "execution_count": 2,
   "metadata": {},
   "outputs": [],
   "source": [
    "import pickle as pkl"
   ]
  },
  {
   "cell_type": "code",
   "execution_count": 3,
   "metadata": {},
   "outputs": [],
   "source": [
    "import pandas as pd"
   ]
  },
  {
   "cell_type": "code",
   "execution_count": 4,
   "metadata": {},
   "outputs": [],
   "source": [
    "import numpy as np"
   ]
  },
  {
   "cell_type": "code",
   "execution_count": 5,
   "metadata": {},
   "outputs": [],
   "source": [
    "from tqdm import tqdm"
   ]
  },
  {
   "cell_type": "code",
   "execution_count": 6,
   "metadata": {},
   "outputs": [],
   "source": [
    "from prosittransformer.utils import hdf5Loader\n",
    "from prosittransformer.utils import cleanTapeOutput"
   ]
  },
  {
   "cell_type": "code",
   "execution_count": 9,
   "metadata": {},
   "outputs": [
    {
     "name": "stdout",
     "output_type": "stream",
     "text": [
      "WARNING:tensorflow:From /sdd/prosittransformer/prosittransformer/utils.py:73: HDF5Matrix.__init__ (from tensorflow.python.keras.utils.io_utils) is deprecated and will be removed after 2020-05-30.\n",
      "Instructions for updating:\n",
      "Training with HDF5Matrix is not optimized for performance. Instead, we recommend using https://github.com/tensorflow/io to load your HDF5 data into a tf.data Dataset and passing that dataset to Keras.\n"
     ]
    },
    {
     "name": "stderr",
     "output_type": "stream",
     "text": [
      "/home/ekvall/anaconda3/envs/tapeConvert2/lib/python3.6/site-packages/tensorflow/python/keras/utils/io_utils.py:133: H5pyDeprecationWarning: The default file mode will change to 'r' (read-only) in h5py 3.0. To suppress this warning, pass the mode you need to h5py.File(), or set the global default h5.get_config().default_file_mode, or set the environment variable H5PY_DEFAULT_READONLY=1. Available modes are: 'r', 'r+', 'w', 'w-'/'x', 'a'. See the docs for details.\n",
      "  f = h5py.File(datapath)\n"
     ]
    }
   ],
   "source": [
    "prosit_pp = hdf5Loader.from_hdf5(\"/sdd/berzelius/final_results/delta_0.15/torchResult.hdf5\")"
   ]
  },
  {
   "cell_type": "code",
   "execution_count": 10,
   "metadata": {},
   "outputs": [],
   "source": [
    "prosit_pp = hdf5Loader.from_hdf5(\"/sdd/berzelius/final_results/delta_0.15/torchResult.hdf5\")\n",
    "prosit_vanilla = hdf5Loader.from_hdf5(\"/sdd/PrositToTapeDataConverter/hdf5/hcd/HDF5/prediction_hcd_ho.hdf5\")"
   ]
  },
  {
   "cell_type": "code",
   "execution_count": 11,
   "metadata": {},
   "outputs": [],
   "source": [
    "ALPHABET = {\n",
    "    \"A\": 1,\n",
    "    \"C\": 2,\n",
    "    \"D\": 3,\n",
    "    \"E\": 4,\n",
    "    \"F\": 5,\n",
    "    \"G\": 6,\n",
    "    \"H\": 7,\n",
    "    \"I\": 8,\n",
    "    \"K\": 9,\n",
    "    \"L\": 10,\n",
    "    \"M\": 11,\n",
    "    \"N\": 12,\n",
    "    \"P\": 13,\n",
    "    \"Q\": 14,\n",
    "    \"R\": 15,\n",
    "    \"S\": 16,\n",
    "    \"T\": 17,\n",
    "    \"V\": 18,\n",
    "    \"W\": 19,\n",
    "    \"Y\": 20,\n",
    "    \"M(ox)\": 21,\n",
    "}\n",
    "ALPHABET_S = {integer: char for char, integer in ALPHABET.items()}"
   ]
  },
  {
   "cell_type": "code",
   "execution_count": 12,
   "metadata": {},
   "outputs": [],
   "source": [
    "def chunks(lst, n):\n",
    "    \"\"\"Yield successive n-sized chunks from lst.\"\"\"\n",
    "    for i in range(0, len(lst), n):\n",
    "        X = min(len(lst), i+n)\n",
    "        yield lst[i:X]"
   ]
  },
  {
   "cell_type": "code",
   "execution_count": 13,
   "metadata": {},
   "outputs": [
    {
     "data": {
      "text/plain": [
       "dict_keys(['collision_energy', 'collision_energy_aligned_normed', 'collision_energy_normed', 'intensities_pred', 'intensities_raw', 'masses_raw', 'method', 'precursor_charge_onehot', 'rawfile', 'reverse', 'scan_number', 'score', 'sequence_integer', 'spectral_angle'])"
      ]
     },
     "execution_count": 13,
     "metadata": {},
     "output_type": "execute_result"
    }
   ],
   "source": [
    "prosit_pp.keys()"
   ]
  },
  {
   "cell_type": "code",
   "execution_count": 14,
   "metadata": {},
   "outputs": [],
   "source": [
    "def getVals(data, key):\n",
    "    sa_list = list()\n",
    "    M = data[key]\n",
    "    for b in tqdm(chunks(M, 1000),total =int(len(M) / 1000)):\n",
    "        sa_list.append(b)\n",
    "    all_sa = [s for sa in sa_list for s in sa]\n",
    "    return np.array(all_sa)"
   ]
  },
  {
   "cell_type": "code",
   "execution_count": 15,
   "metadata": {},
   "outputs": [
    {
     "data": {
      "text/plain": [
       "dict_keys(['collision_energy', 'collision_energy_aligned_normed', 'collision_energy_normed', 'intensities_pred', 'intensities_raw', 'masses_raw', 'method', 'precursor_charge_onehot', 'rawfile', 'reverse', 'scan_number', 'score', 'sequence_integer', 'spectral_angle'])"
      ]
     },
     "execution_count": 15,
     "metadata": {},
     "output_type": "execute_result"
    }
   ],
   "source": [
    "prosit_pp.keys()"
   ]
  },
  {
   "cell_type": "code",
   "execution_count": 16,
   "metadata": {},
   "outputs": [
    {
     "name": "stderr",
     "output_type": "stream",
     "text": [
      "1420it [00:00, 10230.57it/s]                          \n",
      "1420it [00:00, 8755.08it/s]                         \n"
     ]
    }
   ],
   "source": [
    "collision_energy_aligned_normed = getVals(prosit_pp, \"collision_energy_aligned_normed\")\n",
    "precursor_charge_onehot = getVals(prosit_pp, \"precursor_charge_onehot\")\n"
   ]
  },
  {
   "cell_type": "code",
   "execution_count": 17,
   "metadata": {},
   "outputs": [
    {
     "name": "stderr",
     "output_type": "stream",
     "text": [
      "1420it [00:06, 208.00it/s]                          \n"
     ]
    }
   ],
   "source": [
    "sequence_integer = getVals(prosit_pp, \"sequence_integer\")"
   ]
  },
  {
   "cell_type": "code",
   "execution_count": 18,
   "metadata": {},
   "outputs": [
    {
     "name": "stderr",
     "output_type": "stream",
     "text": [
      "1420it [00:23, 60.91it/s]                          \n",
      "1420it [00:35, 39.69it/s]                          \n"
     ]
    }
   ],
   "source": [
    "pp_intensities_pred = getVals(prosit_pp, \"intensities_pred\")\n",
    "pp_intensities_raw = getVals(prosit_pp, \"intensities_raw\")"
   ]
  },
  {
   "cell_type": "code",
   "execution_count": 19,
   "metadata": {},
   "outputs": [
    {
     "name": "stderr",
     "output_type": "stream",
     "text": [
      "1420it [00:23, 60.03it/s]                          \n",
      "1420it [00:35, 39.73it/s]                          \n"
     ]
    }
   ],
   "source": [
    "vanilla_intensities_pred = getVals(prosit_vanilla, \"intensities_pred\")\n",
    "vanilla_intensities_raw = getVals(prosit_vanilla, \"intensities_raw\")"
   ]
  },
  {
   "cell_type": "code",
   "execution_count": 20,
   "metadata": {},
   "outputs": [],
   "source": [
    "X = np.load(\"/sdd/prosittransformer/data/delta_0.15/predicted_spectra.npy\")"
   ]
  },
  {
   "cell_type": "code",
   "execution_count": 29,
   "metadata": {},
   "outputs": [],
   "source": [
    "df = pd.read_csv(\"/sdd/prosittransformer/data/prosit_input.csv\", sep=\",\")"
   ]
  },
  {
   "cell_type": "code",
   "execution_count": 37,
   "metadata": {},
   "outputs": [],
   "source": [
    "from prosittransformer.prositUtils.tensorize import csv\n",
    "from prosittransformer.prositUtils import sanitize"
   ]
  },
  {
   "cell_type": "code",
   "execution_count": 32,
   "metadata": {},
   "outputs": [],
   "source": [
    "df = df.head(500)"
   ]
  },
  {
   "cell_type": "code",
   "execution_count": 33,
   "metadata": {},
   "outputs": [],
   "source": [
    "x = csv(df)"
   ]
  },
  {
   "cell_type": "code",
   "execution_count": 34,
   "metadata": {},
   "outputs": [
    {
     "data": {
      "text/plain": [
       "(500, 174)"
      ]
     },
     "execution_count": 34,
     "metadata": {},
     "output_type": "execute_result"
    }
   ],
   "source": [
    "X[:500].shape"
   ]
  },
  {
   "cell_type": "code",
   "execution_count": 35,
   "metadata": {},
   "outputs": [],
   "source": [
    "x[\"intensities_pred\"] = X[:500]"
   ]
  },
  {
   "cell_type": "code",
   "execution_count": 48,
   "metadata": {},
   "outputs": [
    {
     "data": {
      "text/plain": [
       "array([2.52864718e-01, 0.00000000e+00, 0.00000000e+00, 9.00438521e-04,\n",
       "       0.00000000e+00, 0.00000000e+00, 2.58889258e-01, 0.00000000e+00,\n",
       "       0.00000000e+00, 1.27201331e+00, 0.00000000e+00, 0.00000000e+00,\n",
       "       3.22919071e-01, 0.00000000e+00, 0.00000000e+00, 2.76647329e-01,\n",
       "       0.00000000e+00, 0.00000000e+00, 1.85729593e-01, 0.00000000e+00,\n",
       "       0.00000000e+00, 1.37496255e-02, 0.00000000e+00, 0.00000000e+00,\n",
       "       8.45821500e-01, 0.00000000e+00, 0.00000000e+00, 2.73358077e-03,\n",
       "       0.00000000e+00, 0.00000000e+00, 9.64755893e-01, 0.00000000e+00,\n",
       "       0.00000000e+00, 7.46197626e-03, 0.00000000e+00, 0.00000000e+00,\n",
       "       1.29648650e+00, 2.61553600e-02, 3.04961316e-02, 0.00000000e+00,\n",
       "       0.00000000e+00, 3.30376253e-03, 9.29014385e-01, 0.00000000e+00,\n",
       "       7.59038776e-02, 0.00000000e+00, 0.00000000e+00, 4.16598886e-01,\n",
       "       1.03467774e+00, 4.25279588e-01, 2.39662945e-01, 4.71133292e-02,\n",
       "       1.81184597e-02, 1.88423544e-01, 8.36425483e-01, 5.21491945e-01,\n",
       "       3.57508719e-01, 1.91971838e-01, 1.06023446e-01, 1.57503292e-01,\n",
       "       7.25522995e-01, 8.16167533e-01, 1.27980992e-01, 1.92401662e-01,\n",
       "       2.01343432e-01, 1.63227841e-01, 5.35853207e-01, 8.98032606e-01,\n",
       "       3.59273821e-01, 3.08346450e-02, 1.52895927e-01, 2.88020708e-02,\n",
       "       4.32482660e-01, 9.57211852e-01, 4.51487571e-01, 1.63954675e-01,\n",
       "       3.68119836e-01, 1.06003247e-01, 3.36224318e-01, 8.43124986e-01,\n",
       "       3.76262575e-01, 5.25595099e-02, 2.90504575e-01, 9.33168158e-02,\n",
       "       1.07807070e-01, 7.37235069e-01, 4.02006507e-01, 6.01911843e-02,\n",
       "       2.11782962e-01, 1.87947989e-01, 2.59690404e-01, 4.28151518e-01,\n",
       "       7.81757474e-01, 4.52022329e-02, 1.43681020e-01, 0.00000000e+00,\n",
       "       8.32967013e-02, 8.19486678e-01, 2.37015754e-01, 4.55998443e-02,\n",
       "       1.22295916e-01, 7.73060322e-01, 1.64184973e-01, 4.26484078e-01,\n",
       "       1.94306523e-01, 0.00000000e+00, 1.71609297e-01, 4.97492433e-01,\n",
       "       4.71868180e-03, 3.21072340e-01, 3.31453830e-01, 0.00000000e+00,\n",
       "       1.24126345e-01, 0.00000000e+00, 1.30947549e-02, 2.53648877e-01,\n",
       "       2.58475184e-01, 0.00000000e+00, 1.48571506e-01, 4.71758127e-01,\n",
       "       0.00000000e+00, 1.60701334e-01, 1.18866108e-01, 0.00000000e+00,\n",
       "       2.21118599e-01, 1.68298185e-01, 0.00000000e+00, 8.96843597e-02,\n",
       "       9.33222398e-02, 0.00000000e+00, 1.91445023e-01, 4.01903577e-02,\n",
       "       0.00000000e+00, 0.00000000e+00, 1.23274937e-01, 0.00000000e+00,\n",
       "       3.42348784e-01, 7.37699807e-01, 4.75267041e-03, 1.90479867e-02,\n",
       "       1.01975843e-01, 0.00000000e+00, 3.63287032e-02, 5.78982048e-02,\n",
       "       0.00000000e+00, 0.00000000e+00, 1.10031869e-02, 0.00000000e+00,\n",
       "       2.23742798e-02, 8.33511502e-02, 0.00000000e+00, 0.00000000e+00,\n",
       "       1.10733189e-01, 0.00000000e+00, 1.18978377e-02, 0.00000000e+00,\n",
       "       0.00000000e+00, 0.00000000e+00, 0.00000000e+00, 0.00000000e+00,\n",
       "       2.29204260e-03, 0.00000000e+00, 0.00000000e+00, 0.00000000e+00,\n",
       "       1.00387737e-01, 0.00000000e+00, 1.92310102e-02, 0.00000000e+00,\n",
       "       2.90809795e-02, 0.00000000e+00, 2.60188580e-01, 2.89663412e-02,\n",
       "       0.00000000e+00, 0.00000000e+00], dtype=float32)"
      ]
     },
     "execution_count": 48,
     "metadata": {},
     "output_type": "execute_result"
    }
   ],
   "source": [
    "X[:500][1]"
   ]
  },
  {
   "cell_type": "code",
   "execution_count": 38,
   "metadata": {},
   "outputs": [],
   "source": [
    "data = sanitize.prediction(x)"
   ]
  },
  {
   "cell_type": "code",
   "execution_count": 45,
   "metadata": {},
   "outputs": [
    {
     "data": {
      "text/plain": [
       "array([ 1.9503845e-01,  0.0000000e+00, -1.0000000e+00,  6.9452211e-04,\n",
       "        0.0000000e+00, -1.0000000e+00,  1.9968528e-01,  0.0000000e+00,\n",
       "       -1.0000000e+00,  9.8112345e-01,  0.0000000e+00, -1.0000000e+00,\n",
       "        2.4907245e-01,  0.0000000e+00, -1.0000000e+00,  2.1338235e-01,\n",
       "        0.0000000e+00, -1.0000000e+00,  1.4325610e-01,  0.0000000e+00,\n",
       "       -1.0000000e+00,  1.0605298e-02,  0.0000000e+00, -1.0000000e+00,\n",
       "        6.5239513e-01,  0.0000000e+00, -1.0000000e+00,  2.1084528e-03,\n",
       "        0.0000000e+00, -1.0000000e+00,  7.4413109e-01,  0.0000000e+00,\n",
       "       -1.0000000e+00,  5.7555372e-03,  0.0000000e+00, -1.0000000e+00,\n",
       "        1.0000000e+00,  2.0174032e-02, -1.0000000e+00,  0.0000000e+00,\n",
       "        0.0000000e+00, -1.0000000e+00,  7.1656311e-01,  0.0000000e+00,\n",
       "       -1.0000000e+00,  0.0000000e+00,  0.0000000e+00, -1.0000000e+00,\n",
       "       -1.0000000e+00, -1.0000000e+00, -1.0000000e+00, -1.0000000e+00,\n",
       "       -1.0000000e+00, -1.0000000e+00, -1.0000000e+00, -1.0000000e+00,\n",
       "       -1.0000000e+00, -1.0000000e+00, -1.0000000e+00, -1.0000000e+00,\n",
       "       -1.0000000e+00, -1.0000000e+00, -1.0000000e+00, -1.0000000e+00,\n",
       "       -1.0000000e+00, -1.0000000e+00, -1.0000000e+00, -1.0000000e+00,\n",
       "       -1.0000000e+00, -1.0000000e+00, -1.0000000e+00, -1.0000000e+00,\n",
       "       -1.0000000e+00, -1.0000000e+00, -1.0000000e+00, -1.0000000e+00,\n",
       "       -1.0000000e+00, -1.0000000e+00, -1.0000000e+00, -1.0000000e+00,\n",
       "       -1.0000000e+00, -1.0000000e+00, -1.0000000e+00, -1.0000000e+00,\n",
       "       -1.0000000e+00, -1.0000000e+00, -1.0000000e+00, -1.0000000e+00,\n",
       "       -1.0000000e+00, -1.0000000e+00, -1.0000000e+00, -1.0000000e+00,\n",
       "       -1.0000000e+00, -1.0000000e+00, -1.0000000e+00, -1.0000000e+00,\n",
       "       -1.0000000e+00, -1.0000000e+00, -1.0000000e+00, -1.0000000e+00,\n",
       "       -1.0000000e+00, -1.0000000e+00, -1.0000000e+00, -1.0000000e+00,\n",
       "       -1.0000000e+00, -1.0000000e+00, -1.0000000e+00, -1.0000000e+00,\n",
       "       -1.0000000e+00, -1.0000000e+00, -1.0000000e+00, -1.0000000e+00,\n",
       "       -1.0000000e+00, -1.0000000e+00, -1.0000000e+00, -1.0000000e+00,\n",
       "       -1.0000000e+00, -1.0000000e+00, -1.0000000e+00, -1.0000000e+00,\n",
       "       -1.0000000e+00, -1.0000000e+00, -1.0000000e+00, -1.0000000e+00,\n",
       "       -1.0000000e+00, -1.0000000e+00, -1.0000000e+00, -1.0000000e+00,\n",
       "       -1.0000000e+00, -1.0000000e+00, -1.0000000e+00, -1.0000000e+00,\n",
       "       -1.0000000e+00, -1.0000000e+00, -1.0000000e+00, -1.0000000e+00,\n",
       "       -1.0000000e+00, -1.0000000e+00, -1.0000000e+00, -1.0000000e+00,\n",
       "       -1.0000000e+00, -1.0000000e+00, -1.0000000e+00, -1.0000000e+00,\n",
       "       -1.0000000e+00, -1.0000000e+00, -1.0000000e+00, -1.0000000e+00,\n",
       "       -1.0000000e+00, -1.0000000e+00, -1.0000000e+00, -1.0000000e+00,\n",
       "       -1.0000000e+00, -1.0000000e+00, -1.0000000e+00, -1.0000000e+00,\n",
       "       -1.0000000e+00, -1.0000000e+00, -1.0000000e+00, -1.0000000e+00,\n",
       "       -1.0000000e+00, -1.0000000e+00, -1.0000000e+00, -1.0000000e+00,\n",
       "       -1.0000000e+00, -1.0000000e+00, -1.0000000e+00, -1.0000000e+00,\n",
       "       -1.0000000e+00, -1.0000000e+00, -1.0000000e+00, -1.0000000e+00,\n",
       "       -1.0000000e+00, -1.0000000e+00], dtype=float32)"
      ]
     },
     "execution_count": 45,
     "metadata": {},
     "output_type": "execute_result"
    }
   ],
   "source": [
    "data[\"intensities_pred\"][1]"
   ]
  },
  {
   "cell_type": "code",
   "execution_count": 46,
   "metadata": {},
   "outputs": [
    {
     "data": {
      "text/plain": [
       "array([ 1.9503841e-01,  0.0000000e+00, -1.0000000e+00,  6.9450581e-04,\n",
       "        0.0000000e+00, -1.0000000e+00,  1.9968519e-01,  0.0000000e+00,\n",
       "       -1.0000000e+00,  9.8112339e-01,  0.0000000e+00, -1.0000000e+00,\n",
       "        2.4907236e-01,  0.0000000e+00, -1.0000000e+00,  2.1338233e-01,\n",
       "        0.0000000e+00, -1.0000000e+00,  1.4325604e-01,  0.0000000e+00,\n",
       "       -1.0000000e+00,  1.0605319e-02,  0.0000000e+00, -1.0000000e+00,\n",
       "        6.5239507e-01,  0.0000000e+00, -1.0000000e+00,  2.1084598e-03,\n",
       "        0.0000000e+00, -1.0000000e+00,  7.4413103e-01,  0.0000000e+00,\n",
       "       -1.0000000e+00,  5.7555302e-03,  0.0000000e+00, -1.0000000e+00,\n",
       "        1.0000000e+00,  2.0174045e-02, -1.0000000e+00,  0.0000000e+00,\n",
       "        0.0000000e+00, -1.0000000e+00,  7.1656299e-01,  0.0000000e+00,\n",
       "       -1.0000000e+00,  0.0000000e+00,  0.0000000e+00, -1.0000000e+00,\n",
       "       -1.0000000e+00, -1.0000000e+00, -1.0000000e+00, -1.0000000e+00,\n",
       "       -1.0000000e+00, -1.0000000e+00, -1.0000000e+00, -1.0000000e+00,\n",
       "       -1.0000000e+00, -1.0000000e+00, -1.0000000e+00, -1.0000000e+00,\n",
       "       -1.0000000e+00, -1.0000000e+00, -1.0000000e+00, -1.0000000e+00,\n",
       "       -1.0000000e+00, -1.0000000e+00, -1.0000000e+00, -1.0000000e+00,\n",
       "       -1.0000000e+00, -1.0000000e+00, -1.0000000e+00, -1.0000000e+00,\n",
       "       -1.0000000e+00, -1.0000000e+00, -1.0000000e+00, -1.0000000e+00,\n",
       "       -1.0000000e+00, -1.0000000e+00, -1.0000000e+00, -1.0000000e+00,\n",
       "       -1.0000000e+00, -1.0000000e+00, -1.0000000e+00, -1.0000000e+00,\n",
       "       -1.0000000e+00, -1.0000000e+00, -1.0000000e+00, -1.0000000e+00,\n",
       "       -1.0000000e+00, -1.0000000e+00, -1.0000000e+00, -1.0000000e+00,\n",
       "       -1.0000000e+00, -1.0000000e+00, -1.0000000e+00, -1.0000000e+00,\n",
       "       -1.0000000e+00, -1.0000000e+00, -1.0000000e+00, -1.0000000e+00,\n",
       "       -1.0000000e+00, -1.0000000e+00, -1.0000000e+00, -1.0000000e+00,\n",
       "       -1.0000000e+00, -1.0000000e+00, -1.0000000e+00, -1.0000000e+00,\n",
       "       -1.0000000e+00, -1.0000000e+00, -1.0000000e+00, -1.0000000e+00,\n",
       "       -1.0000000e+00, -1.0000000e+00, -1.0000000e+00, -1.0000000e+00,\n",
       "       -1.0000000e+00, -1.0000000e+00, -1.0000000e+00, -1.0000000e+00,\n",
       "       -1.0000000e+00, -1.0000000e+00, -1.0000000e+00, -1.0000000e+00,\n",
       "       -1.0000000e+00, -1.0000000e+00, -1.0000000e+00, -1.0000000e+00,\n",
       "       -1.0000000e+00, -1.0000000e+00, -1.0000000e+00, -1.0000000e+00,\n",
       "       -1.0000000e+00, -1.0000000e+00, -1.0000000e+00, -1.0000000e+00,\n",
       "       -1.0000000e+00, -1.0000000e+00, -1.0000000e+00, -1.0000000e+00,\n",
       "       -1.0000000e+00, -1.0000000e+00, -1.0000000e+00, -1.0000000e+00,\n",
       "       -1.0000000e+00, -1.0000000e+00, -1.0000000e+00, -1.0000000e+00,\n",
       "       -1.0000000e+00, -1.0000000e+00, -1.0000000e+00, -1.0000000e+00,\n",
       "       -1.0000000e+00, -1.0000000e+00, -1.0000000e+00, -1.0000000e+00,\n",
       "       -1.0000000e+00, -1.0000000e+00, -1.0000000e+00, -1.0000000e+00,\n",
       "       -1.0000000e+00, -1.0000000e+00, -1.0000000e+00, -1.0000000e+00,\n",
       "       -1.0000000e+00, -1.0000000e+00, -1.0000000e+00, -1.0000000e+00,\n",
       "       -1.0000000e+00, -1.0000000e+00, -1.0000000e+00, -1.0000000e+00,\n",
       "       -1.0000000e+00, -1.0000000e+00], dtype=float32)"
      ]
     },
     "execution_count": 46,
     "metadata": {},
     "output_type": "execute_result"
    }
   ],
   "source": [
    "pp_intensities_pred[1]"
   ]
  },
  {
   "cell_type": "code",
   "execution_count": null,
   "metadata": {},
   "outputs": [],
   "source": []
  },
  {
   "cell_type": "code",
   "execution_count": null,
   "metadata": {},
   "outputs": [],
   "source": [
    "charge = np.where(precursor_charge_onehot)[1]"
   ]
  },
  {
   "cell_type": "code",
   "execution_count": null,
   "metadata": {},
   "outputs": [],
   "source": [
    "mask = [True if 0 < c and c <3 else False for c in charge]"
   ]
  },
  {
   "cell_type": "code",
   "execution_count": null,
   "metadata": {},
   "outputs": [],
   "source": [
    "mask2 = [True if 21 not in seq else False for seq in sequence_integer]"
   ]
  },
  {
   "cell_type": "code",
   "execution_count": null,
   "metadata": {},
   "outputs": [],
   "source": [
    "sum(mask2)"
   ]
  },
  {
   "cell_type": "code",
   "execution_count": null,
   "metadata": {},
   "outputs": [],
   "source": []
  },
  {
   "cell_type": "code",
   "execution_count": null,
   "metadata": {},
   "outputs": [],
   "source": [
    "MASK = [all([m1, m2]) for m1, m2 in zip(mask, mask2)]"
   ]
  },
  {
   "cell_type": "code",
   "execution_count": null,
   "metadata": {},
   "outputs": [],
   "source": [
    "pp_sa = cleanTapeOutput.masked_spectral_distance(pp_intensities_raw[MASK], pp_intensities_pred[MASK])\n",
    "1 - np.median(pp_sa)"
   ]
  },
  {
   "cell_type": "code",
   "execution_count": null,
   "metadata": {},
   "outputs": [],
   "source": [
    "vanilla_sa = cleanTapeOutput.masked_spectral_distance(vanilla_intensities_raw[MASK], vanilla_intensities_pred[MASK])\n",
    "1 - np.median(vanilla_sa)"
   ]
  },
  {
   "cell_type": "code",
   "execution_count": null,
   "metadata": {},
   "outputs": [],
   "source": [
    "modified_sequence = [\"\".join([ALPHABET_S[s] for s in seq[np.nonzero(seq)]]) for seq in sequence_integer[MASK]]"
   ]
  },
  {
   "cell_type": "code",
   "execution_count": null,
   "metadata": {},
   "outputs": [],
   "source": [
    "charge_val = charge[MASK] + 1\n",
    "    "
   ]
  },
  {
   "cell_type": "code",
   "execution_count": null,
   "metadata": {},
   "outputs": [],
   "source": [
    "col_energy = collision_energy_aligned_normed[MASK] * 100"
   ]
  },
  {
   "cell_type": "code",
   "execution_count": null,
   "metadata": {},
   "outputs": [],
   "source": [
    "len(col_energy)"
   ]
  },
  {
   "cell_type": "code",
   "execution_count": null,
   "metadata": {},
   "outputs": [],
   "source": [
    "len(charge_val)"
   ]
  },
  {
   "cell_type": "code",
   "execution_count": null,
   "metadata": {},
   "outputs": [],
   "source": [
    "len(modified_sequence)"
   ]
  },
  {
   "cell_type": "code",
   "execution_count": null,
   "metadata": {},
   "outputs": [],
   "source": []
  },
  {
   "cell_type": "code",
   "execution_count": null,
   "metadata": {},
   "outputs": [],
   "source": [
    "df = pd.DataFrame([[p, col, c] for p, c, col in zip(modified_sequence, charge_val, col_energy)], \n",
    "             columns=[\"modified_sequence\",\"collision_energy\",\"precursor_charge\"])"
   ]
  },
  {
   "cell_type": "code",
   "execution_count": null,
   "metadata": {},
   "outputs": [],
   "source": [
    "df.to_csv(\"/sdd/prosittransformer/data/prosit_input.csv\", index=False, sep=\",\")"
   ]
  },
  {
   "cell_type": "code",
   "execution_count": null,
   "metadata": {},
   "outputs": [],
   "source": [
    "'collision_energy_aligned_normed', 'sequence_integer', 'precursor_charge_onehot', 'masses_pred', 'intensities_pred', 'iRT'"
   ]
  },
  {
   "cell_type": "code",
   "execution_count": null,
   "metadata": {},
   "outputs": [],
   "source": [
    "all_results = pkl.load(open(\"/sdd/prosittransformer/data/all_result.pkl\", \"rb\"))"
   ]
  },
  {
   "cell_type": "code",
   "execution_count": null,
   "metadata": {},
   "outputs": [],
   "source": [
    "all_results.keys()"
   ]
  },
  {
   "cell_type": "code",
   "execution_count": null,
   "metadata": {},
   "outputs": [],
   "source": []
  },
  {
   "cell_type": "code",
   "execution_count": null,
   "metadata": {},
   "outputs": [],
   "source": []
  },
  {
   "cell_type": "code",
   "execution_count": null,
   "metadata": {},
   "outputs": [],
   "source": [
    "all([p1==p2 for p1, p2 in zip(modified_sequence, all_results['modified_sequence'])])"
   ]
  },
  {
   "cell_type": "code",
   "execution_count": null,
   "metadata": {},
   "outputs": [],
   "source": [
    "all_results['modified_sequence']"
   ]
  },
  {
   "cell_type": "code",
   "execution_count": null,
   "metadata": {},
   "outputs": [],
   "source": [
    "all_results['iRT']"
   ]
  },
  {
   "cell_type": "code",
   "execution_count": null,
   "metadata": {},
   "outputs": [],
   "source": [
    "0 < charge[0] and charge[0] <3"
   ]
  },
  {
   "cell_type": "code",
   "execution_count": null,
   "metadata": {},
   "outputs": [],
   "source": []
  },
  {
   "cell_type": "code",
   "execution_count": null,
   "metadata": {},
   "outputs": [],
   "source": [
    "pp_sa = cleanTapeOutput.masked_spectral_distance(pp_intensities_raw, pp_intensities_pred)\n",
    "1 - np.median(pp_sa)"
   ]
  },
  {
   "cell_type": "code",
   "execution_count": null,
   "metadata": {},
   "outputs": [],
   "source": [
    "vanilla_sa = cleanTapeOutput.masked_spectral_distance(vanilla_intensities_raw, vanilla_intensities_pred)\n",
    "1 - np.median(vanilla_sa)"
   ]
  },
  {
   "cell_type": "code",
   "execution_count": null,
   "metadata": {},
   "outputs": [],
   "source": []
  },
  {
   "cell_type": "code",
   "execution_count": null,
   "metadata": {},
   "outputs": [],
   "source": []
  },
  {
   "cell_type": "code",
   "execution_count": null,
   "metadata": {},
   "outputs": [],
   "source": [
    "1 - np.median(pp_sa)"
   ]
  },
  {
   "cell_type": "code",
   "execution_count": null,
   "metadata": {},
   "outputs": [],
   "source": []
  },
  {
   "cell_type": "code",
   "execution_count": null,
   "metadata": {},
   "outputs": [],
   "source": [
    "np.median(all_sa)"
   ]
  },
  {
   "cell_type": "code",
   "execution_count": null,
   "metadata": {},
   "outputs": [],
   "source": []
  },
  {
   "cell_type": "code",
   "execution_count": null,
   "metadata": {},
   "outputs": [],
   "source": []
  }
 ],
 "metadata": {
  "kernelspec": {
   "display_name": "Python (tapeConvert2)",
   "language": "python",
   "name": "tapeconvert2"
  },
  "language_info": {
   "codemirror_mode": {
    "name": "ipython",
    "version": 3
   },
   "file_extension": ".py",
   "mimetype": "text/x-python",
   "name": "python",
   "nbconvert_exporter": "python",
   "pygments_lexer": "ipython3",
   "version": "3.6.13"
  }
 },
 "nbformat": 4,
 "nbformat_minor": 2
}
