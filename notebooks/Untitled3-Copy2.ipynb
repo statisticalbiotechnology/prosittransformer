{
 "cells": [
  {
   "cell_type": "code",
   "execution_count": 1,
   "metadata": {},
   "outputs": [],
   "source": [
    "%config Completer.use_jedi = False\n",
    "\n"
   ]
  },
  {
   "cell_type": "code",
   "execution_count": 2,
   "metadata": {},
   "outputs": [],
   "source": [
    "from torch.utils.data import Dataset\n",
    "import pandas as pd\n",
    "from pathlib import Path\n",
    "from typing import Union, List, Tuple, Any, Dict\n",
    "from tape import TAPETokenizer\n",
    "import torch\n",
    "import numpy as np\n",
    "from torch.utils.data import DataLoader\n",
    "from prosittransformer.DataHandler import pad_sequences\n",
    "from tape import ProteinBertForValuePredictionFragmentationProsit"
   ]
  },
  {
   "cell_type": "code",
   "execution_count": 3,
   "metadata": {},
   "outputs": [],
   "source": [
    "class DataframeDataset(Dataset):\n",
    "    \"\"\"Creates a dataset from an lmdb file.\n",
    "    Args:\n",
    "        data_file (Union[str, Path]): Path to lmdb file.\n",
    "        in_memory (bool, optional): Whether to load the full dataset into memory.\n",
    "            Default: False.\n",
    "    \"\"\"\n",
    "\n",
    "    def __init__(self,\n",
    "                 data_file: Union[str, Path],\n",
    "                 in_memory: bool = False):\n",
    "\n",
    "        data_file = Path(data_file)\n",
    "        if not data_file.exists():\n",
    "            raise FileNotFoundError(data_file)\n",
    "            \n",
    "        data = pd.read_csv(data_file, sep=\",\")\n",
    "        self._data = data.to_dict('records')\n",
    "        \n",
    "        self._num_examples = len(self._data)\n",
    "\n",
    "    def __len__(self) -> int:\n",
    "        return self._num_examples\n",
    "\n",
    "    def __getitem__(self, index: int):\n",
    "        if not 0 <= index < self._num_examples:\n",
    "            raise IndexError(index)\n",
    "\n",
    "        item = self._data[index]\n",
    "        return item"
   ]
  },
  {
   "cell_type": "code",
   "execution_count": 4,
   "metadata": {},
   "outputs": [],
   "source": [
    "CHARGES = [1, 2, 3, 4, 5, 6]\n",
    "def get_precursor_charge_onehot(charges):\n",
    "    array = np.zeros([len(charges), max(CHARGES)], dtype=int)\n",
    "    for i, precursor_charge in enumerate(charges):\n",
    "        array[i, precursor_charge - 1] = 1\n",
    "    return array"
   ]
  },
  {
   "cell_type": "code",
   "execution_count": 5,
   "metadata": {},
   "outputs": [],
   "source": [
    "class PrositInputDataset(Dataset):\n",
    "\n",
    "    def __init__(self,\n",
    "                 data_path: Union[str, Path],\n",
    "                 tokenizer: Union[str, TAPETokenizer] = 'iupac'\n",
    "                ):\n",
    "        \n",
    "        if isinstance(tokenizer, str):\n",
    "            tokenizer = TAPETokenizer(vocab=tokenizer)\n",
    "        self.tokenizer = tokenizer\n",
    "        data_path = Path(data_path)\n",
    "        self.data = DataframeDataset(data_path)\n",
    "        self.keys = [\n",
    "                     'modified_sequence',\n",
    "                     'collision_energy',\n",
    "                     'precursor_charge'\n",
    "                     ]\n",
    "    \n",
    "    \n",
    "    def __len__(self) -> int:\n",
    "        return len(self.data)\n",
    "\n",
    "    def __getitem__(self, index: int):\n",
    "        item = self.data[index]\n",
    "        token_ids = self.tokenizer.encode(item['modified_sequence'])\n",
    "        input_mask = np.ones_like(token_ids)\n",
    "        collision_energy = item['collision_energy'] / 100\n",
    "        charge = item['precursor_charge']\n",
    "        return (token_ids, input_mask, collision_energy, charge)\n",
    "\n",
    "    def collate_fn(self, batch: List[Tuple[Any, ...]]) -> Dict[str, torch.Tensor]:\n",
    "        input_ids, input_mask, collision_energy, charge = tuple(zip(*batch))\n",
    "        charge = get_precursor_charge_onehot(charge)\n",
    "\n",
    "        collision_energy = np.stack(collision_energy)\n",
    "        input_ids = torch.from_numpy(pad_sequences(input_ids, 0))\n",
    "        input_mask = torch.from_numpy(pad_sequences(input_mask, 0))\n",
    "\n",
    "        collision_energy_tensor = torch.FloatTensor(collision_energy)\n",
    "        charge_tensor = torch.FloatTensor(charge)\n",
    "\n",
    "        return {'input_ids': input_ids,\n",
    "                'input_mask': input_mask,\n",
    "                'collision_energy': collision_energy_tensor,\n",
    "                'charge': charge_tensor}"
   ]
  },
  {
   "cell_type": "code",
   "execution_count": 6,
   "metadata": {},
   "outputs": [],
   "source": [
    "dataset1 = PrositInputDataset(\"/sdd/prosittransformer/data/prosit_input.csv\")"
   ]
  },
  {
   "cell_type": "code",
   "execution_count": 7,
   "metadata": {},
   "outputs": [],
   "source": [
    "dataloder1 = DataLoader(dataset1, num_workers=6,\n",
    "                    collate_fn=dataset1.collate_fn,\n",
    "                    batch_size=3)"
   ]
  },
  {
   "cell_type": "code",
   "execution_count": 8,
   "metadata": {},
   "outputs": [],
   "source": [
    "b1 = next(iter(dataloder1))\n",
    "\n",
    "b1 = {name: tensor.cuda(device=torch.device('cuda:0'), non_blocking=True)\n",
    "                     for name, tensor in b1.items()}"
   ]
  },
  {
   "cell_type": "code",
   "execution_count": 9,
   "metadata": {},
   "outputs": [],
   "source": [
    "model = ProteinBertForValuePredictionFragmentationProsit.from_pretrained(\"/sdd/berzelius/final_results/delta_0.15/\")\n",
    "model = model.to(torch.device('cuda:0'))"
   ]
  },
  {
   "cell_type": "code",
   "execution_count": 10,
   "metadata": {},
   "outputs": [],
   "source": [
    "x1 = model(**b1)[0].cpu().detach().numpy()"
   ]
  },
  {
   "cell_type": "code",
   "execution_count": null,
   "metadata": {},
   "outputs": [],
   "source": [
    "import torch\n",
    "from tape import TAPETokenizer"
   ]
  },
  {
   "cell_type": "code",
   "execution_count": null,
   "metadata": {},
   "outputs": [],
   "source": [
    "from tape import ProteinBertForValuePredictionFragmentationProsit"
   ]
  },
  {
   "cell_type": "code",
   "execution_count": null,
   "metadata": {},
   "outputs": [],
   "source": [
    "import pickle as pkl"
   ]
  },
  {
   "cell_type": "code",
   "execution_count": null,
   "metadata": {},
   "outputs": [],
   "source": [
    "import pandas as pd"
   ]
  },
  {
   "cell_type": "code",
   "execution_count": null,
   "metadata": {},
   "outputs": [],
   "source": [
    "import numpy as np"
   ]
  },
  {
   "cell_type": "code",
   "execution_count": null,
   "metadata": {},
   "outputs": [],
   "source": [
    "from tqdm import tqdm"
   ]
  },
  {
   "cell_type": "code",
   "execution_count": null,
   "metadata": {},
   "outputs": [],
   "source": [
    "from prosittransformer.DataHandler import pad_sequences"
   ]
  },
  {
   "cell_type": "code",
   "execution_count": null,
   "metadata": {},
   "outputs": [],
   "source": [
    "from prosittransformer.utils import hdf5Loader\n",
    "from prosittransformer.utils import cleanTapeOutput"
   ]
  },
  {
   "cell_type": "code",
   "execution_count": null,
   "metadata": {},
   "outputs": [],
   "source": [
    "from tape.datasets import PrositFragmentationDataset\n",
    "from torch.utils.data import DataLoader"
   ]
  },
  {
   "cell_type": "code",
   "execution_count": null,
   "metadata": {},
   "outputs": [],
   "source": []
  },
  {
   "cell_type": "code",
   "execution_count": null,
   "metadata": {},
   "outputs": [],
   "source": []
  },
  {
   "cell_type": "code",
   "execution_count": null,
   "metadata": {},
   "outputs": [],
   "source": [
    "from tape.datasets import PrositFragmentationDataset\n",
    "from prosittransformer.prositUtils import sanitize"
   ]
  },
  {
   "cell_type": "code",
   "execution_count": 16,
   "metadata": {},
   "outputs": [],
   "source": [
    "dataset = PrositFragmentationDataset(\"/sdd/PrositToTapeDataConverter/LMDB/\", split=\"test\")"
   ]
  },
  {
   "cell_type": "code",
   "execution_count": 17,
   "metadata": {},
   "outputs": [],
   "source": [
    "loader = DataLoader(dataset, \n",
    "                    num_workers=6,\n",
    "                    collate_fn=dataset.collate_fn,\n",
    "                    batch_size=3)"
   ]
  },
  {
   "cell_type": "code",
   "execution_count": 18,
   "metadata": {},
   "outputs": [],
   "source": [
    "b = next(iter(loader))"
   ]
  },
  {
   "cell_type": "code",
   "execution_count": 19,
   "metadata": {},
   "outputs": [],
   "source": [
    "b = {name: tensor.cuda(device=torch.device('cuda:0'), non_blocking=True)\n",
    "                     for name, tensor in b.items()}"
   ]
  },
  {
   "cell_type": "code",
   "execution_count": 20,
   "metadata": {},
   "outputs": [],
   "source": [
    "x2 = model(**b)[1].cpu().detach().numpy()"
   ]
  },
  {
   "cell_type": "code",
   "execution_count": 21,
   "metadata": {},
   "outputs": [
    {
     "data": {
      "text/plain": [
       "True"
      ]
     },
     "execution_count": 21,
     "metadata": {},
     "output_type": "execute_result"
    }
   ],
   "source": [
    "np.allclose(x2[2],x1[2])"
   ]
  },
  {
   "cell_type": "code",
   "execution_count": 22,
   "metadata": {},
   "outputs": [
    {
     "data": {
      "text/plain": [
       "array([ 5.32360077e-02, -9.01104417e-03, -8.20380263e-03, -6.52382709e-03,\n",
       "       -8.96532089e-03, -8.20204709e-03,  1.05591372e-01, -1.01910308e-02,\n",
       "       -8.30774009e-03,  2.46345937e-01, -9.67752188e-03, -7.97981117e-03,\n",
       "        1.16022319e-01, -9.50901583e-03, -8.15635268e-03, -2.01028213e-03,\n",
       "       -9.89710446e-03, -8.71482491e-03,  2.18849808e-01,  9.43607930e-03,\n",
       "       -8.53640959e-03,  4.24455851e-04, -7.14800833e-03, -8.31007212e-03,\n",
       "        4.38355148e-01,  1.12281423e-02, -8.66800267e-03, -5.71816973e-03,\n",
       "       -7.53244292e-03, -8.58819112e-03,  2.22736269e-01,  5.47584444e-02,\n",
       "       -1.00560375e-02, -3.55597399e-03, -7.87417870e-03, -6.74730074e-03,\n",
       "        6.34075254e-02,  6.80070639e-01, -2.50564306e-03, -9.92926024e-03,\n",
       "       -7.86462240e-03, -7.83468969e-03,  4.08373401e-02,  3.62772644e-01,\n",
       "       -3.57127911e-03, -9.26793925e-03, -7.70735368e-03, -8.01162422e-03,\n",
       "       -1.77023020e-02,  3.71635854e-01, -5.36110066e-03, -1.01088379e-02,\n",
       "       -1.07557513e-03, -7.90011790e-03, -1.14999069e-02,  1.03755152e+00,\n",
       "        2.57971436e-02, -1.25489812e-02,  7.02836663e-02, -3.57914995e-03,\n",
       "        3.67355160e-02,  7.20383406e-01,  1.08071402e-01,  3.55701987e-03,\n",
       "        1.36486784e-01,  5.60538545e-02,  6.39227033e-02,  7.03136027e-01,\n",
       "        1.00972258e-01,  1.31387785e-02,  1.41463846e-01,  2.82270312e-02,\n",
       "        1.47638679e-01,  6.54290915e-01,  8.56039450e-02,  1.05808321e-02,\n",
       "        1.06057465e-01,  3.61358285e-01,  3.91764715e-02,  6.62187576e-01,\n",
       "        7.22741708e-02,  3.84783894e-01,  1.52243331e-01,  2.68686004e-02,\n",
       "        3.37842524e-01,  3.64685714e-01,  2.26331905e-01,  3.84721346e-02,\n",
       "        1.62826523e-01,  1.47856381e-02,  1.48897037e-01,  3.72553647e-01,\n",
       "        1.10230908e-01, -8.70271772e-02,  1.83392376e-01,  2.89046049e-01,\n",
       "        1.26280822e-02,  2.52587587e-01,  3.73337418e-01,  3.72030772e-05,\n",
       "        2.26652995e-01,  8.32843035e-03,  5.07821050e-03,  4.59406793e-01,\n",
       "        1.73111916e-01,  1.11985113e-03,  6.73541352e-02,  2.33678699e-01,\n",
       "        1.52426818e-03,  1.05132341e-01,  6.94035366e-02, -1.04877055e-02,\n",
       "        5.21749854e-01,  2.80580856e-02,  1.90926418e-02,  2.08066687e-01,\n",
       "        2.22347036e-01, -6.30436931e-03, -2.03812905e-02, -1.47747388e-03,\n",
       "       -4.14206786e-03,  2.77007669e-01,  5.95448762e-02, -2.59489240e-03,\n",
       "        3.10748033e-02,  2.59213336e-02, -3.76519258e-03,  4.31691408e-02,\n",
       "        5.12593836e-02, -3.69239273e-03,  4.97385412e-02,  8.00702348e-03,\n",
       "       -1.10877748e-03,  4.94991466e-02,  1.42333224e-01, -8.11604131e-03,\n",
       "       -6.80870097e-03,  1.35649517e-02,  2.96166446e-03, -3.36530991e-02,\n",
       "        1.56605780e-01, -3.40178423e-03, -8.31841491e-04,  6.63191825e-03,\n",
       "       -3.06360982e-03, -2.48844326e-02,  6.00975640e-02, -2.08606618e-03,\n",
       "       -2.13086158e-02, -1.25783570e-02, -6.81818463e-03, -2.30229944e-02,\n",
       "        3.02630216e-02, -2.68937368e-03, -4.22467384e-03, -1.06375618e-03,\n",
       "       -4.65381471e-03,  8.08438718e-01,  4.85652685e-03, -4.69837710e-03,\n",
       "       -9.93286073e-03, -3.20252683e-03, -9.06993356e-03, -2.58097751e-03,\n",
       "        1.08437151e-01, -9.06240381e-03, -7.52128754e-03, -9.54874419e-03,\n",
       "        1.39148831e-02, -2.33493503e-02,  4.28389944e-03,  1.37397237e-02,\n",
       "       -1.84456538e-02,  4.87315794e-03], dtype=float32)"
      ]
     },
     "execution_count": 22,
     "metadata": {},
     "output_type": "execute_result"
    }
   ],
   "source": [
    "x2[0]"
   ]
  },
  {
   "cell_type": "code",
   "execution_count": 23,
   "metadata": {},
   "outputs": [
    {
     "data": {
      "text/plain": [
       "array([ 5.32360077e-02, -9.01104417e-03, -8.20380263e-03, -6.52382709e-03,\n",
       "       -8.96532089e-03, -8.20204709e-03,  1.05591401e-01, -1.01910299e-02,\n",
       "       -8.30774009e-03,  2.46346027e-01, -9.67752188e-03, -7.97981024e-03,\n",
       "        1.16022319e-01, -9.50901583e-03, -8.15635268e-03, -2.01027095e-03,\n",
       "       -9.89710353e-03, -8.71482585e-03,  2.18849838e-01,  9.43606254e-03,\n",
       "       -8.53640959e-03,  4.24463302e-04, -7.14800786e-03, -8.31007212e-03,\n",
       "        4.38355148e-01,  1.12281367e-02, -8.66800267e-03, -5.71816415e-03,\n",
       "       -7.53244292e-03, -8.58819112e-03,  2.22736239e-01,  5.47584370e-02,\n",
       "       -1.00560384e-02, -3.55597027e-03, -7.87417777e-03, -6.74730120e-03,\n",
       "        6.34075254e-02,  6.80070639e-01, -2.50563584e-03, -9.92925465e-03,\n",
       "       -7.86462240e-03, -7.83468969e-03,  4.08373177e-02,  3.62772644e-01,\n",
       "       -3.57127818e-03, -9.26793646e-03, -7.70735415e-03, -8.01162422e-03,\n",
       "       -1.77023020e-02,  3.71635944e-01, -5.36109880e-03, -1.01088360e-02,\n",
       "       -1.07557885e-03, -7.90011790e-03, -1.14998994e-02,  1.03755164e+00,\n",
       "        2.57971510e-02, -1.25489794e-02,  7.02836365e-02, -3.57914949e-03,\n",
       "        3.67355309e-02,  7.20383465e-01,  1.08071350e-01,  3.55702639e-03,\n",
       "        1.36486754e-01,  5.60538545e-02,  6.39227107e-02,  7.03136027e-01,\n",
       "        1.00972272e-01,  1.31387822e-02,  1.41463861e-01,  2.82270350e-02,\n",
       "        1.47638708e-01,  6.54291034e-01,  8.56039599e-02,  1.05808266e-02,\n",
       "        1.06057473e-01,  3.61358285e-01,  3.91764641e-02,  6.62187636e-01,\n",
       "        7.22741857e-02,  3.84783924e-01,  1.52243331e-01,  2.68686004e-02,\n",
       "        3.37842554e-01,  3.64685744e-01,  2.26331905e-01,  3.84721048e-02,\n",
       "        1.62826553e-01,  1.47856362e-02,  1.48897037e-01,  3.72553676e-01,\n",
       "        1.10230982e-01, -8.70271772e-02,  1.83392361e-01,  2.89046019e-01,\n",
       "        1.26280915e-02,  2.52587587e-01,  3.73337448e-01,  3.72035429e-05,\n",
       "        2.26652995e-01,  8.32842942e-03,  5.07821143e-03,  4.59406823e-01,\n",
       "        1.73111945e-01,  1.11985020e-03,  6.73541427e-02,  2.33678654e-01,\n",
       "        1.52426912e-03,  1.05132401e-01,  6.94035590e-02, -1.04877055e-02,\n",
       "        5.21749914e-01,  2.80581191e-02,  1.90926511e-02,  2.08066732e-01,\n",
       "        2.22347021e-01, -6.30437024e-03, -2.03812830e-02, -1.47747202e-03,\n",
       "       -4.14206833e-03,  2.77007669e-01,  5.95448837e-02, -2.59489310e-03,\n",
       "        3.10747698e-02,  2.59213727e-02, -3.76519281e-03,  4.31691408e-02,\n",
       "        5.12593836e-02, -3.69239319e-03,  4.97385599e-02,  8.00701976e-03,\n",
       "       -1.10877724e-03,  4.94991355e-02,  1.42333239e-01, -8.11604224e-03,\n",
       "       -6.80870051e-03,  1.35648455e-02,  2.96166446e-03, -3.36531177e-02,\n",
       "        1.56605750e-01, -3.40178469e-03, -8.31840560e-04,  6.63190428e-03,\n",
       "       -3.06360936e-03, -2.48844661e-02,  6.00975715e-02, -2.08606594e-03,\n",
       "       -2.13086158e-02, -1.25783589e-02, -6.81818509e-03, -2.30229944e-02,\n",
       "        3.02630104e-02, -2.68937415e-03, -4.22467338e-03, -1.06375013e-03,\n",
       "       -4.65381518e-03,  8.08438718e-01,  4.85651940e-03, -4.69837710e-03,\n",
       "       -9.93285887e-03, -3.20252636e-03, -9.06993449e-03, -2.58098589e-03,\n",
       "        1.08437128e-01, -9.06240474e-03, -7.52128754e-03, -9.54874232e-03,\n",
       "        1.39148850e-02, -2.33493522e-02,  4.28388268e-03,  1.37397237e-02,\n",
       "       -1.84456557e-02,  4.87315841e-03], dtype=float32)"
      ]
     },
     "execution_count": 23,
     "metadata": {},
     "output_type": "execute_result"
    }
   ],
   "source": [
    "x1[0]"
   ]
  },
  {
   "cell_type": "code",
   "execution_count": null,
   "metadata": {},
   "outputs": [],
   "source": []
  },
  {
   "cell_type": "code",
   "execution_count": null,
   "metadata": {},
   "outputs": [],
   "source": []
  },
  {
   "cell_type": "code",
   "execution_count": null,
   "metadata": {},
   "outputs": [],
   "source": [
    "OUT[1]"
   ]
  },
  {
   "cell_type": "code",
   "execution_count": null,
   "metadata": {},
   "outputs": [],
   "source": [
    "prosit_pp = hdf5Loader.from_hdf5(\"/sdd/berzelius/final_results/delta_0.15/torchResult.hdf5\")"
   ]
  },
  {
   "cell_type": "code",
   "execution_count": null,
   "metadata": {},
   "outputs": [],
   "source": [
    "def chunks(lst, n):\n",
    "    \"\"\"Yield successive n-sized chunks from lst.\"\"\"\n",
    "    for i in range(0, len(lst), n):\n",
    "        X = min(len(lst), i+n)\n",
    "        yield lst[i:X]"
   ]
  },
  {
   "cell_type": "code",
   "execution_count": null,
   "metadata": {},
   "outputs": [],
   "source": [
    "collision_energy_aligned_normed = getVals(prosit_pp, \"collision_energy_aligned_normed\")\n",
    "precursor_charge_onehot = getVals(prosit_pp, \"precursor_charge_onehot\")"
   ]
  },
  {
   "cell_type": "code",
   "execution_count": null,
   "metadata": {},
   "outputs": [],
   "source": [
    "sequence_integer = getVals(prosit_pp, \"sequence_integer\")"
   ]
  },
  {
   "cell_type": "code",
   "execution_count": null,
   "metadata": {},
   "outputs": [],
   "source": [
    "collision_energy_aligned_normed[0]"
   ]
  },
  {
   "cell_type": "code",
   "execution_count": null,
   "metadata": {},
   "outputs": [],
   "source": [
    "precursor_charge_onehot[0]"
   ]
  },
  {
   "cell_type": "code",
   "execution_count": null,
   "metadata": {},
   "outputs": [],
   "source": [
    "sequence_integer[0]"
   ]
  },
  {
   "cell_type": "code",
   "execution_count": null,
   "metadata": {},
   "outputs": [],
   "source": [
    "seq = sequence_integer[0]\n",
    "seq = seq[np.nonzero(seq)]"
   ]
  },
  {
   "cell_type": "code",
   "execution_count": null,
   "metadata": {},
   "outputs": [],
   "source": [
    "peptide = \"\".join([ALPHABET_S[s] for s in seq])"
   ]
  },
  {
   "cell_type": "code",
   "execution_count": null,
   "metadata": {},
   "outputs": [],
   "source": [
    "model = ProteinBertForValuePredictionFragmentationProsit.from_pretrained(\"/sdd/berzelius/final_results/delta_0.15/\")\n",
    "model = model.to(torch.device('cuda:0'))"
   ]
  },
  {
   "cell_type": "code",
   "execution_count": null,
   "metadata": {},
   "outputs": [],
   "source": [
    "ix = 1"
   ]
  },
  {
   "cell_type": "code",
   "execution_count": null,
   "metadata": {},
   "outputs": [],
   "source": [
    "collision_energy = np.array([dataset[ix][3]])\n",
    "charge = dataset[ix][4][None,:]\n",
    "input_ids = dataset[ix][0][None,:]\n",
    "input_mask = dataset[ix][1][None,:]"
   ]
  },
  {
   "cell_type": "code",
   "execution_count": null,
   "metadata": {},
   "outputs": [],
   "source": [
    "toy_data1 = {\n",
    "    'collision_energy': torch.FloatTensor(collision_energy.astype(np.float32)),\n",
    "    'charge': torch.FloatTensor(charge.astype(np.float32)),\n",
    "    'input_ids' : torch.from_numpy(input_ids.astype(np.int64)),\n",
    "    'input_mask' : torch.from_numpy(input_mask.astype(np.int64))\n",
    "        }\n",
    "\n",
    "toy_data1 = {name: tensor.cuda(device=torch.device('cuda:0'), non_blocking=True)\n",
    "                     for name, tensor in toy_data1.items()}"
   ]
  },
  {
   "cell_type": "code",
   "execution_count": null,
   "metadata": {},
   "outputs": [],
   "source": [
    "model(**toy_data1)[0].cpu().detach().numpy()"
   ]
  },
  {
   "cell_type": "code",
   "execution_count": null,
   "metadata": {},
   "outputs": [],
   "source": [
    "CHARGES = [1, 2, 3, 4, 5, 6]\n",
    "def get_precursor_charge_onehot(charges):\n",
    "    array = np.zeros([len(charges), max(CHARGES)], dtype=int)\n",
    "    for i, precursor_charge in enumerate(charges):\n",
    "        array[i, precursor_charge - 1] = 1\n",
    "    return array"
   ]
  },
  {
   "cell_type": "code",
   "execution_count": null,
   "metadata": {},
   "outputs": [],
   "source": [
    "df = pd.read_csv(\"/sdd/prosittransformer/data/prosit_input.csv\", sep=\",\")"
   ]
  },
  {
   "cell_type": "code",
   "execution_count": null,
   "metadata": {},
   "outputs": [],
   "source": [
    "chunk = df.iloc[0,:].values"
   ]
  },
  {
   "cell_type": "code",
   "execution_count": null,
   "metadata": {},
   "outputs": [],
   "source": [
    "collision_energy1 = np.array([chunk[1] / 100.0])"
   ]
  },
  {
   "cell_type": "code",
   "execution_count": null,
   "metadata": {},
   "outputs": [],
   "source": [
    "charge1 = get_precursor_charge_onehot([chunk[2]])"
   ]
  },
  {
   "cell_type": "code",
   "execution_count": null,
   "metadata": {},
   "outputs": [],
   "source": [
    "peptide_sequences1 = chunk[0]"
   ]
  },
  {
   "cell_type": "code",
   "execution_count": null,
   "metadata": {},
   "outputs": [],
   "source": [
    "tokenizer = TAPETokenizer()\n",
    "def TokenizePeptides(peptides):\n",
    "    input_ids = np.array([tokenizer.encode(p) for p in peptides])\n",
    "    return input_ids, np.ones_like(input_ids)"
   ]
  },
  {
   "cell_type": "code",
   "execution_count": null,
   "metadata": {},
   "outputs": [],
   "source": [
    "input_ids1, input_mask1 = TokenizePeptides([peptide_sequences1])"
   ]
  },
  {
   "cell_type": "code",
   "execution_count": null,
   "metadata": {},
   "outputs": [],
   "source": [
    "toy_data2 = {\n",
    "    'collision_energy': torch.FloatTensor(collision_energy1.astype(np.float32)),\n",
    "    'charge': torch.FloatTensor(charge1.astype(np.float32)),\n",
    "    'input_ids' : torch.from_numpy(input_ids1.astype(np.int64)),\n",
    "    'input_mask' : torch.from_numpy(input_mask1.astype(np.int64))\n",
    "        }\n",
    "\n",
    "toy_data2 = {name: tensor.cuda(device=torch.device('cuda:0'), non_blocking=True)\n",
    "                     for name, tensor in toy_data2\n",
    "             .items()}"
   ]
  },
  {
   "cell_type": "code",
   "execution_count": null,
   "metadata": {},
   "outputs": [],
   "source": [
    "toy_data2"
   ]
  },
  {
   "cell_type": "code",
   "execution_count": null,
   "metadata": {},
   "outputs": [],
   "source": [
    "toy_data1"
   ]
  },
  {
   "cell_type": "code",
   "execution_count": null,
   "metadata": {},
   "outputs": [],
   "source": []
  },
  {
   "cell_type": "code",
   "execution_count": null,
   "metadata": {},
   "outputs": [],
   "source": [
    "model(**toy_data2)[0].cpu().detach().numpy()"
   ]
  },
  {
   "cell_type": "code",
   "execution_count": null,
   "metadata": {},
   "outputs": [],
   "source": []
  },
  {
   "cell_type": "code",
   "execution_count": null,
   "metadata": {},
   "outputs": [],
   "source": [
    "collision_energy, charge, peptide_sequences = np.hstack(list(chunk[1] / 100.0)), get_precursor_charge_onehot(list(chunk[2])), list(chunk[0])\n",
    "\n"
   ]
  },
  {
   "cell_type": "code",
   "execution_count": null,
   "metadata": {},
   "outputs": [],
   "source": []
  },
  {
   "cell_type": "code",
   "execution_count": null,
   "metadata": {},
   "outputs": [],
   "source": [
    "DATA[0]"
   ]
  },
  {
   "cell_type": "code",
   "execution_count": null,
   "metadata": {},
   "outputs": [],
   "source": []
  },
  {
   "cell_type": "code",
   "execution_count": null,
   "metadata": {},
   "outputs": [],
   "source": []
  },
  {
   "cell_type": "code",
   "execution_count": null,
   "metadata": {},
   "outputs": [],
   "source": []
  },
  {
   "cell_type": "code",
   "execution_count": null,
   "metadata": {},
   "outputs": [],
   "source": [
    "prosit_pp = hdf5Loader.from_hdf5(\"/sdd/berzelius/final_results/delta_0.15/torchResult.hdf5\")\n",
    "prosit_vanilla = hdf5Loader.from_hdf5(\"/sdd/PrositToTapeDataConverter/hdf5/hcd/HDF5/prediction_hcd_ho.hdf5\")"
   ]
  },
  {
   "cell_type": "code",
   "execution_count": null,
   "metadata": {},
   "outputs": [],
   "source": [
    "ALPHABET = {\n",
    "    \"A\": 1,\n",
    "    \"C\": 2,\n",
    "    \"D\": 3,\n",
    "    \"E\": 4,\n",
    "    \"F\": 5,\n",
    "    \"G\": 6,\n",
    "    \"H\": 7,\n",
    "    \"I\": 8,\n",
    "    \"K\": 9,\n",
    "    \"L\": 10,\n",
    "    \"M\": 11,\n",
    "    \"N\": 12,\n",
    "    \"P\": 13,\n",
    "    \"Q\": 14,\n",
    "    \"R\": 15,\n",
    "    \"S\": 16,\n",
    "    \"T\": 17,\n",
    "    \"V\": 18,\n",
    "    \"W\": 19,\n",
    "    \"Y\": 20,\n",
    "    \"M(ox)\": 21,\n",
    "}\n",
    "ALPHABET_S = {integer: char for char, integer in ALPHABET.items()}"
   ]
  },
  {
   "cell_type": "code",
   "execution_count": null,
   "metadata": {},
   "outputs": [],
   "source": [
    "def chunks(lst, n):\n",
    "    \"\"\"Yield successive n-sized chunks from lst.\"\"\"\n",
    "    for i in range(0, len(lst), n):\n",
    "        X = min(len(lst), i+n)\n",
    "        yield lst[i:X]"
   ]
  },
  {
   "cell_type": "code",
   "execution_count": null,
   "metadata": {},
   "outputs": [],
   "source": [
    "prosit_pp.keys()"
   ]
  },
  {
   "cell_type": "code",
   "execution_count": null,
   "metadata": {},
   "outputs": [],
   "source": [
    "def getVals(data, key):\n",
    "    sa_list = list()\n",
    "    M = data[key]\n",
    "    for b in tqdm(chunks(M, 1000),total =int(len(M) / 1000)):\n",
    "        sa_list.append(b)\n",
    "    all_sa = [s for sa in sa_list for s in sa]\n",
    "    return np.array(all_sa)"
   ]
  },
  {
   "cell_type": "code",
   "execution_count": null,
   "metadata": {},
   "outputs": [],
   "source": [
    "prosit_pp.keys()"
   ]
  },
  {
   "cell_type": "code",
   "execution_count": null,
   "metadata": {},
   "outputs": [],
   "source": [
    "collision_energy_aligned_normed = getVals(prosit_pp, \"collision_energy_aligned_normed\")\n",
    "precursor_charge_onehot = getVals(prosit_pp, \"precursor_charge_onehot\")\n"
   ]
  },
  {
   "cell_type": "code",
   "execution_count": null,
   "metadata": {},
   "outputs": [],
   "source": [
    "sequence_integer = getVals(prosit_pp, \"sequence_integer\")"
   ]
  },
  {
   "cell_type": "code",
   "execution_count": null,
   "metadata": {},
   "outputs": [],
   "source": [
    "pp_intensities_pred = getVals(prosit_pp, \"intensities_pred\")\n",
    "pp_intensities_raw = getVals(prosit_pp, \"intensities_raw\")"
   ]
  },
  {
   "cell_type": "code",
   "execution_count": null,
   "metadata": {},
   "outputs": [],
   "source": [
    "vanilla_intensities_pred = getVals(prosit_vanilla, \"intensities_pred\")\n",
    "vanilla_intensities_raw = getVals(prosit_vanilla, \"intensities_raw\")"
   ]
  },
  {
   "cell_type": "code",
   "execution_count": null,
   "metadata": {},
   "outputs": [],
   "source": [
    "X = np.load(\"/sdd/prosittransformer/data/delta_0.15/predicted_spectra.npy\")"
   ]
  },
  {
   "cell_type": "code",
   "execution_count": null,
   "metadata": {},
   "outputs": [],
   "source": [
    "X[1]"
   ]
  },
  {
   "cell_type": "code",
   "execution_count": null,
   "metadata": {},
   "outputs": [],
   "source": [
    "pp_intensities_pred[1]"
   ]
  },
  {
   "cell_type": "code",
   "execution_count": null,
   "metadata": {},
   "outputs": [],
   "source": []
  },
  {
   "cell_type": "code",
   "execution_count": null,
   "metadata": {},
   "outputs": [],
   "source": [
    "charge = np.where(precursor_charge_onehot)[1]"
   ]
  },
  {
   "cell_type": "code",
   "execution_count": null,
   "metadata": {},
   "outputs": [],
   "source": [
    "mask = [True if 0 < c and c <3 else False for c in charge]"
   ]
  },
  {
   "cell_type": "code",
   "execution_count": null,
   "metadata": {},
   "outputs": [],
   "source": [
    "mask2 = [True if 21 not in seq else False for seq in sequence_integer]"
   ]
  },
  {
   "cell_type": "code",
   "execution_count": null,
   "metadata": {},
   "outputs": [],
   "source": [
    "sum(mask2)"
   ]
  },
  {
   "cell_type": "code",
   "execution_count": null,
   "metadata": {},
   "outputs": [],
   "source": []
  },
  {
   "cell_type": "code",
   "execution_count": null,
   "metadata": {},
   "outputs": [],
   "source": [
    "MASK = [all([m1, m2]) for m1, m2 in zip(mask, mask2)]"
   ]
  },
  {
   "cell_type": "code",
   "execution_count": null,
   "metadata": {},
   "outputs": [],
   "source": [
    "pp_sa = cleanTapeOutput.masked_spectral_distance(pp_intensities_raw[MASK], pp_intensities_pred[MASK])\n",
    "1 - np.median(pp_sa)"
   ]
  },
  {
   "cell_type": "code",
   "execution_count": null,
   "metadata": {},
   "outputs": [],
   "source": [
    "vanilla_sa = cleanTapeOutput.masked_spectral_distance(vanilla_intensities_raw[MASK], vanilla_intensities_pred[MASK])\n",
    "1 - np.median(vanilla_sa)"
   ]
  },
  {
   "cell_type": "code",
   "execution_count": null,
   "metadata": {},
   "outputs": [],
   "source": [
    "modified_sequence = [\"\".join([ALPHABET_S[s] for s in seq[np.nonzero(seq)]]) for seq in sequence_integer[MASK]]"
   ]
  },
  {
   "cell_type": "code",
   "execution_count": null,
   "metadata": {},
   "outputs": [],
   "source": [
    "charge_val = charge[MASK] + 1\n",
    "    "
   ]
  },
  {
   "cell_type": "code",
   "execution_count": null,
   "metadata": {},
   "outputs": [],
   "source": [
    "col_energy = collision_energy_aligned_normed[MASK] * 100"
   ]
  },
  {
   "cell_type": "code",
   "execution_count": null,
   "metadata": {},
   "outputs": [],
   "source": [
    "len(col_energy)"
   ]
  },
  {
   "cell_type": "code",
   "execution_count": null,
   "metadata": {},
   "outputs": [],
   "source": [
    "len(charge_val)"
   ]
  },
  {
   "cell_type": "code",
   "execution_count": null,
   "metadata": {},
   "outputs": [],
   "source": [
    "len(modified_sequence)"
   ]
  },
  {
   "cell_type": "code",
   "execution_count": null,
   "metadata": {},
   "outputs": [],
   "source": []
  },
  {
   "cell_type": "code",
   "execution_count": null,
   "metadata": {},
   "outputs": [],
   "source": [
    "df = pd.DataFrame([[p, col, c] for p, c, col in zip(modified_sequence, charge_val, col_energy)], \n",
    "             columns=[\"modified_sequence\",\"collision_energy\",\"precursor_charge\"])"
   ]
  },
  {
   "cell_type": "code",
   "execution_count": null,
   "metadata": {},
   "outputs": [],
   "source": [
    "df.to_csv(\"/sdd/prosittransformer/data/prosit_input.csv\", index=False, sep=\",\")"
   ]
  },
  {
   "cell_type": "code",
   "execution_count": null,
   "metadata": {},
   "outputs": [],
   "source": [
    "'collision_energy_aligned_normed', 'sequence_integer', 'precursor_charge_onehot', 'masses_pred', 'intensities_pred', 'iRT'"
   ]
  },
  {
   "cell_type": "code",
   "execution_count": null,
   "metadata": {},
   "outputs": [],
   "source": [
    "all_results = pkl.load(open(\"/sdd/prosittransformer/data/all_result.pkl\", \"rb\"))"
   ]
  },
  {
   "cell_type": "code",
   "execution_count": null,
   "metadata": {},
   "outputs": [],
   "source": [
    "all_results.keys()"
   ]
  },
  {
   "cell_type": "code",
   "execution_count": null,
   "metadata": {},
   "outputs": [],
   "source": []
  },
  {
   "cell_type": "code",
   "execution_count": null,
   "metadata": {},
   "outputs": [],
   "source": []
  },
  {
   "cell_type": "code",
   "execution_count": null,
   "metadata": {},
   "outputs": [],
   "source": [
    "all([p1==p2 for p1, p2 in zip(modified_sequence, all_results['modified_sequence'])])"
   ]
  },
  {
   "cell_type": "code",
   "execution_count": null,
   "metadata": {},
   "outputs": [],
   "source": [
    "all_results['modified_sequence']"
   ]
  },
  {
   "cell_type": "code",
   "execution_count": null,
   "metadata": {},
   "outputs": [],
   "source": [
    "all_results['iRT']"
   ]
  },
  {
   "cell_type": "code",
   "execution_count": null,
   "metadata": {},
   "outputs": [],
   "source": [
    "0 < charge[0] and charge[0] <3"
   ]
  },
  {
   "cell_type": "code",
   "execution_count": null,
   "metadata": {},
   "outputs": [],
   "source": []
  },
  {
   "cell_type": "code",
   "execution_count": null,
   "metadata": {},
   "outputs": [],
   "source": [
    "pp_sa = cleanTapeOutput.masked_spectral_distance(pp_intensities_raw, pp_intensities_pred)\n",
    "1 - np.median(pp_sa)"
   ]
  },
  {
   "cell_type": "code",
   "execution_count": null,
   "metadata": {},
   "outputs": [],
   "source": [
    "vanilla_sa = cleanTapeOutput.masked_spectral_distance(vanilla_intensities_raw, vanilla_intensities_pred)\n",
    "1 - np.median(vanilla_sa)"
   ]
  },
  {
   "cell_type": "code",
   "execution_count": null,
   "metadata": {},
   "outputs": [],
   "source": []
  },
  {
   "cell_type": "code",
   "execution_count": null,
   "metadata": {},
   "outputs": [],
   "source": []
  },
  {
   "cell_type": "code",
   "execution_count": null,
   "metadata": {},
   "outputs": [],
   "source": [
    "1 - np.median(pp_sa)"
   ]
  },
  {
   "cell_type": "code",
   "execution_count": null,
   "metadata": {},
   "outputs": [],
   "source": []
  },
  {
   "cell_type": "code",
   "execution_count": null,
   "metadata": {},
   "outputs": [],
   "source": [
    "np.median(all_sa)"
   ]
  },
  {
   "cell_type": "code",
   "execution_count": null,
   "metadata": {},
   "outputs": [],
   "source": []
  },
  {
   "cell_type": "code",
   "execution_count": null,
   "metadata": {},
   "outputs": [],
   "source": []
  }
 ],
 "metadata": {
  "kernelspec": {
   "display_name": "Python (tapeConvert2)",
   "language": "python",
   "name": "tapeconvert2"
  },
  "language_info": {
   "codemirror_mode": {
    "name": "ipython",
    "version": 3
   },
   "file_extension": ".py",
   "mimetype": "text/x-python",
   "name": "python",
   "nbconvert_exporter": "python",
   "pygments_lexer": "ipython3",
   "version": "3.6.13"
  }
 },
 "nbformat": 4,
 "nbformat_minor": 2
}
