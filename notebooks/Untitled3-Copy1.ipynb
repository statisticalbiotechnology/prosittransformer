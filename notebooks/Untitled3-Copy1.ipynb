{
 "cells": [
  {
   "cell_type": "code",
   "execution_count": 1,
   "metadata": {},
   "outputs": [],
   "source": [
    "%config Completer.use_jedi = False\n",
    "\n"
   ]
  },
  {
   "cell_type": "code",
   "execution_count": 2,
   "metadata": {},
   "outputs": [],
   "source": [
    "import torch\n",
    "from tape import TAPETokenizer"
   ]
  },
  {
   "cell_type": "code",
   "execution_count": 3,
   "metadata": {},
   "outputs": [],
   "source": [
    "from tape import ProteinBertForValuePredictionFragmentationProsit"
   ]
  },
  {
   "cell_type": "code",
   "execution_count": 4,
   "metadata": {},
   "outputs": [],
   "source": [
    "import pickle as pkl"
   ]
  },
  {
   "cell_type": "code",
   "execution_count": 5,
   "metadata": {},
   "outputs": [],
   "source": [
    "import pandas as pd"
   ]
  },
  {
   "cell_type": "code",
   "execution_count": 6,
   "metadata": {},
   "outputs": [],
   "source": [
    "import numpy as np"
   ]
  },
  {
   "cell_type": "code",
   "execution_count": 7,
   "metadata": {},
   "outputs": [],
   "source": [
    "from tqdm import tqdm"
   ]
  },
  {
   "cell_type": "code",
   "execution_count": 8,
   "metadata": {},
   "outputs": [],
   "source": [
    "from prosittransformer.DataHandler import pad_sequences"
   ]
  },
  {
   "cell_type": "code",
   "execution_count": 9,
   "metadata": {},
   "outputs": [],
   "source": [
    "from prosittransformer.utils import hdf5Loader\n",
    "from prosittransformer.utils import cleanTapeOutput"
   ]
  },
  {
   "cell_type": "code",
   "execution_count": 46,
   "metadata": {},
   "outputs": [],
   "source": [
    "from tape.datasets import PrositFragmentationDataset\n",
    "from torch.utils.data import DataLoader"
   ]
  },
  {
   "cell_type": "code",
   "execution_count": 49,
   "metadata": {},
   "outputs": [],
   "source": [
    "dataset = PrositFragmentationDataset(\"/sdd/PrositToTapeDataConverter/LMDB/\", split=\"test\")"
   ]
  },
  {
   "cell_type": "code",
   "execution_count": 52,
   "metadata": {},
   "outputs": [],
   "source": [
    "loader = DataLoader(dataset, \n",
    "                    num_workers=6,\n",
    "                    collate_fn=dataset.collate_fn,\n",
    "                    batch_size=2)"
   ]
  },
  {
   "cell_type": "code",
   "execution_count": 65,
   "metadata": {},
   "outputs": [],
   "source": [
    "b = next(iter(loader))"
   ]
  },
  {
   "cell_type": "code",
   "execution_count": 66,
   "metadata": {},
   "outputs": [],
   "source": [
    "b = {name: tensor.cuda(device=torch.device('cuda:0'), non_blocking=True)\n",
    "                     for name, tensor in b.items()}"
   ]
  },
  {
   "cell_type": "code",
   "execution_count": 79,
   "metadata": {},
   "outputs": [
    {
     "data": {
      "text/plain": [
       "(array([ 2, 28,  8, 15, 25, 17, 15,  5, 25, 14,  3]),\n",
       " array([1, 1, 1, 1, 1, 1, 1, 1, 1, 1, 1]),\n",
       " array([ 0.13968435,  0.        , -1.        ,  0.        ,  0.        ,\n",
       "        -1.        ,  0.14424464,  0.        , -1.        ,  0.8619605 ,\n",
       "         0.        , -1.        ,  0.1845281 ,  0.        , -1.        ,\n",
       "         0.18278196,  0.        , -1.        ,  0.11517897,  0.        ,\n",
       "        -1.        ,  0.00940706,  0.        , -1.        ,  0.6255413 ,\n",
       "         0.        , -1.        ,  0.        ,  0.        , -1.        ,\n",
       "         0.72780836,  0.        , -1.        ,  0.01233532,  0.        ,\n",
       "        -1.        ,  1.        ,  0.04024543, -1.        ,  0.01418118,\n",
       "         0.        , -1.        ,  0.78416973,  0.        , -1.        ,\n",
       "         0.        ,  0.        , -1.        , -1.        , -1.        ,\n",
       "        -1.        , -1.        , -1.        , -1.        , -1.        ,\n",
       "        -1.        , -1.        , -1.        , -1.        , -1.        ,\n",
       "        -1.        , -1.        , -1.        , -1.        , -1.        ,\n",
       "        -1.        , -1.        , -1.        , -1.        , -1.        ,\n",
       "        -1.        , -1.        , -1.        , -1.        , -1.        ,\n",
       "        -1.        , -1.        , -1.        , -1.        , -1.        ,\n",
       "        -1.        , -1.        , -1.        , -1.        , -1.        ,\n",
       "        -1.        , -1.        , -1.        , -1.        , -1.        ,\n",
       "        -1.        , -1.        , -1.        , -1.        , -1.        ,\n",
       "        -1.        , -1.        , -1.        , -1.        , -1.        ,\n",
       "        -1.        , -1.        , -1.        , -1.        , -1.        ,\n",
       "        -1.        , -1.        , -1.        , -1.        , -1.        ,\n",
       "        -1.        , -1.        , -1.        , -1.        , -1.        ,\n",
       "        -1.        , -1.        , -1.        , -1.        , -1.        ,\n",
       "        -1.        , -1.        , -1.        , -1.        , -1.        ,\n",
       "        -1.        , -1.        , -1.        , -1.        , -1.        ,\n",
       "        -1.        , -1.        , -1.        , -1.        , -1.        ,\n",
       "        -1.        , -1.        , -1.        , -1.        , -1.        ,\n",
       "        -1.        , -1.        , -1.        , -1.        , -1.        ,\n",
       "        -1.        , -1.        , -1.        , -1.        , -1.        ,\n",
       "        -1.        , -1.        , -1.        , -1.        , -1.        ,\n",
       "        -1.        , -1.        , -1.        , -1.        , -1.        ,\n",
       "        -1.        , -1.        , -1.        , -1.        , -1.        ,\n",
       "        -1.        , -1.        , -1.        , -1.        , -1.        ,\n",
       "        -1.        , -1.        , -1.        , -1.        ], dtype=float32),\n",
       " array(0.32097942, dtype=float32),\n",
       " array([0, 1, 0, 0, 0, 0], dtype=uint8))"
      ]
     },
     "execution_count": 79,
     "metadata": {},
     "output_type": "execute_result"
    }
   ],
   "source": [
    "dataset[1]"
   ]
  },
  {
   "cell_type": "code",
   "execution_count": 80,
   "metadata": {},
   "outputs": [],
   "source": [
    "OUT = model(**b)[1].cpu().detach().numpy()"
   ]
  },
  {
   "cell_type": "code",
   "execution_count": 81,
   "metadata": {},
   "outputs": [
    {
     "data": {
      "text/plain": [
       "array([ 2.52864778e-01, -1.48597881e-02, -9.85823199e-03,  9.00416169e-04,\n",
       "       -1.48429275e-02, -9.86088440e-03,  2.58889228e-01, -1.67866889e-02,\n",
       "       -9.96968430e-03,  1.27201343e+00, -1.61841735e-02, -9.46859922e-03,\n",
       "        3.22919071e-01, -1.57978255e-02, -9.07052495e-03,  2.76647329e-01,\n",
       "       -1.38033116e-02, -9.17060953e-03,  1.85729593e-01, -1.34213371e-02,\n",
       "       -9.44500789e-03,  1.37496516e-02, -1.26059288e-02, -1.10700261e-02,\n",
       "        8.45821619e-01, -9.83877294e-03, -9.81847849e-03,  2.73358636e-03,\n",
       "       -1.52619109e-02, -8.54323618e-03,  9.64756012e-01, -1.19160330e-02,\n",
       "       -2.83062998e-02,  7.46198371e-03, -1.57763287e-02, -8.96913558e-03,\n",
       "        1.29648697e+00,  2.61553861e-02,  3.04961428e-02, -8.25246796e-04,\n",
       "       -1.42647419e-02,  3.30376439e-03,  9.29014444e-01, -1.47014307e-02,\n",
       "        7.59038702e-02, -1.48373926e-02, -1.65109988e-02,  4.16598976e-01,\n",
       "        1.03467786e+00,  4.25279647e-01,  2.39662990e-01,  4.71133441e-02,\n",
       "        1.81184523e-02,  1.88423455e-01,  8.36425662e-01,  5.21492004e-01,\n",
       "        3.57508838e-01,  1.91971868e-01,  1.06023528e-01,  1.57503307e-01,\n",
       "        7.25522995e-01,  8.16167593e-01,  1.27980977e-01,  1.92401722e-01,\n",
       "        2.01343328e-01,  1.63227737e-01,  5.35853088e-01,  8.98032606e-01,\n",
       "        3.59273881e-01,  3.08346152e-02,  1.52895942e-01,  2.88020559e-02,\n",
       "        4.32482630e-01,  9.57211852e-01,  4.51487631e-01,  1.63954675e-01,\n",
       "        3.68119776e-01,  1.06003217e-01,  3.36224407e-01,  8.43124866e-01,\n",
       "        3.76262575e-01,  5.25595360e-02,  2.90504634e-01,  9.33168232e-02,\n",
       "        1.07807100e-01,  7.37235069e-01,  4.02006507e-01,  6.01911843e-02,\n",
       "        2.11783022e-01,  1.87947989e-01,  2.59690434e-01,  4.28151578e-01,\n",
       "        7.81757772e-01,  4.52022068e-02,  1.43681034e-01, -8.22466686e-02,\n",
       "        8.32967013e-02,  8.19486678e-01,  2.37015784e-01,  4.55998071e-02,\n",
       "        1.22295901e-01,  7.73060262e-01,  1.64184958e-01,  4.26484078e-01,\n",
       "        1.94306538e-01, -1.14369569e-02,  1.71609268e-01,  4.97492611e-01,\n",
       "        4.71868273e-03,  3.21072489e-01,  3.31453979e-01, -8.91120546e-03,\n",
       "        1.24126330e-01, -4.19928096e-02,  1.30947456e-02,  2.53648937e-01,\n",
       "        2.58475214e-01, -1.16810948e-02,  1.48571432e-01,  4.71758217e-01,\n",
       "       -1.73354372e-02,  1.60701379e-01,  1.18866138e-01, -9.05151945e-03,\n",
       "        2.21118584e-01,  1.68298289e-01, -1.29009681e-02,  8.96843895e-02,\n",
       "        9.33222696e-02, -1.12231802e-02,  1.91445157e-01,  4.01903763e-02,\n",
       "       -4.09126142e-03, -1.36257298e-02,  1.23274945e-01, -1.50075881e-02,\n",
       "        3.42348784e-01,  7.37699866e-01,  4.75267041e-03,  1.90480091e-02,\n",
       "        1.01975881e-01, -9.63207055e-03,  3.63287106e-02,  5.78982085e-02,\n",
       "       -4.33427235e-03, -4.53569405e-02,  1.10031981e-02, -3.81590007e-03,\n",
       "        2.23742872e-02,  8.33511204e-02, -1.59156881e-02, -2.54055522e-02,\n",
       "        1.10733174e-01, -8.74785148e-03,  1.18978415e-02, -2.53973603e-02,\n",
       "       -6.05724566e-03, -4.10197079e-02, -5.99642470e-03, -6.25568535e-03,\n",
       "        2.29204493e-03, -3.00541637e-03, -1.52328573e-02, -5.17226160e-02,\n",
       "        1.00387722e-01, -1.52432136e-02,  1.92310140e-02, -6.20406400e-03,\n",
       "        2.90809833e-02, -3.85496952e-02,  2.60188609e-01,  2.89663486e-02,\n",
       "       -2.79062353e-02, -6.86811935e-03], dtype=float32)"
      ]
     },
     "execution_count": 81,
     "metadata": {},
     "output_type": "execute_result"
    }
   ],
   "source": [
    "OUT[1]"
   ]
  },
  {
   "cell_type": "code",
   "execution_count": 12,
   "metadata": {},
   "outputs": [
    {
     "name": "stdout",
     "output_type": "stream",
     "text": [
      "WARNING:tensorflow:From /sdd/prosittransformer/prosittransformer/utils.py:73: HDF5Matrix.__init__ (from tensorflow.python.keras.utils.io_utils) is deprecated and will be removed after 2020-05-30.\n",
      "Instructions for updating:\n",
      "Training with HDF5Matrix is not optimized for performance. Instead, we recommend using https://github.com/tensorflow/io to load your HDF5 data into a tf.data Dataset and passing that dataset to Keras.\n"
     ]
    },
    {
     "name": "stderr",
     "output_type": "stream",
     "text": [
      "/home/ekvall/anaconda3/envs/tapeConvert2/lib/python3.6/site-packages/tensorflow/python/keras/utils/io_utils.py:133: H5pyDeprecationWarning: The default file mode will change to 'r' (read-only) in h5py 3.0. To suppress this warning, pass the mode you need to h5py.File(), or set the global default h5.get_config().default_file_mode, or set the environment variable H5PY_DEFAULT_READONLY=1. Available modes are: 'r', 'r+', 'w', 'w-'/'x', 'a'. See the docs for details.\n",
      "  f = h5py.File(datapath)\n"
     ]
    }
   ],
   "source": [
    "prosit_pp = hdf5Loader.from_hdf5(\"/sdd/berzelius/final_results/delta_0.15/torchResult.hdf5\")"
   ]
  },
  {
   "cell_type": "code",
   "execution_count": 13,
   "metadata": {},
   "outputs": [],
   "source": [
    "def chunks(lst, n):\n",
    "    \"\"\"Yield successive n-sized chunks from lst.\"\"\"\n",
    "    for i in range(0, len(lst), n):\n",
    "        X = min(len(lst), i+n)\n",
    "        yield lst[i:X]"
   ]
  },
  {
   "cell_type": "code",
   "execution_count": 14,
   "metadata": {},
   "outputs": [
    {
     "ename": "NameError",
     "evalue": "name 'getVals' is not defined",
     "output_type": "error",
     "traceback": [
      "\u001b[0;31m---------------------------------------------------------------------------\u001b[0m",
      "\u001b[0;31mNameError\u001b[0m                                 Traceback (most recent call last)",
      "\u001b[0;32m<ipython-input-14-416be14172da>\u001b[0m in \u001b[0;36m<module>\u001b[0;34m\u001b[0m\n\u001b[0;32m----> 1\u001b[0;31m \u001b[0mcollision_energy_aligned_normed\u001b[0m \u001b[0;34m=\u001b[0m \u001b[0mgetVals\u001b[0m\u001b[0;34m(\u001b[0m\u001b[0mprosit_pp\u001b[0m\u001b[0;34m,\u001b[0m \u001b[0;34m\"collision_energy_aligned_normed\"\u001b[0m\u001b[0;34m)\u001b[0m\u001b[0;34m\u001b[0m\u001b[0;34m\u001b[0m\u001b[0m\n\u001b[0m\u001b[1;32m      2\u001b[0m \u001b[0mprecursor_charge_onehot\u001b[0m \u001b[0;34m=\u001b[0m \u001b[0mgetVals\u001b[0m\u001b[0;34m(\u001b[0m\u001b[0mprosit_pp\u001b[0m\u001b[0;34m,\u001b[0m \u001b[0;34m\"precursor_charge_onehot\"\u001b[0m\u001b[0;34m)\u001b[0m\u001b[0;34m\u001b[0m\u001b[0;34m\u001b[0m\u001b[0m\n",
      "\u001b[0;31mNameError\u001b[0m: name 'getVals' is not defined"
     ]
    }
   ],
   "source": [
    "collision_energy_aligned_normed = getVals(prosit_pp, \"collision_energy_aligned_normed\")\n",
    "precursor_charge_onehot = getVals(prosit_pp, \"precursor_charge_onehot\")"
   ]
  },
  {
   "cell_type": "code",
   "execution_count": null,
   "metadata": {},
   "outputs": [],
   "source": [
    "sequence_integer = getVals(prosit_pp, \"sequence_integer\")"
   ]
  },
  {
   "cell_type": "code",
   "execution_count": null,
   "metadata": {},
   "outputs": [],
   "source": [
    "collision_energy_aligned_normed[0]"
   ]
  },
  {
   "cell_type": "code",
   "execution_count": null,
   "metadata": {},
   "outputs": [],
   "source": [
    "precursor_charge_onehot[0]"
   ]
  },
  {
   "cell_type": "code",
   "execution_count": null,
   "metadata": {},
   "outputs": [],
   "source": [
    "sequence_integer[0]"
   ]
  },
  {
   "cell_type": "code",
   "execution_count": null,
   "metadata": {},
   "outputs": [],
   "source": [
    "seq = sequence_integer[0]\n",
    "seq = seq[np.nonzero(seq)]"
   ]
  },
  {
   "cell_type": "code",
   "execution_count": null,
   "metadata": {},
   "outputs": [],
   "source": [
    "peptide = \"\".join([ALPHABET_S[s] for s in seq])"
   ]
  },
  {
   "cell_type": "code",
   "execution_count": 64,
   "metadata": {},
   "outputs": [],
   "source": [
    "model = ProteinBertForValuePredictionFragmentationProsit.from_pretrained(\"/sdd/berzelius/final_results/delta_0.15/\")\n",
    "model = model.to(torch.device('cuda:0'))"
   ]
  },
  {
   "cell_type": "code",
   "execution_count": 82,
   "metadata": {},
   "outputs": [],
   "source": [
    "ix = 1"
   ]
  },
  {
   "cell_type": "code",
   "execution_count": 83,
   "metadata": {},
   "outputs": [],
   "source": [
    "collision_energy = np.array([dataset[ix][3]])\n",
    "charge = dataset[ix][4][None,:]\n",
    "input_ids = dataset[ix][0][None,:]\n",
    "input_mask = dataset[ix][1][None,:]"
   ]
  },
  {
   "cell_type": "code",
   "execution_count": 84,
   "metadata": {},
   "outputs": [],
   "source": [
    "toy_data1 = {\n",
    "    'collision_energy': torch.FloatTensor(collision_energy.astype(np.float32)),\n",
    "    'charge': torch.FloatTensor(charge.astype(np.float32)),\n",
    "    'input_ids' : torch.from_numpy(input_ids.astype(np.int64)),\n",
    "    'input_mask' : torch.from_numpy(input_mask.astype(np.int64))\n",
    "        }\n",
    "\n",
    "toy_data1 = {name: tensor.cuda(device=torch.device('cuda:0'), non_blocking=True)\n",
    "                     for name, tensor in toy_data1.items()}"
   ]
  },
  {
   "cell_type": "code",
   "execution_count": 85,
   "metadata": {},
   "outputs": [
    {
     "data": {
      "text/plain": [
       "array([[ 2.52864689e-01, -1.48597881e-02, -9.85823199e-03,\n",
       "         9.00415704e-04, -1.48429256e-02, -9.86088254e-03,\n",
       "         2.58889228e-01, -1.67866908e-02, -9.96968336e-03,\n",
       "         1.27201343e+00, -1.61841717e-02, -9.46859829e-03,\n",
       "         3.22919011e-01, -1.57978237e-02, -9.07052495e-03,\n",
       "         2.76647329e-01, -1.38033116e-02, -9.17060860e-03,\n",
       "         1.85729593e-01, -1.34213362e-02, -9.44500789e-03,\n",
       "         1.37496516e-02, -1.26059279e-02, -1.10700252e-02,\n",
       "         8.45821619e-01, -9.83877294e-03, -9.81847756e-03,\n",
       "         2.73358263e-03, -1.52619118e-02, -8.54323618e-03,\n",
       "         9.64756012e-01, -1.19160376e-02, -2.83063017e-02,\n",
       "         7.46197999e-03, -1.57763269e-02, -8.96913558e-03,\n",
       "         1.29648685e+00,  2.61553898e-02,  3.04961428e-02,\n",
       "        -8.25254247e-04, -1.42647410e-02,  3.30376625e-03,\n",
       "         9.29014385e-01, -1.47014335e-02,  7.59038702e-02,\n",
       "        -1.48373973e-02, -1.65109932e-02,  4.16599005e-01,\n",
       "         1.03467786e+00,  4.25279588e-01,  2.39663020e-01,\n",
       "         4.71133590e-02,  1.81184299e-02,  1.88423455e-01,\n",
       "         8.36425662e-01,  5.21492064e-01,  3.57508838e-01,\n",
       "         1.91971868e-01,  1.06023505e-01,  1.57503277e-01,\n",
       "         7.25523114e-01,  8.16167712e-01,  1.27980992e-01,\n",
       "         1.92401737e-01,  2.01343358e-01,  1.63227722e-01,\n",
       "         5.35853207e-01,  8.98032665e-01,  3.59273911e-01,\n",
       "         3.08346003e-02,  1.52895913e-01,  2.88020596e-02,\n",
       "         4.32482690e-01,  9.57211852e-01,  4.51487601e-01,\n",
       "         1.63954690e-01,  3.68119717e-01,  1.06003232e-01,\n",
       "         3.36224318e-01,  8.43124866e-01,  3.76262635e-01,\n",
       "         5.25595360e-02,  2.90504634e-01,  9.33168381e-02,\n",
       "         1.07807092e-01,  7.37235129e-01,  4.02006388e-01,\n",
       "         6.01911992e-02,  2.11783007e-01,  1.87947959e-01,\n",
       "         2.59690434e-01,  4.28151488e-01,  7.81757772e-01,\n",
       "         4.52022143e-02,  1.43681020e-01, -8.22466686e-02,\n",
       "         8.32967237e-02,  8.19486618e-01,  2.37015769e-01,\n",
       "         4.55997996e-02,  1.22295871e-01,  7.73060262e-01,\n",
       "         1.64184973e-01,  4.26484078e-01,  1.94306538e-01,\n",
       "        -1.14369560e-02,  1.71609268e-01,  4.97492552e-01,\n",
       "         4.71868739e-03,  3.21072519e-01,  3.31453949e-01,\n",
       "        -8.91120452e-03,  1.24126330e-01, -4.19928581e-02,\n",
       "         1.30947400e-02,  2.53648877e-01,  2.58475155e-01,\n",
       "        -1.16810929e-02,  1.48571476e-01,  4.71758187e-01,\n",
       "        -1.73354372e-02,  1.60701349e-01,  1.18866138e-01,\n",
       "        -9.05151851e-03,  2.21118569e-01,  1.68298289e-01,\n",
       "        -1.29009672e-02,  8.96843970e-02,  9.33222920e-02,\n",
       "        -1.12231784e-02,  1.91445142e-01,  4.01903801e-02,\n",
       "        -4.09126095e-03, -1.36257373e-02,  1.23274967e-01,\n",
       "        -1.50075871e-02,  3.42348725e-01,  7.37699926e-01,\n",
       "         4.75267041e-03,  1.90479904e-02,  1.01975895e-01,\n",
       "        -9.63206962e-03,  3.63287106e-02,  5.78982271e-02,\n",
       "        -4.33427189e-03, -4.53569368e-02,  1.10032149e-02,\n",
       "        -3.81589914e-03,  2.23742817e-02,  8.33511353e-02,\n",
       "        -1.59156881e-02, -2.54055485e-02,  1.10733189e-01,\n",
       "        -8.74785054e-03,  1.18978396e-02, -2.53973715e-02,\n",
       "        -6.05724519e-03, -4.10197079e-02, -5.99641725e-03,\n",
       "        -6.25568535e-03,  2.29203748e-03, -3.00541846e-03,\n",
       "        -1.52328555e-02, -5.17226197e-02,  1.00387700e-01,\n",
       "        -1.52432127e-02,  1.92310102e-02, -6.20406028e-03,\n",
       "         2.90809833e-02, -3.85496952e-02,  2.60188699e-01,\n",
       "         2.89663449e-02, -2.79062334e-02, -6.86811563e-03]], dtype=float32)"
      ]
     },
     "execution_count": 85,
     "metadata": {},
     "output_type": "execute_result"
    }
   ],
   "source": [
    "model(**toy_data1)[0].cpu().detach().numpy()"
   ]
  },
  {
   "cell_type": "code",
   "execution_count": 22,
   "metadata": {},
   "outputs": [],
   "source": [
    "CHARGES = [1, 2, 3, 4, 5, 6]\n",
    "def get_precursor_charge_onehot(charges):\n",
    "    array = np.zeros([len(charges), max(CHARGES)], dtype=int)\n",
    "    for i, precursor_charge in enumerate(charges):\n",
    "        array[i, precursor_charge - 1] = 1\n",
    "    return array"
   ]
  },
  {
   "cell_type": "code",
   "execution_count": 23,
   "metadata": {},
   "outputs": [],
   "source": [
    "df = pd.read_csv(\"/sdd/prosittransformer/data/prosit_input.csv\", sep=\",\")"
   ]
  },
  {
   "cell_type": "code",
   "execution_count": 24,
   "metadata": {},
   "outputs": [],
   "source": [
    "chunk = df.iloc[0,:].values"
   ]
  },
  {
   "cell_type": "code",
   "execution_count": 25,
   "metadata": {},
   "outputs": [],
   "source": [
    "collision_energy1 = np.array([chunk[1] / 100.0])"
   ]
  },
  {
   "cell_type": "code",
   "execution_count": 26,
   "metadata": {},
   "outputs": [],
   "source": [
    "charge1 = get_precursor_charge_onehot([chunk[2]])"
   ]
  },
  {
   "cell_type": "code",
   "execution_count": 27,
   "metadata": {},
   "outputs": [],
   "source": [
    "peptide_sequences1 = chunk[0]"
   ]
  },
  {
   "cell_type": "code",
   "execution_count": 40,
   "metadata": {},
   "outputs": [],
   "source": [
    "tokenizer = TAPETokenizer()\n",
    "def TokenizePeptides(peptides):\n",
    "    input_ids = np.array([tokenizer.encode(p) for p in peptides])\n",
    "    return input_ids, np.ones_like(input_ids)"
   ]
  },
  {
   "cell_type": "code",
   "execution_count": 41,
   "metadata": {},
   "outputs": [],
   "source": [
    "input_ids1, input_mask1 = TokenizePeptides([peptide_sequences1])"
   ]
  },
  {
   "cell_type": "code",
   "execution_count": 42,
   "metadata": {},
   "outputs": [],
   "source": [
    "toy_data2 = {\n",
    "    'collision_energy': torch.FloatTensor(collision_energy1.astype(np.float32)),\n",
    "    'charge': torch.FloatTensor(charge1.astype(np.float32)),\n",
    "    'input_ids' : torch.from_numpy(input_ids1.astype(np.int64)),\n",
    "    'input_mask' : torch.from_numpy(input_mask1.astype(np.int64))\n",
    "        }\n",
    "\n",
    "toy_data2 = {name: tensor.cuda(device=torch.device('cuda:0'), non_blocking=True)\n",
    "                     for name, tensor in toy_data2\n",
    "             .items()}"
   ]
  },
  {
   "cell_type": "code",
   "execution_count": 43,
   "metadata": {},
   "outputs": [
    {
     "data": {
      "text/plain": [
       "{'collision_energy': tensor([0.3171], device='cuda:0'),\n",
       " 'charge': tensor([[0., 0., 1., 0., 0., 0.]], device='cuda:0'),\n",
       " 'input_ids': tensor([[ 2, 13, 17, 13,  8, 12, 14, 10, 12, 21, 12, 15,  3]], device='cuda:0'),\n",
       " 'input_mask': tensor([[1, 1, 1, 1, 1, 1, 1, 1, 1, 1, 1, 1, 1]], device='cuda:0')}"
      ]
     },
     "execution_count": 43,
     "metadata": {},
     "output_type": "execute_result"
    }
   ],
   "source": [
    "toy_data2"
   ]
  },
  {
   "cell_type": "code",
   "execution_count": 44,
   "metadata": {},
   "outputs": [
    {
     "data": {
      "text/plain": [
       "{'collision_energy': tensor([0.3171], device='cuda:0'),\n",
       " 'charge': tensor([[0., 0., 1., 0., 0., 0.]], device='cuda:0'),\n",
       " 'input_ids': tensor([[ 2, 13, 17, 13,  8, 12, 14, 10, 12, 21, 12, 15,  3]], device='cuda:0'),\n",
       " 'input_mask': tensor([[1, 1, 1, 1, 1, 1, 1, 1, 1, 1, 1, 1, 1]], device='cuda:0')}"
      ]
     },
     "execution_count": 44,
     "metadata": {},
     "output_type": "execute_result"
    }
   ],
   "source": [
    "toy_data1"
   ]
  },
  {
   "cell_type": "code",
   "execution_count": null,
   "metadata": {},
   "outputs": [],
   "source": []
  },
  {
   "cell_type": "code",
   "execution_count": 45,
   "metadata": {},
   "outputs": [
    {
     "data": {
      "text/plain": [
       "array([[ 5.32360077e-02, -9.01104324e-03, -8.20380170e-03,\n",
       "        -6.52382709e-03, -8.96532089e-03, -8.20204709e-03,\n",
       "         1.05591387e-01, -1.01910308e-02, -8.30773823e-03,\n",
       "         2.46346027e-01, -9.67752188e-03, -7.97981024e-03,\n",
       "         1.16022319e-01, -9.50901583e-03, -8.15635175e-03,\n",
       "        -2.01027095e-03, -9.89710353e-03, -8.71482491e-03,\n",
       "         2.18849808e-01,  9.43607185e-03, -8.53640866e-03,\n",
       "         4.24470752e-04, -7.14800786e-03, -8.31007119e-03,\n",
       "         4.38355148e-01,  1.12281479e-02, -8.66800174e-03,\n",
       "        -5.71816415e-03, -7.53244245e-03, -8.58819112e-03,\n",
       "         2.22736239e-01,  5.47584519e-02, -1.00560375e-02,\n",
       "        -3.55595350e-03, -7.87417777e-03, -6.74730027e-03,\n",
       "         6.34075552e-02,  6.80070698e-01, -2.50562653e-03,\n",
       "        -9.92925279e-03, -7.86461774e-03, -7.83468969e-03,\n",
       "         4.08373401e-02,  3.62772614e-01, -3.57127725e-03,\n",
       "        -9.26792808e-03, -7.70734623e-03, -8.01162329e-03,\n",
       "        -1.77022927e-02,  3.71635973e-01, -5.36109600e-03,\n",
       "        -1.01088351e-02, -1.07555836e-03, -7.90011697e-03,\n",
       "        -1.14998976e-02,  1.03755188e+00,  2.57971808e-02,\n",
       "        -1.25489794e-02,  7.02837855e-02, -3.57914763e-03,\n",
       "         3.67355272e-02,  7.20383584e-01,  1.08071379e-01,\n",
       "         3.55702359e-03,  1.36486813e-01,  5.60538694e-02,\n",
       "         6.39227033e-02,  7.03136265e-01,  1.00972295e-01,\n",
       "         1.31387971e-02,  1.41463891e-01,  2.82270536e-02,\n",
       "         1.47638708e-01,  6.54291093e-01,  8.56039375e-02,\n",
       "         1.05808303e-02,  1.06057465e-01,  3.61358315e-01,\n",
       "         3.91764380e-02,  6.62187696e-01,  7.22741708e-02,\n",
       "         3.84784192e-01,  1.52243361e-01,  2.68686004e-02,\n",
       "         3.37842643e-01,  3.64685714e-01,  2.26331890e-01,\n",
       "         3.84721495e-02,  1.62826568e-01,  1.47856399e-02,\n",
       "         1.48897067e-01,  3.72553676e-01,  1.10230938e-01,\n",
       "        -8.70271772e-02,  1.83392346e-01,  2.89046079e-01,\n",
       "         1.26280878e-02,  2.52587616e-01,  3.73337477e-01,\n",
       "         3.72068025e-05,  2.26652995e-01,  8.32843315e-03,\n",
       "         5.07821515e-03,  4.59406942e-01,  1.73111886e-01,\n",
       "         1.11985486e-03,  6.73541203e-02,  2.33678684e-01,\n",
       "         1.52427144e-03,  1.05132371e-01,  6.94035441e-02,\n",
       "        -1.04877055e-02,  5.21749794e-01,  2.80580856e-02,\n",
       "         1.90926511e-02,  2.08066702e-01,  2.22347036e-01,\n",
       "        -6.30436931e-03, -2.03813054e-02, -1.47747248e-03,\n",
       "        -4.14206926e-03,  2.77007788e-01,  5.95448837e-02,\n",
       "        -2.59489194e-03,  3.10746841e-02,  2.59214379e-02,\n",
       "        -3.76519188e-03,  4.31691483e-02,  5.12593687e-02,\n",
       "        -3.69239179e-03,  4.97386046e-02,  8.00702721e-03,\n",
       "        -1.10877631e-03,  4.94991653e-02,  1.42333239e-01,\n",
       "        -8.11604038e-03, -6.80869911e-03,  1.35649312e-02,\n",
       "         2.96166586e-03, -3.36530954e-02,  1.56605780e-01,\n",
       "        -3.40178283e-03, -8.31840094e-04,  6.63193874e-03,\n",
       "        -3.06360843e-03, -2.48844288e-02,  6.00975975e-02,\n",
       "        -2.08606478e-03, -2.13086195e-02, -1.25783579e-02,\n",
       "        -6.81818323e-03, -2.30229907e-02,  3.02630123e-02,\n",
       "        -2.68937275e-03, -4.22467384e-03, -1.06375804e-03,\n",
       "        -4.65381425e-03,  8.08438838e-01,  4.85654175e-03,\n",
       "        -4.69837617e-03, -9.93285794e-03, -3.20252287e-03,\n",
       "        -9.06993262e-03, -2.58098729e-03,  1.08437218e-01,\n",
       "        -9.06240381e-03, -7.52128847e-03, -9.54873953e-03,\n",
       "         1.39148850e-02, -2.33493540e-02,  4.28388454e-03,\n",
       "         1.37397274e-02, -1.84456557e-02,  4.87316120e-03]], dtype=float32)"
      ]
     },
     "execution_count": 45,
     "metadata": {},
     "output_type": "execute_result"
    }
   ],
   "source": [
    "model(**toy_data2)[0].cpu().detach().numpy()"
   ]
  },
  {
   "cell_type": "code",
   "execution_count": null,
   "metadata": {},
   "outputs": [],
   "source": []
  },
  {
   "cell_type": "code",
   "execution_count": null,
   "metadata": {},
   "outputs": [],
   "source": [
    "collision_energy, charge, peptide_sequences = np.hstack(list(chunk[1] / 100.0)), get_precursor_charge_onehot(list(chunk[2])), list(chunk[0])\n",
    "\n"
   ]
  },
  {
   "cell_type": "code",
   "execution_count": null,
   "metadata": {},
   "outputs": [],
   "source": []
  },
  {
   "cell_type": "code",
   "execution_count": null,
   "metadata": {},
   "outputs": [],
   "source": [
    "DATA[0]"
   ]
  },
  {
   "cell_type": "code",
   "execution_count": null,
   "metadata": {},
   "outputs": [],
   "source": []
  },
  {
   "cell_type": "code",
   "execution_count": null,
   "metadata": {},
   "outputs": [],
   "source": []
  },
  {
   "cell_type": "code",
   "execution_count": null,
   "metadata": {},
   "outputs": [],
   "source": []
  },
  {
   "cell_type": "code",
   "execution_count": null,
   "metadata": {},
   "outputs": [],
   "source": [
    "prosit_pp = hdf5Loader.from_hdf5(\"/sdd/berzelius/final_results/delta_0.15/torchResult.hdf5\")\n",
    "prosit_vanilla = hdf5Loader.from_hdf5(\"/sdd/PrositToTapeDataConverter/hdf5/hcd/HDF5/prediction_hcd_ho.hdf5\")"
   ]
  },
  {
   "cell_type": "code",
   "execution_count": null,
   "metadata": {},
   "outputs": [],
   "source": [
    "ALPHABET = {\n",
    "    \"A\": 1,\n",
    "    \"C\": 2,\n",
    "    \"D\": 3,\n",
    "    \"E\": 4,\n",
    "    \"F\": 5,\n",
    "    \"G\": 6,\n",
    "    \"H\": 7,\n",
    "    \"I\": 8,\n",
    "    \"K\": 9,\n",
    "    \"L\": 10,\n",
    "    \"M\": 11,\n",
    "    \"N\": 12,\n",
    "    \"P\": 13,\n",
    "    \"Q\": 14,\n",
    "    \"R\": 15,\n",
    "    \"S\": 16,\n",
    "    \"T\": 17,\n",
    "    \"V\": 18,\n",
    "    \"W\": 19,\n",
    "    \"Y\": 20,\n",
    "    \"M(ox)\": 21,\n",
    "}\n",
    "ALPHABET_S = {integer: char for char, integer in ALPHABET.items()}"
   ]
  },
  {
   "cell_type": "code",
   "execution_count": null,
   "metadata": {},
   "outputs": [],
   "source": [
    "def chunks(lst, n):\n",
    "    \"\"\"Yield successive n-sized chunks from lst.\"\"\"\n",
    "    for i in range(0, len(lst), n):\n",
    "        X = min(len(lst), i+n)\n",
    "        yield lst[i:X]"
   ]
  },
  {
   "cell_type": "code",
   "execution_count": null,
   "metadata": {},
   "outputs": [],
   "source": [
    "prosit_pp.keys()"
   ]
  },
  {
   "cell_type": "code",
   "execution_count": null,
   "metadata": {},
   "outputs": [],
   "source": [
    "def getVals(data, key):\n",
    "    sa_list = list()\n",
    "    M = data[key]\n",
    "    for b in tqdm(chunks(M, 1000),total =int(len(M) / 1000)):\n",
    "        sa_list.append(b)\n",
    "    all_sa = [s for sa in sa_list for s in sa]\n",
    "    return np.array(all_sa)"
   ]
  },
  {
   "cell_type": "code",
   "execution_count": null,
   "metadata": {},
   "outputs": [],
   "source": [
    "prosit_pp.keys()"
   ]
  },
  {
   "cell_type": "code",
   "execution_count": null,
   "metadata": {},
   "outputs": [],
   "source": [
    "collision_energy_aligned_normed = getVals(prosit_pp, \"collision_energy_aligned_normed\")\n",
    "precursor_charge_onehot = getVals(prosit_pp, \"precursor_charge_onehot\")\n"
   ]
  },
  {
   "cell_type": "code",
   "execution_count": null,
   "metadata": {},
   "outputs": [],
   "source": [
    "sequence_integer = getVals(prosit_pp, \"sequence_integer\")"
   ]
  },
  {
   "cell_type": "code",
   "execution_count": null,
   "metadata": {},
   "outputs": [],
   "source": [
    "pp_intensities_pred = getVals(prosit_pp, \"intensities_pred\")\n",
    "pp_intensities_raw = getVals(prosit_pp, \"intensities_raw\")"
   ]
  },
  {
   "cell_type": "code",
   "execution_count": null,
   "metadata": {},
   "outputs": [],
   "source": [
    "vanilla_intensities_pred = getVals(prosit_vanilla, \"intensities_pred\")\n",
    "vanilla_intensities_raw = getVals(prosit_vanilla, \"intensities_raw\")"
   ]
  },
  {
   "cell_type": "code",
   "execution_count": null,
   "metadata": {},
   "outputs": [],
   "source": [
    "X = np.load(\"/sdd/prosittransformer/data/delta_0.15/predicted_spectra.npy\")"
   ]
  },
  {
   "cell_type": "code",
   "execution_count": null,
   "metadata": {},
   "outputs": [],
   "source": [
    "X[1]"
   ]
  },
  {
   "cell_type": "code",
   "execution_count": null,
   "metadata": {},
   "outputs": [],
   "source": [
    "pp_intensities_pred[1]"
   ]
  },
  {
   "cell_type": "code",
   "execution_count": null,
   "metadata": {},
   "outputs": [],
   "source": []
  },
  {
   "cell_type": "code",
   "execution_count": null,
   "metadata": {},
   "outputs": [],
   "source": [
    "charge = np.where(precursor_charge_onehot)[1]"
   ]
  },
  {
   "cell_type": "code",
   "execution_count": null,
   "metadata": {},
   "outputs": [],
   "source": [
    "mask = [True if 0 < c and c <3 else False for c in charge]"
   ]
  },
  {
   "cell_type": "code",
   "execution_count": null,
   "metadata": {},
   "outputs": [],
   "source": [
    "mask2 = [True if 21 not in seq else False for seq in sequence_integer]"
   ]
  },
  {
   "cell_type": "code",
   "execution_count": null,
   "metadata": {},
   "outputs": [],
   "source": [
    "sum(mask2)"
   ]
  },
  {
   "cell_type": "code",
   "execution_count": null,
   "metadata": {},
   "outputs": [],
   "source": []
  },
  {
   "cell_type": "code",
   "execution_count": null,
   "metadata": {},
   "outputs": [],
   "source": [
    "MASK = [all([m1, m2]) for m1, m2 in zip(mask, mask2)]"
   ]
  },
  {
   "cell_type": "code",
   "execution_count": null,
   "metadata": {},
   "outputs": [],
   "source": [
    "pp_sa = cleanTapeOutput.masked_spectral_distance(pp_intensities_raw[MASK], pp_intensities_pred[MASK])\n",
    "1 - np.median(pp_sa)"
   ]
  },
  {
   "cell_type": "code",
   "execution_count": null,
   "metadata": {},
   "outputs": [],
   "source": [
    "vanilla_sa = cleanTapeOutput.masked_spectral_distance(vanilla_intensities_raw[MASK], vanilla_intensities_pred[MASK])\n",
    "1 - np.median(vanilla_sa)"
   ]
  },
  {
   "cell_type": "code",
   "execution_count": null,
   "metadata": {},
   "outputs": [],
   "source": [
    "modified_sequence = [\"\".join([ALPHABET_S[s] for s in seq[np.nonzero(seq)]]) for seq in sequence_integer[MASK]]"
   ]
  },
  {
   "cell_type": "code",
   "execution_count": null,
   "metadata": {},
   "outputs": [],
   "source": [
    "charge_val = charge[MASK] + 1\n",
    "    "
   ]
  },
  {
   "cell_type": "code",
   "execution_count": null,
   "metadata": {},
   "outputs": [],
   "source": [
    "col_energy = collision_energy_aligned_normed[MASK] * 100"
   ]
  },
  {
   "cell_type": "code",
   "execution_count": null,
   "metadata": {},
   "outputs": [],
   "source": [
    "len(col_energy)"
   ]
  },
  {
   "cell_type": "code",
   "execution_count": null,
   "metadata": {},
   "outputs": [],
   "source": [
    "len(charge_val)"
   ]
  },
  {
   "cell_type": "code",
   "execution_count": null,
   "metadata": {},
   "outputs": [],
   "source": [
    "len(modified_sequence)"
   ]
  },
  {
   "cell_type": "code",
   "execution_count": null,
   "metadata": {},
   "outputs": [],
   "source": []
  },
  {
   "cell_type": "code",
   "execution_count": null,
   "metadata": {},
   "outputs": [],
   "source": [
    "df = pd.DataFrame([[p, col, c] for p, c, col in zip(modified_sequence, charge_val, col_energy)], \n",
    "             columns=[\"modified_sequence\",\"collision_energy\",\"precursor_charge\"])"
   ]
  },
  {
   "cell_type": "code",
   "execution_count": null,
   "metadata": {},
   "outputs": [],
   "source": [
    "df.to_csv(\"/sdd/prosittransformer/data/prosit_input.csv\", index=False, sep=\",\")"
   ]
  },
  {
   "cell_type": "code",
   "execution_count": null,
   "metadata": {},
   "outputs": [],
   "source": [
    "'collision_energy_aligned_normed', 'sequence_integer', 'precursor_charge_onehot', 'masses_pred', 'intensities_pred', 'iRT'"
   ]
  },
  {
   "cell_type": "code",
   "execution_count": null,
   "metadata": {},
   "outputs": [],
   "source": [
    "all_results = pkl.load(open(\"/sdd/prosittransformer/data/all_result.pkl\", \"rb\"))"
   ]
  },
  {
   "cell_type": "code",
   "execution_count": null,
   "metadata": {},
   "outputs": [],
   "source": [
    "all_results.keys()"
   ]
  },
  {
   "cell_type": "code",
   "execution_count": null,
   "metadata": {},
   "outputs": [],
   "source": []
  },
  {
   "cell_type": "code",
   "execution_count": null,
   "metadata": {},
   "outputs": [],
   "source": []
  },
  {
   "cell_type": "code",
   "execution_count": null,
   "metadata": {},
   "outputs": [],
   "source": [
    "all([p1==p2 for p1, p2 in zip(modified_sequence, all_results['modified_sequence'])])"
   ]
  },
  {
   "cell_type": "code",
   "execution_count": null,
   "metadata": {},
   "outputs": [],
   "source": [
    "all_results['modified_sequence']"
   ]
  },
  {
   "cell_type": "code",
   "execution_count": null,
   "metadata": {},
   "outputs": [],
   "source": [
    "all_results['iRT']"
   ]
  },
  {
   "cell_type": "code",
   "execution_count": null,
   "metadata": {},
   "outputs": [],
   "source": [
    "0 < charge[0] and charge[0] <3"
   ]
  },
  {
   "cell_type": "code",
   "execution_count": null,
   "metadata": {},
   "outputs": [],
   "source": []
  },
  {
   "cell_type": "code",
   "execution_count": null,
   "metadata": {},
   "outputs": [],
   "source": [
    "pp_sa = cleanTapeOutput.masked_spectral_distance(pp_intensities_raw, pp_intensities_pred)\n",
    "1 - np.median(pp_sa)"
   ]
  },
  {
   "cell_type": "code",
   "execution_count": null,
   "metadata": {},
   "outputs": [],
   "source": [
    "vanilla_sa = cleanTapeOutput.masked_spectral_distance(vanilla_intensities_raw, vanilla_intensities_pred)\n",
    "1 - np.median(vanilla_sa)"
   ]
  },
  {
   "cell_type": "code",
   "execution_count": null,
   "metadata": {},
   "outputs": [],
   "source": []
  },
  {
   "cell_type": "code",
   "execution_count": null,
   "metadata": {},
   "outputs": [],
   "source": []
  },
  {
   "cell_type": "code",
   "execution_count": null,
   "metadata": {},
   "outputs": [],
   "source": [
    "1 - np.median(pp_sa)"
   ]
  },
  {
   "cell_type": "code",
   "execution_count": null,
   "metadata": {},
   "outputs": [],
   "source": []
  },
  {
   "cell_type": "code",
   "execution_count": null,
   "metadata": {},
   "outputs": [],
   "source": [
    "np.median(all_sa)"
   ]
  },
  {
   "cell_type": "code",
   "execution_count": null,
   "metadata": {},
   "outputs": [],
   "source": []
  },
  {
   "cell_type": "code",
   "execution_count": null,
   "metadata": {},
   "outputs": [],
   "source": []
  }
 ],
 "metadata": {
  "kernelspec": {
   "display_name": "Python (tapeConvert2)",
   "language": "python",
   "name": "tapeconvert2"
  },
  "language_info": {
   "codemirror_mode": {
    "name": "ipython",
    "version": 3
   },
   "file_extension": ".py",
   "mimetype": "text/x-python",
   "name": "python",
   "nbconvert_exporter": "python",
   "pygments_lexer": "ipython3",
   "version": "3.6.13"
  }
 },
 "nbformat": 4,
 "nbformat_minor": 2
}
