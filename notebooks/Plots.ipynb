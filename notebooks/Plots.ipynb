{
 "cells": [
  {
   "cell_type": "code",
   "execution_count": null,
   "metadata": {},
   "outputs": [],
   "source": [
    "import pickle as pkl"
   ]
  },
  {
   "cell_type": "code",
   "execution_count": null,
   "metadata": {},
   "outputs": [],
   "source": [
    "path=\"/sdd/berzelius/final_results/delta_0.0/results.pkl\""
   ]
  },
  {
   "cell_type": "code",
   "execution_count": null,
   "metadata": {},
   "outputs": [],
   "source": [
    "X = pkl.load(open(f\"{path}\", \"rb\"))"
   ]
  },
  {
   "cell_type": "code",
   "execution_count": null,
   "metadata": {},
   "outputs": [],
   "source": [
    "PREDS = [x[\"prediction\"] for x in X[1]]"
   ]
  },
  {
   "cell_type": "code",
   "execution_count": null,
   "metadata": {},
   "outputs": [],
   "source": [
    "np.vstack(PREDS).shape"
   ]
  },
  {
   "cell_type": "code",
   "execution_count": null,
   "metadata": {},
   "outputs": [],
   "source": []
  },
  {
   "cell_type": "code",
   "execution_count": null,
   "metadata": {},
   "outputs": [],
   "source": [
    "len(x[1])"
   ]
  },
  {
   "cell_type": "code",
   "execution_count": null,
   "metadata": {},
   "outputs": [],
   "source": [
    "x[1][0]"
   ]
  },
  {
   "cell_type": "code",
   "execution_count": null,
   "metadata": {},
   "outputs": [],
   "source": []
  },
  {
   "cell_type": "code",
   "execution_count": null,
   "metadata": {},
   "outputs": [],
   "source": [
    "%config Completer.use_jedi = False\n",
    "\n"
   ]
  },
  {
   "cell_type": "code",
   "execution_count": 3,
   "metadata": {},
   "outputs": [],
   "source": [
    "import pickle\n",
    "import pandas as pd\n",
    "\n",
    "\n",
    "import seaborn\n",
    "import matplotlib.pyplot as plt\n",
    "import matplotlib\n",
    "matplotlib.rcParams['text.usetex'] = True\n"
   ]
  },
  {
   "cell_type": "markdown",
   "metadata": {},
   "source": [
    "# Find $\\delta$"
   ]
  },
  {
   "cell_type": "code",
   "execution_count": null,
   "metadata": {},
   "outputs": [],
   "source": [
    "#X = pickle.load(open(\"/sdd/berzelius/delta_runs/all_results.pkl\", \"rb\"))\n",
    "X = pickle.load(open(\"/home/ekvall/prosittransformer/notebooks/data/all_results.pkl\", \"rb\"))\n"
   ]
  },
  {
   "cell_type": "code",
   "execution_count": null,
   "metadata": {},
   "outputs": [],
   "source": [
    "data = list()\n",
    "for x in X:\n",
    "    metric = \"fdr\"\n",
    "    data.append({\"delta\" : x[\"delta\"], \"value\" : x[metric], \"metric\" : metric})\n",
    "    metric = \"fnr\"\n",
    "    data.append({\"delta\" : x[\"delta\"], \"value\" : x[metric], \"metric\" : metric})\n",
    "    metric = \"mean_spectral_angle\"\n",
    "    data.append({\"delta\" : x[\"delta\"], \"value\" : x[metric], \"metric\" : metric})"
   ]
  },
  {
   "cell_type": "code",
   "execution_count": null,
   "metadata": {},
   "outputs": [],
   "source": [
    "df = pd.DataFrame(data)"
   ]
  },
  {
   "cell_type": "code",
   "execution_count": null,
   "metadata": {},
   "outputs": [],
   "source": [
    "df.loc[df.metric == \"fdr\", 'metric'] = \"FDR\"\n",
    "df.loc[df.metric == \"fnr\", 'metric'] = \"FNR\"\n",
    "df.loc[df.metric == \"mean_spectral_angle\", 'metric'] = \"Angular Similarity\"\n"
   ]
  },
  {
   "cell_type": "code",
   "execution_count": null,
   "metadata": {},
   "outputs": [],
   "source": [
    "df_test = df.iloc[[i for i in range(len(df)) if i % 3 == 0 ]]"
   ]
  },
  {
   "cell_type": "code",
   "execution_count": null,
   "metadata": {},
   "outputs": [],
   "source": [
    "deltas = sorted(list(set(df_test.delta)))"
   ]
  },
  {
   "cell_type": "code",
   "execution_count": null,
   "metadata": {},
   "outputs": [],
   "source": [
    "new_deltas = [d for i, d in enumerate(deltas) if i % 2 == 0]"
   ]
  },
  {
   "cell_type": "code",
   "execution_count": null,
   "metadata": {},
   "outputs": [],
   "source": [
    "df_test = df[df.delta.isin(new_deltas)]"
   ]
  },
  {
   "cell_type": "code",
   "execution_count": null,
   "metadata": {},
   "outputs": [],
   "source": [
    "fs = 18"
   ]
  },
  {
   "cell_type": "code",
   "execution_count": null,
   "metadata": {},
   "outputs": [],
   "source": [
    "plt.figure(figsize=(10, 6))\n",
    "ax = seaborn.lineplot(x=\"delta\", y=\"value\", marker=\"o\", hue=\"metric\", data = df_test)\n",
    "legend = ax.legend(handles=ax.legend_.legendHandles, labels=['FDR', 'FNR', 'Angular Similarity'], prop={\"size\":fs})\n",
    "\n",
    "\n",
    "#plt.legend.get_title().set_fontsize('6')\n",
    "#plt.rcParams['legend.title_fontsize'] = fs\n",
    "plt.xlabel(r\"$\\delta$\", fontsize=fs + 10)\n",
    "plt.ylabel(\"FDR/FNR/Angular Similarity\", fontsize=fs)\n",
    "plt.xticks(fontsize=fs)\n",
    "plt.yticks(fontsize=fs)\n",
    "\n",
    "plt.locator_params(axis='y', nbins=5)\n",
    "plt.locator_params(axis='x', nbins=6)\n",
    "\n",
    "#plt.savefig(\"./compare.png\")\n",
    "plt.savefig('./plots/compare_delta.png')"
   ]
  },
  {
   "cell_type": "code",
   "execution_count": null,
   "metadata": {},
   "outputs": [],
   "source": [
    "import numpy as np"
   ]
  },
  {
   "cell_type": "markdown",
   "metadata": {},
   "source": [
    "# Final model result plots"
   ]
  },
  {
   "cell_type": "code",
   "execution_count": null,
   "metadata": {},
   "outputs": [],
   "source": [
    "!pip install feather"
   ]
  },
  {
   "cell_type": "code",
   "execution_count": 63,
   "metadata": {},
   "outputs": [],
   "source": [
    "import feather\n",
    "import seaborn as sns"
   ]
  },
  {
   "cell_type": "code",
   "execution_count": 64,
   "metadata": {},
   "outputs": [],
   "source": [
    "plt.style.use('ggplot')"
   ]
  },
  {
   "cell_type": "code",
   "execution_count": 65,
   "metadata": {},
   "outputs": [
    {
     "name": "stdout",
     "output_type": "stream",
     "text": [
      "/sdd/berzelius/final_results/delta_0.15/dataframe.feather\r\n"
     ]
    }
   ],
   "source": [
    "!ls /sdd/berzelius/final_results/delta_0.15/dataframe.feather"
   ]
  },
  {
   "cell_type": "code",
   "execution_count": 66,
   "metadata": {},
   "outputs": [
    {
     "name": "stdout",
     "output_type": "stream",
     "text": [
      "args.json\tconfig.json  model.pb\t\ttfModel      torchResult.hdf5\r\n",
      "checkpoint.bin\tlog\t     pytorch_model.bin\ttfModel.zip\r\n"
     ]
    }
   ],
   "source": [
    "!ls /sdd/berzelius/final_results/delta_0.34"
   ]
  },
  {
   "cell_type": "code",
   "execution_count": 67,
   "metadata": {},
   "outputs": [],
   "source": [
    "\n",
    "path = '/sdd/berzelius/final_results/delta_0.15/dataframe.feather'\n",
    "datafile = feather.read_dataframe(path)"
   ]
  },
  {
   "cell_type": "code",
   "execution_count": 68,
   "metadata": {},
   "outputs": [],
   "source": [
    "datafile = datafile.rename(columns={\"jacc_alpha\" : \"FDR\", \n",
    "                                    \"jacc_beta\" : \"FNR\", \n",
    "                                    \"spectral_angle\" : \"Angular Similarity\",\n",
    "                                   \"data_set\" : \"Data Set\"})"
   ]
  },
  {
   "cell_type": "code",
   "execution_count": 69,
   "metadata": {},
   "outputs": [],
   "source": [
    "datafile[\"Data Set\"] = datafile[\"Data Set\"].map({'ho':\"Prosit RNN\", 'test':\"Prosit Transformer\"})"
   ]
  },
  {
   "cell_type": "code",
   "execution_count": 70,
   "metadata": {},
   "outputs": [],
   "source": [
    "Prosit_RNN = datafile[datafile[\"Data Set\"] == \"Prosit RNN\"]\n",
    "Prosit_Transformer = datafile[datafile[\"Data Set\"] == \"Prosit Transformer\"]"
   ]
  },
  {
   "cell_type": "code",
   "execution_count": 71,
   "metadata": {},
   "outputs": [],
   "source": [
    "Prosit_RNN = Prosit_RNN.sort_values(by=['pool', 'raw_file', 'scan_number'])\n",
    "Prosit_Transformer = Prosit_Transformer.sort_values(by=['pool', 'raw_file', 'scan_number'])"
   ]
  },
  {
   "cell_type": "code",
   "execution_count": 72,
   "metadata": {},
   "outputs": [],
   "source": [
    "Prosit_RNN = Prosit_RNN.reset_index()\n",
    "Prosit_Transformer = Prosit_Transformer.reset_index()"
   ]
  },
  {
   "cell_type": "code",
   "execution_count": 73,
   "metadata": {},
   "outputs": [
    {
     "data": {
      "text/plain": [
       "True"
      ]
     },
     "execution_count": 73,
     "metadata": {},
     "output_type": "execute_result"
    }
   ],
   "source": [
    "all(Prosit_RNN[['pool', 'raw_file', 'scan_number']] == Prosit_Transformer[['pool', 'raw_file', 'scan_number']])"
   ]
  },
  {
   "cell_type": "code",
   "execution_count": 74,
   "metadata": {},
   "outputs": [
    {
     "data": {
      "text/plain": [
       "1419705"
      ]
     },
     "execution_count": 74,
     "metadata": {},
     "output_type": "execute_result"
    }
   ],
   "source": [
    "len(Prosit_RNN)"
   ]
  },
  {
   "cell_type": "code",
   "execution_count": 75,
   "metadata": {},
   "outputs": [
    {
     "data": {
      "text/plain": [
       "0.753"
      ]
     },
     "execution_count": 75,
     "metadata": {},
     "output_type": "execute_result"
    }
   ],
   "source": [
    "round(sum(Prosit_Transformer[\"Angular Similarity\"] > Prosit_RNN[\"Angular Similarity\"]) / len(Prosit_RNN),3)"
   ]
  },
  {
   "cell_type": "code",
   "execution_count": 76,
   "metadata": {},
   "outputs": [
    {
     "data": {
      "text/plain": [
       "0.247"
      ]
     },
     "execution_count": 76,
     "metadata": {},
     "output_type": "execute_result"
    }
   ],
   "source": [
    "round(sum( Prosit_RNN[\"Angular Similarity\"] > Prosit_Transformer[\"Angular Similarity\"]) / len(Prosit_RNN),3)"
   ]
  },
  {
   "cell_type": "code",
   "execution_count": 77,
   "metadata": {},
   "outputs": [
    {
     "data": {
      "text/plain": [
       "0.0"
      ]
     },
     "execution_count": 77,
     "metadata": {},
     "output_type": "execute_result"
    }
   ],
   "source": [
    "sum( Prosit_RNN[\"Angular Similarity\"] == Prosit_Transformer[\"Angular Similarity\"]) / len(Prosit_RNN)"
   ]
  },
  {
   "cell_type": "code",
   "execution_count": null,
   "metadata": {},
   "outputs": [],
   "source": []
  },
  {
   "cell_type": "code",
   "execution_count": null,
   "metadata": {},
   "outputs": [],
   "source": []
  },
  {
   "cell_type": "code",
   "execution_count": 78,
   "metadata": {},
   "outputs": [
    {
     "data": {
      "text/plain": [
       "True"
      ]
     },
     "execution_count": 78,
     "metadata": {},
     "output_type": "execute_result"
    }
   ],
   "source": [
    "all(Prosit_RNN[['pool', 'raw_file', 'scan_number']] == Prosit_Transformer[['pool', 'raw_file', 'scan_number']])"
   ]
  },
  {
   "cell_type": "code",
   "execution_count": 79,
   "metadata": {},
   "outputs": [],
   "source": [
    "x = Prosit_Transformer.sequence.str.split(\",\").str.len()"
   ]
  },
  {
   "cell_type": "code",
   "execution_count": 80,
   "metadata": {},
   "outputs": [
    {
     "data": {
      "text/plain": [
       "7"
      ]
     },
     "execution_count": 80,
     "metadata": {},
     "output_type": "execute_result"
    }
   ],
   "source": [
    "min(x)"
   ]
  },
  {
   "cell_type": "code",
   "execution_count": 81,
   "metadata": {},
   "outputs": [
    {
     "data": {
      "text/plain": [
       "30"
      ]
     },
     "execution_count": 81,
     "metadata": {},
     "output_type": "execute_result"
    }
   ],
   "source": [
    "max(x)"
   ]
  },
  {
   "cell_type": "code",
   "execution_count": 82,
   "metadata": {},
   "outputs": [
    {
     "data": {
      "text/html": [
       "<div>\n",
       "<style scoped>\n",
       "    .dataframe tbody tr th:only-of-type {\n",
       "        vertical-align: middle;\n",
       "    }\n",
       "\n",
       "    .dataframe tbody tr th {\n",
       "        vertical-align: top;\n",
       "    }\n",
       "\n",
       "    .dataframe thead th {\n",
       "        text-align: right;\n",
       "    }\n",
       "</style>\n",
       "<table border=\"1\" class=\"dataframe\">\n",
       "  <thead>\n",
       "    <tr style=\"text-align: right;\">\n",
       "      <th></th>\n",
       "      <th>index</th>\n",
       "      <th>raw_file</th>\n",
       "      <th>scan_number</th>\n",
       "      <th>ce</th>\n",
       "      <th>ce_calib</th>\n",
       "      <th>sequence</th>\n",
       "      <th>precursor_charge</th>\n",
       "      <th>method</th>\n",
       "      <th>collision_energy_aligned_normed</th>\n",
       "      <th>score</th>\n",
       "      <th>...</th>\n",
       "      <th>PCM</th>\n",
       "      <th>nterm</th>\n",
       "      <th>cterm</th>\n",
       "      <th>FDR</th>\n",
       "      <th>FNR</th>\n",
       "      <th>Data Set</th>\n",
       "      <th>ce_calib_binned</th>\n",
       "      <th>All</th>\n",
       "      <th>counts</th>\n",
       "      <th>pool</th>\n",
       "    </tr>\n",
       "  </thead>\n",
       "  <tbody>\n",
       "    <tr>\n",
       "      <th>0</th>\n",
       "      <td>187164</td>\n",
       "      <td>02445a_BA1-TUM_HLA_1_01_01-DDA-1h-R1</td>\n",
       "      <td>854</td>\n",
       "      <td>0.28</td>\n",
       "      <td>0.313801</td>\n",
       "      <td>10,1,14,9,10,6,10,8</td>\n",
       "      <td>2</td>\n",
       "      <td>HCD</td>\n",
       "      <td>0.313801</td>\n",
       "      <td>110.629997</td>\n",
       "      <td>...</td>\n",
       "      <td>10,1,14,9,10,6,10,8|2|HCD|0.28</td>\n",
       "      <td>10</td>\n",
       "      <td>8</td>\n",
       "      <td>0.214286</td>\n",
       "      <td>0.000000</td>\n",
       "      <td>Prosit RNN</td>\n",
       "      <td>0.31</td>\n",
       "      <td></td>\n",
       "      <td>1.0</td>\n",
       "      <td>TUM_HLA</td>\n",
       "    </tr>\n",
       "    <tr>\n",
       "      <th>1</th>\n",
       "      <td>986427</td>\n",
       "      <td>02445a_BA1-TUM_HLA_1_01_01-DDA-1h-R1</td>\n",
       "      <td>854</td>\n",
       "      <td>0.28</td>\n",
       "      <td>0.313801</td>\n",
       "      <td>10,1,14,9,10,6,10,8</td>\n",
       "      <td>1</td>\n",
       "      <td>HCD</td>\n",
       "      <td>0.313801</td>\n",
       "      <td>128.820007</td>\n",
       "      <td>...</td>\n",
       "      <td>10,1,14,9,10,6,10,8|1|HCD|0.28</td>\n",
       "      <td>10</td>\n",
       "      <td>8</td>\n",
       "      <td>0.100000</td>\n",
       "      <td>0.000000</td>\n",
       "      <td>Prosit RNN</td>\n",
       "      <td>0.31</td>\n",
       "      <td></td>\n",
       "      <td>1.0</td>\n",
       "      <td>TUM_HLA</td>\n",
       "    </tr>\n",
       "    <tr>\n",
       "      <th>2</th>\n",
       "      <td>1128811</td>\n",
       "      <td>02445a_BA1-TUM_HLA_1_01_01-DDA-1h-R1</td>\n",
       "      <td>854</td>\n",
       "      <td>0.28</td>\n",
       "      <td>0.313801</td>\n",
       "      <td>10,1,14,9,10,6,10,8</td>\n",
       "      <td>2</td>\n",
       "      <td>HCD</td>\n",
       "      <td>0.313801</td>\n",
       "      <td>101.639999</td>\n",
       "      <td>...</td>\n",
       "      <td>10,1,14,9,10,6,10,8|2|HCD|0.28</td>\n",
       "      <td>10</td>\n",
       "      <td>8</td>\n",
       "      <td>0.142857</td>\n",
       "      <td>0.142857</td>\n",
       "      <td>Prosit RNN</td>\n",
       "      <td>0.31</td>\n",
       "      <td></td>\n",
       "      <td>1.0</td>\n",
       "      <td>TUM_HLA</td>\n",
       "    </tr>\n",
       "    <tr>\n",
       "      <th>3</th>\n",
       "      <td>1391485</td>\n",
       "      <td>02445a_BA1-TUM_HLA_1_01_01-DDA-1h-R1</td>\n",
       "      <td>854</td>\n",
       "      <td>0.28</td>\n",
       "      <td>0.313801</td>\n",
       "      <td>10,1,14,9,10,6,10,8</td>\n",
       "      <td>2</td>\n",
       "      <td>HCD</td>\n",
       "      <td>0.313801</td>\n",
       "      <td>104.209999</td>\n",
       "      <td>...</td>\n",
       "      <td>10,1,14,9,10,6,10,8|2|HCD|0.28</td>\n",
       "      <td>10</td>\n",
       "      <td>8</td>\n",
       "      <td>0.071429</td>\n",
       "      <td>0.133333</td>\n",
       "      <td>Prosit RNN</td>\n",
       "      <td>0.31</td>\n",
       "      <td></td>\n",
       "      <td>1.0</td>\n",
       "      <td>TUM_HLA</td>\n",
       "    </tr>\n",
       "    <tr>\n",
       "      <th>4</th>\n",
       "      <td>590604</td>\n",
       "      <td>02445a_BA1-TUM_HLA_1_01_01-DDA-1h-R1</td>\n",
       "      <td>857</td>\n",
       "      <td>0.28</td>\n",
       "      <td>0.313801</td>\n",
       "      <td>5,13,6,10,1,8,9,8</td>\n",
       "      <td>2</td>\n",
       "      <td>HCD</td>\n",
       "      <td>0.313801</td>\n",
       "      <td>70.669998</td>\n",
       "      <td>...</td>\n",
       "      <td>5,13,6,10,1,8,9,8|2|HCD|0.28</td>\n",
       "      <td>5</td>\n",
       "      <td>8</td>\n",
       "      <td>0.200000</td>\n",
       "      <td>0.000000</td>\n",
       "      <td>Prosit RNN</td>\n",
       "      <td>0.31</td>\n",
       "      <td></td>\n",
       "      <td>1.0</td>\n",
       "      <td>TUM_HLA</td>\n",
       "    </tr>\n",
       "    <tr>\n",
       "      <th>...</th>\n",
       "      <td>...</td>\n",
       "      <td>...</td>\n",
       "      <td>...</td>\n",
       "      <td>...</td>\n",
       "      <td>...</td>\n",
       "      <td>...</td>\n",
       "      <td>...</td>\n",
       "      <td>...</td>\n",
       "      <td>...</td>\n",
       "      <td>...</td>\n",
       "      <td>...</td>\n",
       "      <td>...</td>\n",
       "      <td>...</td>\n",
       "      <td>...</td>\n",
       "      <td>...</td>\n",
       "      <td>...</td>\n",
       "      <td>...</td>\n",
       "      <td>...</td>\n",
       "      <td>...</td>\n",
       "      <td>...</td>\n",
       "      <td>...</td>\n",
       "    </tr>\n",
       "    <tr>\n",
       "      <th>1419700</th>\n",
       "      <td>1299226</td>\n",
       "      <td>01640c_GG3-Thermo_SRM_Pool_22_01_01-3xHCD-1h-R5</td>\n",
       "      <td>2172</td>\n",
       "      <td>0.3</td>\n",
       "      <td>0.310725</td>\n",
       "      <td>18,7,13,10,18,5,1,13,6,18,13,18,17,1,14,18,18,...</td>\n",
       "      <td>2</td>\n",
       "      <td>HCD</td>\n",
       "      <td>0.310725</td>\n",
       "      <td>50.358002</td>\n",
       "      <td>...</td>\n",
       "      <td>18,7,13,10,18,5,1,13,6,18,13,18,17,1,14,18,18,...</td>\n",
       "      <td>18</td>\n",
       "      <td>15</td>\n",
       "      <td>0.466667</td>\n",
       "      <td>0.111111</td>\n",
       "      <td>Prosit RNN</td>\n",
       "      <td>0.31</td>\n",
       "      <td></td>\n",
       "      <td>1.0</td>\n",
       "      <td>Thermo_SRM_Pool</td>\n",
       "    </tr>\n",
       "    <tr>\n",
       "      <th>1419701</th>\n",
       "      <td>1414699</td>\n",
       "      <td>01640c_GG3-Thermo_SRM_Pool_22_01_01-3xHCD-1h-R5</td>\n",
       "      <td>2172</td>\n",
       "      <td>0.25</td>\n",
       "      <td>0.260725</td>\n",
       "      <td>18,7,13,10,18,5,1,13,6,18,13,18,17,1,14,18,18,...</td>\n",
       "      <td>3</td>\n",
       "      <td>HCD</td>\n",
       "      <td>0.260725</td>\n",
       "      <td>58.848000</td>\n",
       "      <td>...</td>\n",
       "      <td>18,7,13,10,18,5,1,13,6,18,13,18,17,1,14,18,18,...</td>\n",
       "      <td>18</td>\n",
       "      <td>15</td>\n",
       "      <td>0.432432</td>\n",
       "      <td>0.000000</td>\n",
       "      <td>Prosit RNN</td>\n",
       "      <td>0.26</td>\n",
       "      <td></td>\n",
       "      <td>1.0</td>\n",
       "      <td>Thermo_SRM_Pool</td>\n",
       "    </tr>\n",
       "    <tr>\n",
       "      <th>1419702</th>\n",
       "      <td>270797</td>\n",
       "      <td>01640c_GG3-Thermo_SRM_Pool_22_01_01-3xHCD-1h-R5</td>\n",
       "      <td>2391</td>\n",
       "      <td>0.25</td>\n",
       "      <td>0.260725</td>\n",
       "      <td>7,4,20,1,10,13,10,1,13,13,4,13,4,20,1,17,13,8,...</td>\n",
       "      <td>2</td>\n",
       "      <td>HCD</td>\n",
       "      <td>0.260725</td>\n",
       "      <td>155.860001</td>\n",
       "      <td>...</td>\n",
       "      <td>7,4,20,1,10,13,10,1,13,13,4,13,4,20,1,17,13,8,...</td>\n",
       "      <td>7</td>\n",
       "      <td>15</td>\n",
       "      <td>0.103448</td>\n",
       "      <td>0.187500</td>\n",
       "      <td>Prosit RNN</td>\n",
       "      <td>0.26</td>\n",
       "      <td></td>\n",
       "      <td>1.0</td>\n",
       "      <td>Thermo_SRM_Pool</td>\n",
       "    </tr>\n",
       "    <tr>\n",
       "      <th>1419703</th>\n",
       "      <td>318070</td>\n",
       "      <td>01640c_GG3-Thermo_SRM_Pool_22_01_01-3xHCD-1h-R5</td>\n",
       "      <td>2391</td>\n",
       "      <td>0.3</td>\n",
       "      <td>0.310725</td>\n",
       "      <td>7,4,20,1,10,13,10,1,13,13,4,13,4,20,1,17,13,8,...</td>\n",
       "      <td>2</td>\n",
       "      <td>HCD</td>\n",
       "      <td>0.310725</td>\n",
       "      <td>146.970001</td>\n",
       "      <td>...</td>\n",
       "      <td>7,4,20,1,10,13,10,1,13,13,4,13,4,20,1,17,13,8,...</td>\n",
       "      <td>7</td>\n",
       "      <td>15</td>\n",
       "      <td>0.103448</td>\n",
       "      <td>0.071429</td>\n",
       "      <td>Prosit RNN</td>\n",
       "      <td>0.31</td>\n",
       "      <td></td>\n",
       "      <td>1.0</td>\n",
       "      <td>Thermo_SRM_Pool</td>\n",
       "    </tr>\n",
       "    <tr>\n",
       "      <th>1419704</th>\n",
       "      <td>1308463</td>\n",
       "      <td>01640c_GG3-Thermo_SRM_Pool_22_01_01-3xHCD-1h-R5</td>\n",
       "      <td>2391</td>\n",
       "      <td>0.35</td>\n",
       "      <td>0.360725</td>\n",
       "      <td>7,4,20,1,10,13,10,1,13,13,4,13,4,20,1,17,13,8,...</td>\n",
       "      <td>2</td>\n",
       "      <td>HCD</td>\n",
       "      <td>0.360725</td>\n",
       "      <td>140.630005</td>\n",
       "      <td>...</td>\n",
       "      <td>7,4,20,1,10,13,10,1,13,13,4,13,4,20,1,17,13,8,...</td>\n",
       "      <td>7</td>\n",
       "      <td>15</td>\n",
       "      <td>0.290323</td>\n",
       "      <td>0.153846</td>\n",
       "      <td>Prosit RNN</td>\n",
       "      <td>0.36</td>\n",
       "      <td></td>\n",
       "      <td>1.0</td>\n",
       "      <td>Thermo_SRM_Pool</td>\n",
       "    </tr>\n",
       "  </tbody>\n",
       "</table>\n",
       "<p>1419705 rows × 24 columns</p>\n",
       "</div>"
      ],
      "text/plain": [
       "           index                                         raw_file  \\\n",
       "0         187164             02445a_BA1-TUM_HLA_1_01_01-DDA-1h-R1   \n",
       "1         986427             02445a_BA1-TUM_HLA_1_01_01-DDA-1h-R1   \n",
       "2        1128811             02445a_BA1-TUM_HLA_1_01_01-DDA-1h-R1   \n",
       "3        1391485             02445a_BA1-TUM_HLA_1_01_01-DDA-1h-R1   \n",
       "4         590604             02445a_BA1-TUM_HLA_1_01_01-DDA-1h-R1   \n",
       "...          ...                                              ...   \n",
       "1419700  1299226  01640c_GG3-Thermo_SRM_Pool_22_01_01-3xHCD-1h-R5   \n",
       "1419701  1414699  01640c_GG3-Thermo_SRM_Pool_22_01_01-3xHCD-1h-R5   \n",
       "1419702   270797  01640c_GG3-Thermo_SRM_Pool_22_01_01-3xHCD-1h-R5   \n",
       "1419703   318070  01640c_GG3-Thermo_SRM_Pool_22_01_01-3xHCD-1h-R5   \n",
       "1419704  1308463  01640c_GG3-Thermo_SRM_Pool_22_01_01-3xHCD-1h-R5   \n",
       "\n",
       "         scan_number    ce  ce_calib  \\\n",
       "0                854  0.28  0.313801   \n",
       "1                854  0.28  0.313801   \n",
       "2                854  0.28  0.313801   \n",
       "3                854  0.28  0.313801   \n",
       "4                857  0.28  0.313801   \n",
       "...              ...   ...       ...   \n",
       "1419700         2172   0.3  0.310725   \n",
       "1419701         2172  0.25  0.260725   \n",
       "1419702         2391  0.25  0.260725   \n",
       "1419703         2391   0.3  0.310725   \n",
       "1419704         2391  0.35  0.360725   \n",
       "\n",
       "                                                  sequence precursor_charge  \\\n",
       "0                                      10,1,14,9,10,6,10,8                2   \n",
       "1                                      10,1,14,9,10,6,10,8                1   \n",
       "2                                      10,1,14,9,10,6,10,8                2   \n",
       "3                                      10,1,14,9,10,6,10,8                2   \n",
       "4                                        5,13,6,10,1,8,9,8                2   \n",
       "...                                                    ...              ...   \n",
       "1419700  18,7,13,10,18,5,1,13,6,18,13,18,17,1,14,18,18,...                2   \n",
       "1419701  18,7,13,10,18,5,1,13,6,18,13,18,17,1,14,18,18,...                3   \n",
       "1419702  7,4,20,1,10,13,10,1,13,13,4,13,4,20,1,17,13,8,...                2   \n",
       "1419703  7,4,20,1,10,13,10,1,13,13,4,13,4,20,1,17,13,8,...                2   \n",
       "1419704  7,4,20,1,10,13,10,1,13,13,4,13,4,20,1,17,13,8,...                2   \n",
       "\n",
       "        method  collision_energy_aligned_normed       score  ...  \\\n",
       "0          HCD                         0.313801  110.629997  ...   \n",
       "1          HCD                         0.313801  128.820007  ...   \n",
       "2          HCD                         0.313801  101.639999  ...   \n",
       "3          HCD                         0.313801  104.209999  ...   \n",
       "4          HCD                         0.313801   70.669998  ...   \n",
       "...        ...                              ...         ...  ...   \n",
       "1419700    HCD                         0.310725   50.358002  ...   \n",
       "1419701    HCD                         0.260725   58.848000  ...   \n",
       "1419702    HCD                         0.260725  155.860001  ...   \n",
       "1419703    HCD                         0.310725  146.970001  ...   \n",
       "1419704    HCD                         0.360725  140.630005  ...   \n",
       "\n",
       "                                                       PCM  nterm cterm  \\\n",
       "0                           10,1,14,9,10,6,10,8|2|HCD|0.28     10     8   \n",
       "1                           10,1,14,9,10,6,10,8|1|HCD|0.28     10     8   \n",
       "2                           10,1,14,9,10,6,10,8|2|HCD|0.28     10     8   \n",
       "3                           10,1,14,9,10,6,10,8|2|HCD|0.28     10     8   \n",
       "4                             5,13,6,10,1,8,9,8|2|HCD|0.28      5     8   \n",
       "...                                                    ...    ...   ...   \n",
       "1419700  18,7,13,10,18,5,1,13,6,18,13,18,17,1,14,18,18,...     18    15   \n",
       "1419701  18,7,13,10,18,5,1,13,6,18,13,18,17,1,14,18,18,...     18    15   \n",
       "1419702  7,4,20,1,10,13,10,1,13,13,4,13,4,20,1,17,13,8,...      7    15   \n",
       "1419703  7,4,20,1,10,13,10,1,13,13,4,13,4,20,1,17,13,8,...      7    15   \n",
       "1419704  7,4,20,1,10,13,10,1,13,13,4,13,4,20,1,17,13,8,...      7    15   \n",
       "\n",
       "              FDR       FNR    Data Set ce_calib_binned  All  counts  \\\n",
       "0        0.214286  0.000000  Prosit RNN            0.31          1.0   \n",
       "1        0.100000  0.000000  Prosit RNN            0.31          1.0   \n",
       "2        0.142857  0.142857  Prosit RNN            0.31          1.0   \n",
       "3        0.071429  0.133333  Prosit RNN            0.31          1.0   \n",
       "4        0.200000  0.000000  Prosit RNN            0.31          1.0   \n",
       "...           ...       ...         ...             ...  ...     ...   \n",
       "1419700  0.466667  0.111111  Prosit RNN            0.31          1.0   \n",
       "1419701  0.432432  0.000000  Prosit RNN            0.26          1.0   \n",
       "1419702  0.103448  0.187500  Prosit RNN            0.26          1.0   \n",
       "1419703  0.103448  0.071429  Prosit RNN            0.31          1.0   \n",
       "1419704  0.290323  0.153846  Prosit RNN            0.36          1.0   \n",
       "\n",
       "                    pool  \n",
       "0                TUM_HLA  \n",
       "1                TUM_HLA  \n",
       "2                TUM_HLA  \n",
       "3                TUM_HLA  \n",
       "4                TUM_HLA  \n",
       "...                  ...  \n",
       "1419700  Thermo_SRM_Pool  \n",
       "1419701  Thermo_SRM_Pool  \n",
       "1419702  Thermo_SRM_Pool  \n",
       "1419703  Thermo_SRM_Pool  \n",
       "1419704  Thermo_SRM_Pool  \n",
       "\n",
       "[1419705 rows x 24 columns]"
      ]
     },
     "execution_count": 82,
     "metadata": {},
     "output_type": "execute_result"
    }
   ],
   "source": [
    "Prosit_RNN"
   ]
  },
  {
   "cell_type": "code",
   "execution_count": null,
   "metadata": {},
   "outputs": [],
   "source": []
  },
  {
   "cell_type": "code",
   "execution_count": 83,
   "metadata": {},
   "outputs": [
    {
     "data": {
      "text/plain": [
       "(1419705,)"
      ]
     },
     "execution_count": 83,
     "metadata": {},
     "output_type": "execute_result"
    }
   ],
   "source": [
    "Prosit_RNN.scan_number.shape"
   ]
  },
  {
   "cell_type": "code",
   "execution_count": 84,
   "metadata": {},
   "outputs": [
    {
     "data": {
      "text/plain": [
       "2754"
      ]
     },
     "execution_count": 84,
     "metadata": {},
     "output_type": "execute_result"
    }
   ],
   "source": [
    "len(set(Prosit_RNN.scan_number))"
   ]
  },
  {
   "cell_type": "code",
   "execution_count": 85,
   "metadata": {},
   "outputs": [
    {
     "data": {
      "text/plain": [
       "0                  Prosit RNN\n",
       "1                  Prosit RNN\n",
       "2                  Prosit RNN\n",
       "3                  Prosit RNN\n",
       "4                  Prosit RNN\n",
       "                  ...        \n",
       "2839405    Prosit Transformer\n",
       "2839406    Prosit Transformer\n",
       "2839407    Prosit Transformer\n",
       "2839408    Prosit Transformer\n",
       "2839409    Prosit Transformer\n",
       "Name: Data Set, Length: 2839410, dtype: category\n",
       "Categories (2, object): ['Prosit Transformer', 'Prosit RNN']"
      ]
     },
     "execution_count": 85,
     "metadata": {},
     "output_type": "execute_result"
    }
   ],
   "source": [
    "datafile[\"Data Set\"]"
   ]
  },
  {
   "cell_type": "code",
   "execution_count": 47,
   "metadata": {},
   "outputs": [],
   "source": [
    "#datafile[\"Data Set\"] = datafile[\"Data Set\"].map({'ho':\"Prosit RNN\", 'test':\"Prosit Transformer\"})\n",
    "#.loc[datafile[\"Data Set\"] == \"ho\", \"Data Set\"] = \"Prosit Transformer\""
   ]
  },
  {
   "cell_type": "code",
   "execution_count": 86,
   "metadata": {},
   "outputs": [],
   "source": [
    "fs = 18"
   ]
  },
  {
   "cell_type": "code",
   "execution_count": 87,
   "metadata": {},
   "outputs": [],
   "source": [
    "def filterDf(df, feature = \"Angular Similarity\", lower= 0.5, upper=1):\n",
    "    mask = ((df[feature]>lower) & (df[feature] < upper))\n",
    "    return df[mask]"
   ]
  },
  {
   "cell_type": "code",
   "execution_count": 88,
   "metadata": {},
   "outputs": [],
   "source": [
    "sns.set_style(\"whitegrid\", {'axes.grid' : False})\n"
   ]
  },
  {
   "cell_type": "code",
   "execution_count": 89,
   "metadata": {},
   "outputs": [],
   "source": [
    "#palette ={'Prosit Transformer': \"C1\", 'Prosit RNN': \"C6\"}\n",
    "palette ={'Prosit Transformer': \"C1\", 'Prosit RNN': \"C0\"}\n"
   ]
  },
  {
   "cell_type": "code",
   "execution_count": 90,
   "metadata": {},
   "outputs": [
    {
     "data": {
      "text/html": [
       "<div>\n",
       "<style scoped>\n",
       "    .dataframe tbody tr th:only-of-type {\n",
       "        vertical-align: middle;\n",
       "    }\n",
       "\n",
       "    .dataframe tbody tr th {\n",
       "        vertical-align: top;\n",
       "    }\n",
       "\n",
       "    .dataframe thead th {\n",
       "        text-align: right;\n",
       "    }\n",
       "</style>\n",
       "<table border=\"1\" class=\"dataframe\">\n",
       "  <thead>\n",
       "    <tr style=\"text-align: right;\">\n",
       "      <th></th>\n",
       "      <th>raw_file</th>\n",
       "      <th>scan_number</th>\n",
       "      <th>ce</th>\n",
       "      <th>ce_calib</th>\n",
       "      <th>sequence</th>\n",
       "      <th>precursor_charge</th>\n",
       "      <th>method</th>\n",
       "      <th>collision_energy_aligned_normed</th>\n",
       "      <th>score</th>\n",
       "      <th>Angular Similarity</th>\n",
       "      <th>...</th>\n",
       "      <th>PCM</th>\n",
       "      <th>nterm</th>\n",
       "      <th>cterm</th>\n",
       "      <th>FDR</th>\n",
       "      <th>FNR</th>\n",
       "      <th>Data Set</th>\n",
       "      <th>ce_calib_binned</th>\n",
       "      <th>All</th>\n",
       "      <th>counts</th>\n",
       "      <th>pool</th>\n",
       "    </tr>\n",
       "  </thead>\n",
       "  <tbody>\n",
       "    <tr>\n",
       "      <th>0</th>\n",
       "      <td>02445d_BH2-TUM_HLA_86_01_01-3xHCD-1h-R4</td>\n",
       "      <td>1428</td>\n",
       "      <td>0.3</td>\n",
       "      <td>0.317071</td>\n",
       "      <td>8,12,8,3,7,9,5,7,15,7,10</td>\n",
       "      <td>3</td>\n",
       "      <td>HCD</td>\n",
       "      <td>0.317071</td>\n",
       "      <td>127.760002</td>\n",
       "      <td>0.889237</td>\n",
       "      <td>...</td>\n",
       "      <td>8,12,8,3,7,9,5,7,15,7,10|3|HCD|0.3</td>\n",
       "      <td>8</td>\n",
       "      <td>10</td>\n",
       "      <td>0.280000</td>\n",
       "      <td>0.052632</td>\n",
       "      <td>Prosit RNN</td>\n",
       "      <td>0.32</td>\n",
       "      <td></td>\n",
       "      <td>1.0</td>\n",
       "      <td>TUM_HLA</td>\n",
       "    </tr>\n",
       "    <tr>\n",
       "      <th>1</th>\n",
       "      <td>01640c_BD8-Thermo_SRM_Pool_60_01_01-DDA-1h-R2</td>\n",
       "      <td>1033</td>\n",
       "      <td>0.28</td>\n",
       "      <td>0.320979</td>\n",
       "      <td>20,3,10,18,12,10,1,18,9</td>\n",
       "      <td>2</td>\n",
       "      <td>HCD</td>\n",
       "      <td>0.320979</td>\n",
       "      <td>122.330002</td>\n",
       "      <td>0.941458</td>\n",
       "      <td>...</td>\n",
       "      <td>20,3,10,18,12,10,1,18,9|2|HCD|0.28</td>\n",
       "      <td>20</td>\n",
       "      <td>9</td>\n",
       "      <td>0.125000</td>\n",
       "      <td>0.000000</td>\n",
       "      <td>Prosit RNN</td>\n",
       "      <td>0.32</td>\n",
       "      <td></td>\n",
       "      <td>1.0</td>\n",
       "      <td>Thermo_SRM_Pool</td>\n",
       "    </tr>\n",
       "    <tr>\n",
       "      <th>2</th>\n",
       "      <td>02445d_BG6-TUM_HLA_78_01_01-3xHCD-1h-R4</td>\n",
       "      <td>1033</td>\n",
       "      <td>0.25</td>\n",
       "      <td>0.277811</td>\n",
       "      <td>13,16,15,6,16,16,5,8,1,10</td>\n",
       "      <td>2</td>\n",
       "      <td>HCD</td>\n",
       "      <td>0.277811</td>\n",
       "      <td>82.261002</td>\n",
       "      <td>0.902218</td>\n",
       "      <td>...</td>\n",
       "      <td>13,16,15,6,16,16,5,8,1,10|2|HCD|0.25</td>\n",
       "      <td>13</td>\n",
       "      <td>10</td>\n",
       "      <td>0.000000</td>\n",
       "      <td>0.133333</td>\n",
       "      <td>Prosit RNN</td>\n",
       "      <td>0.28</td>\n",
       "      <td></td>\n",
       "      <td>1.0</td>\n",
       "      <td>TUM_HLA</td>\n",
       "    </tr>\n",
       "    <tr>\n",
       "      <th>3</th>\n",
       "      <td>03036a_BD12-TUM_HLA2_144_01_01-DDA-1h-R1</td>\n",
       "      <td>1792</td>\n",
       "      <td>0.28</td>\n",
       "      <td>0.304667</td>\n",
       "      <td>12,16,12,15,20,4,15,10,9,1,17,14,18,16,9</td>\n",
       "      <td>4</td>\n",
       "      <td>HCD</td>\n",
       "      <td>0.304667</td>\n",
       "      <td>63.062000</td>\n",
       "      <td>0.448464</td>\n",
       "      <td>...</td>\n",
       "      <td>12,16,12,15,20,4,15,10,9,1,17,14,18,16,9|4|HCD...</td>\n",
       "      <td>12</td>\n",
       "      <td>9</td>\n",
       "      <td>0.416667</td>\n",
       "      <td>0.000000</td>\n",
       "      <td>Prosit RNN</td>\n",
       "      <td>0.3</td>\n",
       "      <td></td>\n",
       "      <td>1.0</td>\n",
       "      <td>TUM_HLA2</td>\n",
       "    </tr>\n",
       "    <tr>\n",
       "      <th>4</th>\n",
       "      <td>01650b_BA3-TUM_first_pool_59_01_01-DDA-1h-R2</td>\n",
       "      <td>1364</td>\n",
       "      <td>0.28</td>\n",
       "      <td>0.324262</td>\n",
       "      <td>5,12,4,1,3,16,4,18,1,14,1,6,9</td>\n",
       "      <td>2</td>\n",
       "      <td>HCD</td>\n",
       "      <td>0.324262</td>\n",
       "      <td>81.803001</td>\n",
       "      <td>0.754972</td>\n",
       "      <td>...</td>\n",
       "      <td>5,12,4,1,3,16,4,18,1,14,1,6,9|2|HCD|0.28</td>\n",
       "      <td>5</td>\n",
       "      <td>9</td>\n",
       "      <td>0.285714</td>\n",
       "      <td>0.062500</td>\n",
       "      <td>Prosit RNN</td>\n",
       "      <td>0.32</td>\n",
       "      <td></td>\n",
       "      <td>1.0</td>\n",
       "      <td>TUM_first_pool</td>\n",
       "    </tr>\n",
       "    <tr>\n",
       "      <th>...</th>\n",
       "      <td>...</td>\n",
       "      <td>...</td>\n",
       "      <td>...</td>\n",
       "      <td>...</td>\n",
       "      <td>...</td>\n",
       "      <td>...</td>\n",
       "      <td>...</td>\n",
       "      <td>...</td>\n",
       "      <td>...</td>\n",
       "      <td>...</td>\n",
       "      <td>...</td>\n",
       "      <td>...</td>\n",
       "      <td>...</td>\n",
       "      <td>...</td>\n",
       "      <td>...</td>\n",
       "      <td>...</td>\n",
       "      <td>...</td>\n",
       "      <td>...</td>\n",
       "      <td>...</td>\n",
       "      <td>...</td>\n",
       "      <td>...</td>\n",
       "    </tr>\n",
       "    <tr>\n",
       "      <th>2839405</th>\n",
       "      <td>02097a_BE11-TUM_isoform_59_01_01-2xIT_2xHCD-1h-R3</td>\n",
       "      <td>1567</td>\n",
       "      <td>0.2</td>\n",
       "      <td>0.212523</td>\n",
       "      <td>11,3,9,3,6,20,5,19,5,21,6,15</td>\n",
       "      <td>3</td>\n",
       "      <td>HCD</td>\n",
       "      <td>0.212523</td>\n",
       "      <td>71.878998</td>\n",
       "      <td>0.941249</td>\n",
       "      <td>...</td>\n",
       "      <td>11,3,9,3,6,20,5,19,5,21,6,15|3|HCD|0.2</td>\n",
       "      <td>11</td>\n",
       "      <td>15</td>\n",
       "      <td>0.040000</td>\n",
       "      <td>0.040000</td>\n",
       "      <td>Prosit Transformer</td>\n",
       "      <td>0.21</td>\n",
       "      <td></td>\n",
       "      <td>1.0</td>\n",
       "      <td>TUM_isoform</td>\n",
       "    </tr>\n",
       "    <tr>\n",
       "      <th>2839406</th>\n",
       "      <td>01625b_GA4-TUM_first_pool_25_01_01-2xIT_2xHCD-...</td>\n",
       "      <td>1178</td>\n",
       "      <td>0.2</td>\n",
       "      <td>0.220831</td>\n",
       "      <td>3,11,17,5,17,7,4,6,12,9</td>\n",
       "      <td>2</td>\n",
       "      <td>HCD</td>\n",
       "      <td>0.220831</td>\n",
       "      <td>138.759995</td>\n",
       "      <td>0.940408</td>\n",
       "      <td>...</td>\n",
       "      <td>3,11,17,5,17,7,4,6,12,9|2|HCD|0.2</td>\n",
       "      <td>3</td>\n",
       "      <td>9</td>\n",
       "      <td>0.050000</td>\n",
       "      <td>0.000000</td>\n",
       "      <td>Prosit Transformer</td>\n",
       "      <td>0.22</td>\n",
       "      <td></td>\n",
       "      <td>1.0</td>\n",
       "      <td>TUM_first_pool</td>\n",
       "    </tr>\n",
       "    <tr>\n",
       "      <th>2839407</th>\n",
       "      <td>02445d_BB2-TUM_HLA_14_01_01-3xHCD-1h-R4</td>\n",
       "      <td>1038</td>\n",
       "      <td>0.3</td>\n",
       "      <td>0.329363</td>\n",
       "      <td>10,4,16,9,8,10,17,7,18</td>\n",
       "      <td>3</td>\n",
       "      <td>HCD</td>\n",
       "      <td>0.329363</td>\n",
       "      <td>88.177002</td>\n",
       "      <td>0.976571</td>\n",
       "      <td>...</td>\n",
       "      <td>10,4,16,9,8,10,17,7,18|3|HCD|0.3</td>\n",
       "      <td>10</td>\n",
       "      <td>18</td>\n",
       "      <td>0.000000</td>\n",
       "      <td>0.133333</td>\n",
       "      <td>Prosit Transformer</td>\n",
       "      <td>0.33</td>\n",
       "      <td></td>\n",
       "      <td>1.0</td>\n",
       "      <td>TUM_HLA</td>\n",
       "    </tr>\n",
       "    <tr>\n",
       "      <th>2839408</th>\n",
       "      <td>03036a_BD3-TUM_HLA2_135_01_01-2xIT_2xHCD-1h-R1</td>\n",
       "      <td>1934</td>\n",
       "      <td>0.23</td>\n",
       "      <td>0.279485</td>\n",
       "      <td>1,4,5,7,7,20,18,6,6,13,17,4,17,7,18,18,15</td>\n",
       "      <td>2</td>\n",
       "      <td>HCD</td>\n",
       "      <td>0.279485</td>\n",
       "      <td>210.910004</td>\n",
       "      <td>0.907014</td>\n",
       "      <td>...</td>\n",
       "      <td>1,4,5,7,7,20,18,6,6,13,17,4,17,7,18,18,15|2|HC...</td>\n",
       "      <td>1</td>\n",
       "      <td>15</td>\n",
       "      <td>0.060606</td>\n",
       "      <td>0.138889</td>\n",
       "      <td>Prosit Transformer</td>\n",
       "      <td>0.28</td>\n",
       "      <td></td>\n",
       "      <td>1.0</td>\n",
       "      <td>TUM_HLA2</td>\n",
       "    </tr>\n",
       "    <tr>\n",
       "      <th>2839409</th>\n",
       "      <td>03210a_BF5-TUM_aspn_17_01_01-3xHCD-1h-R1</td>\n",
       "      <td>2060</td>\n",
       "      <td>0.25</td>\n",
       "      <td>0.291858</td>\n",
       "      <td>3,10,12,4,9,7,13,12,10,18,7,9,15,6,8,20,9</td>\n",
       "      <td>3</td>\n",
       "      <td>HCD</td>\n",
       "      <td>0.291858</td>\n",
       "      <td>116.059998</td>\n",
       "      <td>0.880498</td>\n",
       "      <td>...</td>\n",
       "      <td>3,10,12,4,9,7,13,12,10,18,7,9,15,6,8,20,9|3|HC...</td>\n",
       "      <td>3</td>\n",
       "      <td>9</td>\n",
       "      <td>0.230769</td>\n",
       "      <td>0.090909</td>\n",
       "      <td>Prosit Transformer</td>\n",
       "      <td>0.29</td>\n",
       "      <td></td>\n",
       "      <td>1.0</td>\n",
       "      <td>TUM_aspn</td>\n",
       "    </tr>\n",
       "  </tbody>\n",
       "</table>\n",
       "<p>2839410 rows × 23 columns</p>\n",
       "</div>"
      ],
      "text/plain": [
       "                                                  raw_file  scan_number    ce  \\\n",
       "0                  02445d_BH2-TUM_HLA_86_01_01-3xHCD-1h-R4         1428   0.3   \n",
       "1            01640c_BD8-Thermo_SRM_Pool_60_01_01-DDA-1h-R2         1033  0.28   \n",
       "2                  02445d_BG6-TUM_HLA_78_01_01-3xHCD-1h-R4         1033  0.25   \n",
       "3                 03036a_BD12-TUM_HLA2_144_01_01-DDA-1h-R1         1792  0.28   \n",
       "4             01650b_BA3-TUM_first_pool_59_01_01-DDA-1h-R2         1364  0.28   \n",
       "...                                                    ...          ...   ...   \n",
       "2839405  02097a_BE11-TUM_isoform_59_01_01-2xIT_2xHCD-1h-R3         1567   0.2   \n",
       "2839406  01625b_GA4-TUM_first_pool_25_01_01-2xIT_2xHCD-...         1178   0.2   \n",
       "2839407            02445d_BB2-TUM_HLA_14_01_01-3xHCD-1h-R4         1038   0.3   \n",
       "2839408     03036a_BD3-TUM_HLA2_135_01_01-2xIT_2xHCD-1h-R1         1934  0.23   \n",
       "2839409           03210a_BF5-TUM_aspn_17_01_01-3xHCD-1h-R1         2060  0.25   \n",
       "\n",
       "         ce_calib                                   sequence precursor_charge  \\\n",
       "0        0.317071                   8,12,8,3,7,9,5,7,15,7,10                3   \n",
       "1        0.320979                    20,3,10,18,12,10,1,18,9                2   \n",
       "2        0.277811                  13,16,15,6,16,16,5,8,1,10                2   \n",
       "3        0.304667   12,16,12,15,20,4,15,10,9,1,17,14,18,16,9                4   \n",
       "4        0.324262              5,12,4,1,3,16,4,18,1,14,1,6,9                2   \n",
       "...           ...                                        ...              ...   \n",
       "2839405  0.212523               11,3,9,3,6,20,5,19,5,21,6,15                3   \n",
       "2839406  0.220831                    3,11,17,5,17,7,4,6,12,9                2   \n",
       "2839407  0.329363                     10,4,16,9,8,10,17,7,18                3   \n",
       "2839408  0.279485  1,4,5,7,7,20,18,6,6,13,17,4,17,7,18,18,15                2   \n",
       "2839409  0.291858  3,10,12,4,9,7,13,12,10,18,7,9,15,6,8,20,9                3   \n",
       "\n",
       "        method  collision_energy_aligned_normed       score  \\\n",
       "0          HCD                         0.317071  127.760002   \n",
       "1          HCD                         0.320979  122.330002   \n",
       "2          HCD                         0.277811   82.261002   \n",
       "3          HCD                         0.304667   63.062000   \n",
       "4          HCD                         0.324262   81.803001   \n",
       "...        ...                              ...         ...   \n",
       "2839405    HCD                         0.212523   71.878998   \n",
       "2839406    HCD                         0.220831  138.759995   \n",
       "2839407    HCD                         0.329363   88.177002   \n",
       "2839408    HCD                         0.279485  210.910004   \n",
       "2839409    HCD                         0.291858  116.059998   \n",
       "\n",
       "         Angular Similarity  ...  \\\n",
       "0                  0.889237  ...   \n",
       "1                  0.941458  ...   \n",
       "2                  0.902218  ...   \n",
       "3                  0.448464  ...   \n",
       "4                  0.754972  ...   \n",
       "...                     ...  ...   \n",
       "2839405            0.941249  ...   \n",
       "2839406            0.940408  ...   \n",
       "2839407            0.976571  ...   \n",
       "2839408            0.907014  ...   \n",
       "2839409            0.880498  ...   \n",
       "\n",
       "                                                       PCM nterm  cterm  \\\n",
       "0                       8,12,8,3,7,9,5,7,15,7,10|3|HCD|0.3     8     10   \n",
       "1                       20,3,10,18,12,10,1,18,9|2|HCD|0.28    20      9   \n",
       "2                     13,16,15,6,16,16,5,8,1,10|2|HCD|0.25    13     10   \n",
       "3        12,16,12,15,20,4,15,10,9,1,17,14,18,16,9|4|HCD...    12      9   \n",
       "4                 5,12,4,1,3,16,4,18,1,14,1,6,9|2|HCD|0.28     5      9   \n",
       "...                                                    ...   ...    ...   \n",
       "2839405             11,3,9,3,6,20,5,19,5,21,6,15|3|HCD|0.2    11     15   \n",
       "2839406                  3,11,17,5,17,7,4,6,12,9|2|HCD|0.2     3      9   \n",
       "2839407                   10,4,16,9,8,10,17,7,18|3|HCD|0.3    10     18   \n",
       "2839408  1,4,5,7,7,20,18,6,6,13,17,4,17,7,18,18,15|2|HC...     1     15   \n",
       "2839409  3,10,12,4,9,7,13,12,10,18,7,9,15,6,8,20,9|3|HC...     3      9   \n",
       "\n",
       "              FDR       FNR            Data Set  ce_calib_binned  All counts  \\\n",
       "0        0.280000  0.052632          Prosit RNN             0.32         1.0   \n",
       "1        0.125000  0.000000          Prosit RNN             0.32         1.0   \n",
       "2        0.000000  0.133333          Prosit RNN             0.28         1.0   \n",
       "3        0.416667  0.000000          Prosit RNN              0.3         1.0   \n",
       "4        0.285714  0.062500          Prosit RNN             0.32         1.0   \n",
       "...           ...       ...                 ...              ...  ...    ...   \n",
       "2839405  0.040000  0.040000  Prosit Transformer             0.21         1.0   \n",
       "2839406  0.050000  0.000000  Prosit Transformer             0.22         1.0   \n",
       "2839407  0.000000  0.133333  Prosit Transformer             0.33         1.0   \n",
       "2839408  0.060606  0.138889  Prosit Transformer             0.28         1.0   \n",
       "2839409  0.230769  0.090909  Prosit Transformer             0.29         1.0   \n",
       "\n",
       "                    pool  \n",
       "0                TUM_HLA  \n",
       "1        Thermo_SRM_Pool  \n",
       "2                TUM_HLA  \n",
       "3               TUM_HLA2  \n",
       "4         TUM_first_pool  \n",
       "...                  ...  \n",
       "2839405      TUM_isoform  \n",
       "2839406   TUM_first_pool  \n",
       "2839407          TUM_HLA  \n",
       "2839408         TUM_HLA2  \n",
       "2839409         TUM_aspn  \n",
       "\n",
       "[2839410 rows x 23 columns]"
      ]
     },
     "execution_count": 90,
     "metadata": {},
     "output_type": "execute_result"
    }
   ],
   "source": [
    "datafile"
   ]
  },
  {
   "cell_type": "code",
   "execution_count": 91,
   "metadata": {},
   "outputs": [
    {
     "data": {
      "text/plain": [
       "0                  Prosit RNN\n",
       "1                  Prosit RNN\n",
       "2                  Prosit RNN\n",
       "4                  Prosit RNN\n",
       "5                  Prosit RNN\n",
       "                  ...        \n",
       "2839405    Prosit Transformer\n",
       "2839406    Prosit Transformer\n",
       "2839407    Prosit Transformer\n",
       "2839408    Prosit Transformer\n",
       "2839409    Prosit Transformer\n",
       "Name: Data Set, Length: 2823625, dtype: category\n",
       "Categories (2, object): ['Prosit Transformer', 'Prosit RNN']"
      ]
     },
     "execution_count": 91,
     "metadata": {},
     "output_type": "execute_result"
    }
   ],
   "source": [
    "filterDf(datafile)[\"Data Set\"]"
   ]
  },
  {
   "cell_type": "code",
   "execution_count": 92,
   "metadata": {},
   "outputs": [
    {
     "data": {
      "image/png": "[encoded data removed]",
      "text/plain": [
       "<Figure size 1152x432 with 1 Axes>"
      ]
     },
     "metadata": {},
     "output_type": "display_data"
    }
   ],
   "source": [
    "plt.figure(figsize=(16, 6))\n",
    "ax = sns.violinplot(x=\"len\", y=\"Angular Similarity\", hue=\"Data Set\",\n",
    "                    data=filterDf(datafile), palette=palette, split=True, \n",
    "                    hue_order= ['Prosit Transformer', 'Prosit RNN'])"
   ]
  },
  {
   "cell_type": "code",
   "execution_count": 99,
   "metadata": {},
   "outputs": [],
   "source": [
    "fs = 30"
   ]
  },
  {
   "cell_type": "code",
   "execution_count": 101,
   "metadata": {},
   "outputs": [
    {
     "data": {
      "image/png": "[encoded data removed]",
      "text/plain": [
       "<Figure size 1152x432 with 1 Axes>"
      ]
     },
     "metadata": {},
     "output_type": "display_data"
    }
   ],
   "source": [
    "plt.figure(figsize=(16, 6))\n",
    "ax = sns.violinplot(x=\"len\", y=\"Angular Similarity\", hue=\"Data Set\",\n",
    "                    data=filterDf(datafile), palette=palette, split=True, \n",
    "                    hue_order= ['Prosit Transformer', 'Prosit RNN'])\n",
    "\n",
    "\n",
    "\n",
    "#plt.legend(title='', loc='lower left', labels=['Prosit Transformer', 'Prosit RNN'], prop={\"size\":14})\n",
    "ax.legend(handles=ax.legend_.legendHandles, prop={\"size\":fs})\n",
    "\n",
    "plt.xlabel(\"Peptide length\", fontsize=fs)\n",
    "plt.xticks(fontsize=fs)\n",
    "plt.yticks(fontsize=fs)\n",
    "plt.ylabel(\"Angular Similarity\", fontsize=fs)\n",
    "plt.tight_layout()\n",
    "plt.savefig('./plots/violin_sa_pepLen.png')"
   ]
  },
  {
   "cell_type": "code",
   "execution_count": 94,
   "metadata": {},
   "outputs": [
    {
     "data": {
      "image/png": "[encoded data removed]",
      "text/plain": [
       "<Figure size 432x288 with 1 Axes>"
      ]
     },
     "metadata": {},
     "output_type": "display_data"
    }
   ],
   "source": [
    "ax = sns.kdeplot(data=filterDf(datafile), x=\"Angular Similarity\", \n",
    "                 hue=\"Data Set\", \n",
    "                 hue_order= ['Prosit Transformer', 'Prosit RNN'],\n",
    "                palette=palette)\n",
    "\n",
    "ax.invert_xaxis()\n",
    "\n",
    "#sns.kdeplot(data=filterDf(tape_df), x=\"spectral_angle\", hue=\"data_set\")\n",
    "#plt.legend(title='', loc='upper right', labels=['Prosit Transformer', 'Prosit RNN'], prop={\"size\":14})\n",
    "plt.xlabel(\"Angular Similarity\", fontsize=14)\n",
    "plt.xticks(fontsize=14)\n",
    "plt.yticks(fontsize=14)\n",
    "plt.ylabel(\"Density\", fontsize=14)\n",
    "plt.tight_layout()\n",
    "\n",
    "#seaborn.histplot(data=filterDf(datafile), x=\"Angular Similarity\", hue=\"Data Set\", alpha=0.2)\n",
    "#plt.savefig('./plots/spectralAngleDist_x_reverse.png')"
   ]
  },
  {
   "cell_type": "code",
   "execution_count": 54,
   "metadata": {},
   "outputs": [
    {
     "ename": "AttributeError",
     "evalue": "'NoneType' object has no attribute 'set_title'",
     "output_type": "error",
     "traceback": [
      "\u001b[0;31m---------------------------------------------------------------------------\u001b[0m",
      "\u001b[0;31mAttributeError\u001b[0m                            Traceback (most recent call last)",
      "\u001b[0;32m<ipython-input-54-e7d83f5bc206>\u001b[0m in \u001b[0;36m<module>\u001b[0;34m\u001b[0m\n\u001b[1;32m      9\u001b[0m \u001b[0;34m\u001b[0m\u001b[0m\n\u001b[1;32m     10\u001b[0m \u001b[0mA\u001b[0m \u001b[0;34m=\u001b[0m \u001b[0max\u001b[0m\u001b[0;34m.\u001b[0m\u001b[0mget_legend\u001b[0m\u001b[0;34m(\u001b[0m\u001b[0;34m)\u001b[0m\u001b[0;34m\u001b[0m\u001b[0;34m\u001b[0m\u001b[0m\n\u001b[0;32m---> 11\u001b[0;31m \u001b[0mA\u001b[0m\u001b[0;34m.\u001b[0m\u001b[0mset_title\u001b[0m\u001b[0;34m(\u001b[0m\u001b[0;34m''\u001b[0m\u001b[0;34m)\u001b[0m\u001b[0;34m\u001b[0m\u001b[0;34m\u001b[0m\u001b[0m\n\u001b[0m\u001b[1;32m     12\u001b[0m \u001b[0;34m\u001b[0m\u001b[0m\n\u001b[1;32m     13\u001b[0m \u001b[0mplt\u001b[0m\u001b[0;34m.\u001b[0m\u001b[0msetp\u001b[0m\u001b[0;34m(\u001b[0m\u001b[0mA\u001b[0m\u001b[0;34m.\u001b[0m\u001b[0mget_texts\u001b[0m\u001b[0;34m(\u001b[0m\u001b[0;34m)\u001b[0m\u001b[0;34m,\u001b[0m \u001b[0mfontsize\u001b[0m\u001b[0;34m=\u001b[0m\u001b[0;34m'14'\u001b[0m\u001b[0;34m)\u001b[0m \u001b[0;31m# for legend text\u001b[0m\u001b[0;34m\u001b[0m\u001b[0;34m\u001b[0m\u001b[0m\n",
      "\u001b[0;31mAttributeError\u001b[0m: 'NoneType' object has no attribute 'set_title'"
     ]
    },
    {
     "data": {
      "image/png": "[encoded data removed]",
      "text/plain": [
       "<Figure size 432x288 with 1 Axes>"
      ]
     },
     "metadata": {},
     "output_type": "display_data"
    }
   ],
   "source": [
    "ax = sns.histplot(data=filterDf(datafile), x=\"Angular Similarity\", \n",
    "                  hue=\"Data Set\", kde =True, \n",
    "                  hue_order= ['Prosit Transformer', 'Prosit RNN'],\n",
    "                 palette=palette)\n",
    "\n",
    "ax.invert_xaxis()\n",
    "\n",
    "#plt.legend(title='', loc='upper right', labels=['Prosit Transformer', 'Prosit RNN'], prop={\"size\":14})\n",
    "\n",
    "A = ax.get_legend()\n",
    "A.set_title('')\n",
    "\n",
    "plt.setp(A.get_texts(), fontsize='14') # for legend text\n",
    "plt.setp(A.get_title(), fontsize='14') # for legend title\n",
    "\n",
    "plt.xlabel(\"Angular Similarity\", fontsize=14)\n",
    "plt.xticks(fontsize=14)\n",
    "plt.yticks(fontsize=14)\n",
    "plt.ylabel(\"Density\", fontsize=14)\n",
    "plt.tight_layout()\n",
    "\n",
    "#seaborn.histplot(data=filterDf(datafile), x=\"Angular Similarity\", hue=\"Data Set\", alpha=0.2)\n",
    "plt.savefig('./plots/spectralAngleDist.png')"
   ]
  },
  {
   "cell_type": "code",
   "execution_count": null,
   "metadata": {},
   "outputs": [],
   "source": [
    "ax = sns.kdeplot(data=filterDf(datafile, \"FNR\", 0, 0.5), x=\"FNR\", \n",
    "            hue=\"Data Set\", hue_order= ['Prosit Transformer', 'Prosit RNN'],\n",
    "            palette=palette)\n",
    "\n",
    "#plt.legend(title='', loc='upper right', labels=['Prosit Transformer', 'Prosit RNN'], prop={\"size\":14})\n",
    "\n",
    "A = ax.get_legend()\n",
    "A.set_title('')\n",
    "\n",
    "plt.setp(A.get_texts(), fontsize='14') # for legend text\n",
    "plt.setp(A.get_title(), fontsize='14') # for legend title\n",
    "\n",
    "plt.xlabel(\"FNR\", fontsize=14)\n",
    "plt.xticks(fontsize=14)\n",
    "plt.yticks(fontsize=14)\n",
    "plt.ylabel(\"Density\", fontsize=14)\n",
    "plt.tight_layout()\n",
    "\n",
    "#seaborn.histplot(data=filterDf(datafile), x=\"Angular Similarity\", hue=\"Data Set\", alpha=0.2)\n",
    "plt.savefig('./plots/FNR.png')"
   ]
  },
  {
   "cell_type": "code",
   "execution_count": null,
   "metadata": {},
   "outputs": [],
   "source": [
    "\n",
    "ax = sns.kdeplot(data=filterDf(datafile, \"FDR\", 0, 0.5), x=\"FDR\", hue=\"Data Set\", palette=palette)\n",
    "\n",
    "#plt.legend(title='', loc='upper right', labels=['Prosit Transformer', 'Prosit RNN'], prop={\"size\":14})\n",
    "\n",
    "A = ax.get_legend()\n",
    "A.set_title('')\n",
    "\n",
    "plt.setp(A.get_texts(), fontsize='14') # for legend text\n",
    "plt.setp(A.get_title(), fontsize='14') # for legend title\n",
    "\n",
    "plt.xlabel(\"FDR\", fontsize=14)\n",
    "plt.xticks(fontsize=14)\n",
    "plt.yticks(fontsize=14)\n",
    "plt.ylabel(\"Density\", fontsize=14)\n",
    "plt.tight_layout()\n",
    "\n",
    "#seaborn.histplot(data=filterDf(datafile), x=\"Angular Similarity\", hue=\"Data Set\", alpha=0.2)\n",
    "plt.savefig('./plots/FDR.png')"
   ]
  },
  {
   "cell_type": "code",
   "execution_count": null,
   "metadata": {},
   "outputs": [],
   "source": [
    "!pwd"
   ]
  },
  {
   "cell_type": "code",
   "execution_count": null,
   "metadata": {},
   "outputs": [],
   "source": []
  },
  {
   "cell_type": "code",
   "execution_count": null,
   "metadata": {},
   "outputs": [],
   "source": []
  },
  {
   "cell_type": "code",
   "execution_count": null,
   "metadata": {},
   "outputs": [],
   "source": []
  },
  {
   "cell_type": "code",
   "execution_count": null,
   "metadata": {},
   "outputs": [],
   "source": [
    "import pandas as pd"
   ]
  },
  {
   "cell_type": "code",
   "execution_count": null,
   "metadata": {},
   "outputs": [],
   "source": []
  },
  {
   "cell_type": "code",
   "execution_count": null,
   "metadata": {},
   "outputs": [],
   "source": []
  },
  {
   "cell_type": "code",
   "execution_count": null,
   "metadata": {},
   "outputs": [],
   "source": []
  },
  {
   "cell_type": "code",
   "execution_count": null,
   "metadata": {},
   "outputs": [],
   "source": [
    "!ls /sdd/berzelius/ceCalibration/"
   ]
  },
  {
   "cell_type": "code",
   "execution_count": null,
   "metadata": {},
   "outputs": [],
   "source": [
    "def _makeFig(df: pd.DataFrame)->None:\n",
    "    \"\"\"Create figure\"\"\"\n",
    "    fs=26 + 5\n",
    "    plt.figure(figsize=(16, 10))\n",
    "    ax = seaborn.lineplot(x=\"ce\", y=\"sa\", marker=\"o\", hue=\"CE\", data = df, palette=[\"C0\", \"C1\", \"C2\",\"C3\", \"C4\"])\n",
    "    legend = ax.legend(handles=ax.legend_.legendHandles,\n",
    "                       prop={\"size\":fs})\n",
    "    plt.xlabel(\"Collision Energy\", fontsize=fs)\n",
    "    plt.ylabel(\"Median Angular Similarity\", fontsize=fs)\n",
    "    plt.xticks(fontsize=fs)\n",
    "    plt.yticks(fontsize=fs)\n",
    "    plt.plot([0.2, 0.2], [0, 1], color=\"C0\")\n",
    "    plt.plot([0.25, 0.25], [0, 1], color=\"C1\")\n",
    "    plt.plot([0.3, 0.3], [0, 1], color=\"C2\")\n",
    "    plt.plot([0.35, 0.35], [0, 1], color=\"C3\")\n",
    "    plt.plot([0.4, 0.4], [0, 1], color=\"C4\")\n",
    "    plt.tight_layout()\n",
    "    plt.savefig('./plots/CeCalibration.png')"
   ]
  },
  {
   "cell_type": "code",
   "execution_count": null,
   "metadata": {},
   "outputs": [],
   "source": [
    "#df = pd.read_csv(\"/sdd/berzelius/ceCalibration/CeCalibation.csv\", index_col=0)"
   ]
  },
  {
   "cell_type": "code",
   "execution_count": null,
   "metadata": {},
   "outputs": [],
   "source": [
    "_makeFig(df)"
   ]
  },
  {
   "cell_type": "code",
   "execution_count": null,
   "metadata": {},
   "outputs": [],
   "source": []
  },
  {
   "cell_type": "code",
   "execution_count": null,
   "metadata": {},
   "outputs": [],
   "source": [
    "ax = sns.histplot(data=filterDf(datafile), x=\"Angular Similarity\", hue=\"Data Set\", alpha=0.2,kde =True)\n",
    "\n",
    "ax.invert_xaxis()\n",
    "\n",
    "#sns.kdeplot(data=filterDf(tape_df), x=\"spectral_angle\", hue=\"data_set\")\n",
    "plt.legend(title='', loc='upper right', labels=['Prosit Transformer', 'Prosit RNN'], prop={\"size\":14})\n",
    "plt.xlabel(\"Angular Similarity\", fontsize=14)\n",
    "plt.xticks(fontsize=14)\n",
    "plt.yticks(fontsize=14)\n",
    "plt.ylabel(\"Density\", fontsize=14)\n",
    "plt.tight_layout()\n",
    "\n",
    "#seaborn.histplot(data=filterDf(datafile), x=\"Angular Similarity\", hue=\"Data Set\", alpha=0.2)\n",
    "#plt.savefig('./plots/spectralAngleDist_x_reverse.png')"
   ]
  },
  {
   "cell_type": "code",
   "execution_count": null,
   "metadata": {},
   "outputs": [],
   "source": []
  },
  {
   "cell_type": "code",
   "execution_count": null,
   "metadata": {},
   "outputs": [],
   "source": []
  },
  {
   "cell_type": "code",
   "execution_count": null,
   "metadata": {},
   "outputs": [],
   "source": []
  },
  {
   "cell_type": "code",
   "execution_count": null,
   "metadata": {},
   "outputs": [],
   "source": [
    "seaborn.histplot(data=filterDf(datafile), x=\"Angular Similarity\", hue=\"Data Set\", alpha=0.2,kde =True)"
   ]
  },
  {
   "cell_type": "code",
   "execution_count": null,
   "metadata": {},
   "outputs": [],
   "source": [
    "seaborn.distplot()"
   ]
  }
 ],
 "metadata": {
  "kernelspec": {
   "display_name": "Python (terran2.0)",
   "language": "python",
   "name": "terran2.0"
  },
  "language_info": {
   "codemirror_mode": {
    "name": "ipython",
    "version": 3
   },
   "file_extension": ".py",
   "mimetype": "text/x-python",
   "name": "python",
   "nbconvert_exporter": "python",
   "pygments_lexer": "ipython3",
   "version": "3.6.13"
  }
 },
 "nbformat": 4,
 "nbformat_minor": 2
}
