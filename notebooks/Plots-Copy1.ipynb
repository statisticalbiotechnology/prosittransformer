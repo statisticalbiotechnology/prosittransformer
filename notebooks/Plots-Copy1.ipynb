{
 "cells": [
  {
   "cell_type": "code",
   "execution_count": 1,
   "metadata": {},
   "outputs": [],
   "source": [
    "import feather\n",
    "path1 = '/sdd/berzelius/final_results/delta_0.16455696202531644/dataframe.feather'\n",
    "datafile1 = feather.read_dataframe(path1)\n",
    "\n",
    "datafile1 = datafile1.rename(columns={\"jacc_alpha\" : \"FDR\", \n",
    "                                    \"jacc_beta\" : \"FNR\", \n",
    "                                    \"spectral_angle\" : \"Angular Similarity\",\n",
    "                                   \"data_set\" : \"Data Set\"})\n",
    "\n",
    "datafile1[\"Data Set\"] = datafile1[\"Data Set\"].map({'ho':\"Prosit RNN\", 'test':\"Prosit Transformer – delta=0.164\"})\n",
    "\n",
    "X = datafile1[datafile1[\"Data Set\"] == \"Prosit RNN\"]"
   ]
  },
  {
   "cell_type": "code",
   "execution_count": 3,
   "metadata": {},
   "outputs": [
    {
     "data": {
      "text/plain": [
       "Index(['raw_file', 'scan_number', 'ce', 'ce_calib', 'sequence',\n",
       "       'precursor_charge', 'method', 'collision_energy_aligned_normed',\n",
       "       'score', 'Angular Similarity', 'reverse', 'len', 'UID', 'PCM', 'nterm',\n",
       "       'cterm', 'FDR', 'FNR', 'Data Set', 'ce_calib_binned', 'All', 'counts',\n",
       "       'pool'],\n",
       "      dtype='object')"
      ]
     },
     "execution_count": 3,
     "metadata": {},
     "output_type": "execute_result"
    }
   ],
   "source": [
    "X.columns"
   ]
  },
  {
   "cell_type": "code",
   "execution_count": null,
   "metadata": {},
   "outputs": [],
   "source": []
  },
  {
   "cell_type": "code",
   "execution_count": null,
   "metadata": {},
   "outputs": [],
   "source": []
  },
  {
   "cell_type": "code",
   "execution_count": null,
   "metadata": {},
   "outputs": [],
   "source": []
  },
  {
   "cell_type": "code",
   "execution_count": null,
   "metadata": {},
   "outputs": [],
   "source": []
  },
  {
   "cell_type": "code",
   "execution_count": null,
   "metadata": {},
   "outputs": [],
   "source": []
  },
  {
   "cell_type": "code",
   "execution_count": null,
   "metadata": {},
   "outputs": [],
   "source": [
    "import pickle as pkl"
   ]
  },
  {
   "cell_type": "code",
   "execution_count": null,
   "metadata": {},
   "outputs": [],
   "source": [
    "path=\"/sdd/berzelius/final_results/delta_0.0/results.pkl\""
   ]
  },
  {
   "cell_type": "code",
   "execution_count": null,
   "metadata": {},
   "outputs": [],
   "source": [
    "X = pkl.load(open(f\"{path}\", \"rb\"))"
   ]
  },
  {
   "cell_type": "code",
   "execution_count": null,
   "metadata": {},
   "outputs": [],
   "source": [
    "PREDS = [x[\"prediction\"] for x in X[1]]"
   ]
  },
  {
   "cell_type": "code",
   "execution_count": null,
   "metadata": {},
   "outputs": [],
   "source": [
    "np.vstack(PREDS).shape"
   ]
  },
  {
   "cell_type": "code",
   "execution_count": null,
   "metadata": {},
   "outputs": [],
   "source": []
  },
  {
   "cell_type": "code",
   "execution_count": null,
   "metadata": {},
   "outputs": [],
   "source": [
    "len(x[1])"
   ]
  },
  {
   "cell_type": "code",
   "execution_count": null,
   "metadata": {},
   "outputs": [],
   "source": [
    "x[1][0]"
   ]
  },
  {
   "cell_type": "code",
   "execution_count": null,
   "metadata": {},
   "outputs": [],
   "source": []
  },
  {
   "cell_type": "code",
   "execution_count": null,
   "metadata": {},
   "outputs": [],
   "source": [
    "%config Completer.use_jedi = False\n",
    "\n"
   ]
  },
  {
   "cell_type": "code",
   "execution_count": null,
   "metadata": {},
   "outputs": [],
   "source": [
    "import pickle\n",
    "import pandas as pd\n",
    "import seaborn\n",
    "import matplotlib.pyplot as plt\n",
    "import matplotlib\n",
    "matplotlib.rcParams['text.usetex'] = True\n"
   ]
  },
  {
   "cell_type": "markdown",
   "metadata": {},
   "source": [
    "# Find $\\delta$"
   ]
  },
  {
   "cell_type": "code",
   "execution_count": null,
   "metadata": {},
   "outputs": [],
   "source": [
    "!pwd"
   ]
  },
  {
   "cell_type": "code",
   "execution_count": null,
   "metadata": {},
   "outputs": [],
   "source": [
    "#X = pickle.load(open(\"/sdd/berzelius/delta_runs/all_results.pkl\", \"rb\"))\n",
    "X = pickle.load(open(\"/home/ekvall/prosittransformer/notebooks/data/all_results.pkl\", \"rb\"))\n"
   ]
  },
  {
   "cell_type": "code",
   "execution_count": null,
   "metadata": {},
   "outputs": [],
   "source": [
    "X"
   ]
  },
  {
   "cell_type": "code",
   "execution_count": null,
   "metadata": {},
   "outputs": [],
   "source": [
    "data = list()\n",
    "for x in X:\n",
    "    metric = \"fdr\"\n",
    "    data.append({\"delta\" : x[\"delta\"], \"value\" : x[metric], \"metric\" : metric})\n",
    "    metric = \"fnr\"\n",
    "    data.append({\"delta\" : x[\"delta\"], \"value\" : x[metric], \"metric\" : metric})\n",
    "    metric = \"mean_spectral_angle\"\n",
    "    data.append({\"delta\" : x[\"delta\"], \"value\" : x[metric], \"metric\" : metric})"
   ]
  },
  {
   "cell_type": "code",
   "execution_count": null,
   "metadata": {},
   "outputs": [],
   "source": [
    "df = pd.DataFrame(data)"
   ]
  },
  {
   "cell_type": "code",
   "execution_count": null,
   "metadata": {},
   "outputs": [],
   "source": [
    "df.loc[df.metric == \"fdr\", 'metric'] = \"FDR\"\n",
    "df.loc[df.metric == \"fnr\", 'metric'] = \"FNR\"\n",
    "df.loc[df.metric == \"mean_spectral_angle\", 'metric'] = \"Angular Similarity\"\n"
   ]
  },
  {
   "cell_type": "code",
   "execution_count": null,
   "metadata": {},
   "outputs": [],
   "source": [
    "df_test = df.iloc[[i for i in range(len(df)) if i % 3 == 0 ]]"
   ]
  },
  {
   "cell_type": "code",
   "execution_count": null,
   "metadata": {},
   "outputs": [],
   "source": [
    "df_test = df[df.delta.isin(deltas)]"
   ]
  },
  {
   "cell_type": "code",
   "execution_count": null,
   "metadata": {},
   "outputs": [],
   "source": [
    "deltas = [d for i, d in enumerate(sorted(list(set(df.delta)))) if i % 2 == 0]"
   ]
  },
  {
   "cell_type": "code",
   "execution_count": null,
   "metadata": {},
   "outputs": [],
   "source": [
    "deltas = [d for d in deltas if d > -0.34177215189873417 * 2 + 0.2 and d < -0.34177215189873417 * 2 - 0.2]"
   ]
  },
  {
   "cell_type": "code",
   "execution_count": null,
   "metadata": {},
   "outputs": [],
   "source": [
    "df_test = df[df.delta.isin(deltas)]"
   ]
  },
  {
   "cell_type": "code",
   "execution_count": null,
   "metadata": {},
   "outputs": [],
   "source": [
    "deltas"
   ]
  },
  {
   "cell_type": "code",
   "execution_count": null,
   "metadata": {},
   "outputs": [],
   "source": [
    "[0, -0.34177215189873417, -0.6962025316455696]"
   ]
  },
  {
   "cell_type": "code",
   "execution_count": null,
   "metadata": {},
   "outputs": [],
   "source": [
    "-0.34177215189873417 * 2"
   ]
  },
  {
   "cell_type": "code",
   "execution_count": null,
   "metadata": {},
   "outputs": [],
   "source": [
    "deltas"
   ]
  },
  {
   "cell_type": "code",
   "execution_count": null,
   "metadata": {},
   "outputs": [],
   "source": []
  },
  {
   "cell_type": "code",
   "execution_count": null,
   "metadata": {},
   "outputs": [],
   "source": [
    "fs = 18"
   ]
  },
  {
   "cell_type": "code",
   "execution_count": null,
   "metadata": {},
   "outputs": [],
   "source": [
    "plt.figure(figsize=(10, 6))\n",
    "ax = seaborn.lineplot(x=\"delta\", y=\"value\", marker=\"o\", hue=\"metric\", data = df_test)\n",
    "legend = ax.legend(handles=ax.legend_.legendHandles, labels=['FDR', 'FNR', 'Angular Similarity'], prop={\"size\":fs})\n",
    "\n",
    "\n",
    "#plt.legend.get_title().set_fontsize('6')\n",
    "#plt.rcParams['legend.title_fontsize'] = fs\n",
    "plt.xlabel(r\"$\\delta$\", fontsize=fs + 10)\n",
    "plt.ylabel(\"FDR/FNR/Angular Similarity\", fontsize=fs)\n",
    "plt.xticks(fontsize=fs)\n",
    "plt.yticks(fontsize=fs)\n",
    "\n",
    "plt.locator_params(axis='y', nbins=5)\n",
    "plt.locator_params(axis='x', nbins=6)\n",
    "\n",
    "#plt.savefig(\"./compare.png\")"
   ]
  },
  {
   "cell_type": "code",
   "execution_count": null,
   "metadata": {},
   "outputs": [],
   "source": [
    "import numpy as np"
   ]
  },
  {
   "cell_type": "code",
   "execution_count": null,
   "metadata": {},
   "outputs": [],
   "source": [
    "np.linspace(0,0.1,40)"
   ]
  },
  {
   "cell_type": "markdown",
   "metadata": {},
   "source": [
    "# Final model result plots"
   ]
  },
  {
   "cell_type": "code",
   "execution_count": null,
   "metadata": {},
   "outputs": [],
   "source": [
    "import feather\n",
    "import seaborn as sns"
   ]
  },
  {
   "cell_type": "code",
   "execution_count": null,
   "metadata": {},
   "outputs": [],
   "source": [
    "plt.style.use('ggplot')"
   ]
  },
  {
   "cell_type": "code",
   "execution_count": null,
   "metadata": {},
   "outputs": [],
   "source": [
    "\n"
   ]
  },
  {
   "cell_type": "code",
   "execution_count": null,
   "metadata": {},
   "outputs": [],
   "source": [
    "import feather\n",
    "path1 = '/sdd/berzelius/final_results/delta_0.16455696202531644/dataframe.feather'\n",
    "datafile1 = feather.read_dataframe(path1)\n",
    "\n",
    "datafile1 = datafile1.rename(columns={\"jacc_alpha\" : \"FDR\", \n",
    "                                    \"jacc_beta\" : \"FNR\", \n",
    "                                    \"spectral_angle\" : \"Angular Similarity\",\n",
    "                                   \"data_set\" : \"Data Set\"})\n",
    "\n",
    "datafile1[\"Data Set\"] = datafile1[\"Data Set\"].map({'ho':\"Prosit RNN\", 'test':\"Prosit Transformer – delta=0.164\"})\n",
    "\n",
    "X = datafile1[datafile1[\"Data Set\"] == \"Prosit RNN\"]"
   ]
  },
  {
   "cell_type": "code",
   "execution_count": null,
   "metadata": {},
   "outputs": [],
   "source": [
    "[\"Prosit RNN\"]"
   ]
  },
  {
   "cell_type": "code",
   "execution_count": null,
   "metadata": {},
   "outputs": [],
   "source": [
    "X = datafile1[datafile1[\"Data Set\"] == \"Prosit RNN\"]"
   ]
  },
  {
   "cell_type": "code",
   "execution_count": null,
   "metadata": {},
   "outputs": [],
   "source": [
    "X[X.pool == \"TUM_HLA\"].shape"
   ]
  },
  {
   "cell_type": "code",
   "execution_count": null,
   "metadata": {},
   "outputs": [],
   "source": [
    "set(X.pool)"
   ]
  },
  {
   "cell_type": "code",
   "execution_count": null,
   "metadata": {},
   "outputs": [],
   "source": []
  },
  {
   "cell_type": "code",
   "execution_count": null,
   "metadata": {},
   "outputs": [],
   "source": [
    "path2 = '/sdd/berzelius/final_results/delta_0.34177215189873417/dataframe.feather'\n",
    "datafile2 = feather.read_dataframe(path2)\n",
    "\n",
    "datafile2 = datafile2.rename(columns={\"jacc_alpha\" : \"FDR\", \n",
    "                                    \"jacc_beta\" : \"FNR\", \n",
    "                                    \"spectral_angle\" : \"Angular Similarity\",\n",
    "                                   \"data_set\" : \"Data Set\"})\n",
    "\n",
    "datafile2[\"Data Set\"] = datafile2[\"Data Set\"].map({'ho':\"Prosit RNN\", 'test':\"Prosit Transformer – delta=0.341\"})"
   ]
  },
  {
   "cell_type": "code",
   "execution_count": null,
   "metadata": {},
   "outputs": [],
   "source": [
    "\n",
    "\n",
    "path3 = '/sdd/berzelius/final_results/delta_0.5189873417721519/dataframe.feather'\n",
    "datafile3 = feather.read_dataframe(path3)\n",
    "\n",
    "datafile3 = datafile3.rename(columns={\"jacc_alpha\" : \"FDR\", \n",
    "                                    \"jacc_beta\" : \"FNR\", \n",
    "                                    \"spectral_angle\" : \"Angular Similarity\",\n",
    "                                   \"data_set\" : \"Data Set\"})\n",
    "\n",
    "datafile3[\"Data Set\"] = datafile3[\"Data Set\"].map({'ho':\"Prosit RNN\", 'test':\"Prosit Transformer – delta=0.518\"})"
   ]
  },
  {
   "cell_type": "code",
   "execution_count": null,
   "metadata": {},
   "outputs": [],
   "source": [
    "datafile2 = datafile2[datafile2[\"Data Set\"] != \"Prosit RNN\"]\n",
    "datafile3 = datafile3[datafile3[\"Data Set\"] != \"Prosit RNN\"]"
   ]
  },
  {
   "cell_type": "code",
   "execution_count": null,
   "metadata": {},
   "outputs": [],
   "source": [
    "datafile = pd.concat([datafile1, datafile2, datafile3])"
   ]
  },
  {
   "cell_type": "code",
   "execution_count": null,
   "metadata": {},
   "outputs": [],
   "source": [
    "datafile.reset_index(inplace=True)"
   ]
  },
  {
   "cell_type": "code",
   "execution_count": null,
   "metadata": {},
   "outputs": [],
   "source": [
    "fs = 18"
   ]
  },
  {
   "cell_type": "code",
   "execution_count": null,
   "metadata": {},
   "outputs": [],
   "source": [
    "def filterDf(df, feature = \"Angular Similarity\", lower= 0.5, upper=1):\n",
    "    mask = ((df[feature]>lower) & (df[feature] < upper))\n",
    "    return df[mask]"
   ]
  },
  {
   "cell_type": "code",
   "execution_count": null,
   "metadata": {},
   "outputs": [],
   "source": [
    "sns.set_style(\"whitegrid\", {'axes.grid' : False})\n"
   ]
  },
  {
   "cell_type": "code",
   "execution_count": null,
   "metadata": {},
   "outputs": [],
   "source": [
    "#palette ={'Prosit Transformer': \"C1\", 'Prosit RNN': \"C6\"}\n",
    "palette ={\"Prosit Transformer – delta=0.164\": \"C1\", \n",
    "          \"Prosit Transformer – delta=0.341\": \"C2\", \n",
    "          \"Prosit Transformer – delta=0.518\": \"C3\", \n",
    "          'Prosit RNN': \"C0\"}\n"
   ]
  },
  {
   "cell_type": "code",
   "execution_count": null,
   "metadata": {},
   "outputs": [],
   "source": [
    "ax = sns.histplot(data=filterDf(datafile), x=\"Angular Similarity\", \n",
    "                  hue=\"Data Set\", kde =True, \n",
    "                  hue_order= [\"Prosit Transformer – delta=0.164\", \n",
    "                              \"Prosit Transformer – delta=0.341\", \n",
    "                              \"Prosit Transformer – delta=0.518\", 'Prosit RNN'],\n",
    "                 palette=palette)\n",
    "\n",
    "ax.invert_xaxis()\n",
    "\n",
    "#plt.legend(title='', loc='upper right', labels=['Prosit Transformer', 'Prosit RNN'], prop={\"size\":14})\n",
    "\n",
    "A = ax.get_legend()\n",
    "A.set_title('')\n",
    "\n",
    "plt.setp(A.get_texts(), fontsize='14') # for legend text\n",
    "plt.setp(A.get_title(), fontsize='14') # for legend title\n",
    "\n",
    "plt.xlabel(\"Angular Similarity\", fontsize=14)\n",
    "plt.xticks(fontsize=14)\n",
    "plt.yticks(fontsize=14)\n",
    "plt.ylabel(\"Density\", fontsize=14)\n",
    "plt.tight_layout()\n",
    "\n",
    "#seaborn.histplot(data=filterDf(datafile), x=\"Angular Similarity\", hue=\"Data Set\", alpha=0.2)\n",
    "plt.savefig('./plots/spectralAngleDist.png')"
   ]
  },
  {
   "cell_type": "code",
   "execution_count": null,
   "metadata": {},
   "outputs": [],
   "source": [
    "ax = sns.kdeplot(data=filterDf(datafile, \"FNR\", 0, 0.5), x=\"FNR\", \n",
    "            hue=\"Data Set\", hue_order= [\"Prosit Transformer – delta=0.164\", \n",
    "                                        \"Prosit Transformer – delta=0.341\", \n",
    "                                        \"Prosit Transformer – delta=0.518\", 'Prosit RNN'],\n",
    "            palette=palette)\n",
    "\n",
    "#plt.legend(title='', loc='upper right', labels=['Prosit Transformer', 'Prosit RNN'], prop={\"size\":14})\n",
    "\n",
    "A = ax.get_legend()\n",
    "A.set_title('')\n",
    "\n",
    "plt.setp(A.get_texts(), fontsize='14') # for legend text\n",
    "plt.setp(A.get_title(), fontsize='14') # for legend title\n",
    "\n",
    "plt.xlabel(\"FNR\", fontsize=14)\n",
    "plt.xticks(fontsize=14)\n",
    "plt.yticks(fontsize=14)\n",
    "plt.ylabel(\"Density\", fontsize=14)\n",
    "plt.tight_layout()\n",
    "\n",
    "#seaborn.histplot(data=filterDf(datafile), x=\"Angular Similarity\", hue=\"Data Set\", alpha=0.2)\n",
    "plt.savefig('./plots/FNR.png')"
   ]
  },
  {
   "cell_type": "code",
   "execution_count": null,
   "metadata": {},
   "outputs": [],
   "source": [
    "\n",
    "ax = sns.kdeplot(data=filterDf(datafile, \"FDR\", 0, 0.5), x=\"FDR\", hue=\"Data Set\", \n",
    "                                hue_order= [\"Prosit Transformer – delta=0.164\", \n",
    "                                        \"Prosit Transformer – delta=0.341\", \n",
    "                                        \"Prosit Transformer – delta=0.518\", 'Prosit RNN'],palette=palette)\n",
    "\n",
    "#plt.legend(title='', loc='upper right', labels=['Prosit Transformer', 'Prosit RNN'], prop={\"size\":14})\n",
    "\n",
    "A = ax.get_legend()\n",
    "A.set_title('')\n",
    "\n",
    "plt.setp(A.get_texts(), fontsize='14') # for legend text\n",
    "plt.setp(A.get_title(), fontsize='14') # for legend title\n",
    "\n",
    "plt.xlabel(\"FDR\", fontsize=14)\n",
    "plt.xticks(fontsize=14)\n",
    "plt.yticks(fontsize=14)\n",
    "plt.ylabel(\"Density\", fontsize=14)\n",
    "plt.tight_layout()\n",
    "\n",
    "#seaborn.histplot(data=filterDf(datafile), x=\"Angular Similarity\", hue=\"Data Set\", alpha=0.2)\n",
    "plt.savefig('./plots/FDR.png')"
   ]
  },
  {
   "cell_type": "code",
   "execution_count": null,
   "metadata": {},
   "outputs": [],
   "source": [
    "!pwd"
   ]
  },
  {
   "cell_type": "code",
   "execution_count": null,
   "metadata": {},
   "outputs": [],
   "source": []
  },
  {
   "cell_type": "code",
   "execution_count": null,
   "metadata": {},
   "outputs": [],
   "source": []
  },
  {
   "cell_type": "code",
   "execution_count": null,
   "metadata": {},
   "outputs": [],
   "source": []
  },
  {
   "cell_type": "code",
   "execution_count": null,
   "metadata": {},
   "outputs": [],
   "source": [
    "import pandas as pd"
   ]
  },
  {
   "cell_type": "code",
   "execution_count": null,
   "metadata": {},
   "outputs": [],
   "source": []
  },
  {
   "cell_type": "code",
   "execution_count": null,
   "metadata": {},
   "outputs": [],
   "source": []
  },
  {
   "cell_type": "code",
   "execution_count": null,
   "metadata": {},
   "outputs": [],
   "source": []
  },
  {
   "cell_type": "code",
   "execution_count": null,
   "metadata": {},
   "outputs": [],
   "source": [
    "!ls /sdd/berzelius/ceCalibration/"
   ]
  },
  {
   "cell_type": "code",
   "execution_count": null,
   "metadata": {},
   "outputs": [],
   "source": [
    "def _makeFig(df: pd.DataFrame)->None:\n",
    "    \"\"\"Create figure\"\"\"\n",
    "    fs=26 + 5\n",
    "    plt.figure(figsize=(16, 10))\n",
    "    ax = seaborn.lineplot(x=\"ce\", y=\"sa\", marker=\"o\", hue=\"CE\", data = df, palette=[\"C0\", \"C1\", \"C2\",\"C3\", \"C4\"])\n",
    "    legend = ax.legend(handles=ax.legend_.legendHandles,\n",
    "                       prop={\"size\":fs})\n",
    "    plt.xlabel(\"Collision Energy\", fontsize=fs)\n",
    "    plt.ylabel(\"Median Angular Similarity\", fontsize=fs)\n",
    "    plt.xticks(fontsize=fs)\n",
    "    plt.yticks(fontsize=fs)\n",
    "    plt.plot([0.2, 0.2], [0, 1], color=\"C0\")\n",
    "    plt.plot([0.25, 0.25], [0, 1], color=\"C1\")\n",
    "    plt.plot([0.3, 0.3], [0, 1], color=\"C2\")\n",
    "    plt.plot([0.35, 0.35], [0, 1], color=\"C3\")\n",
    "    plt.plot([0.4, 0.4], [0, 1], color=\"C4\")\n",
    "    plt.tight_layout()\n",
    "    plt.savefig('./plots/CeCalibration.png')"
   ]
  },
  {
   "cell_type": "code",
   "execution_count": null,
   "metadata": {},
   "outputs": [],
   "source": [
    "#df = pd.read_csv(\"/sdd/berzelius/ceCalibration/CeCalibation.csv\", index_col=0)"
   ]
  },
  {
   "cell_type": "code",
   "execution_count": null,
   "metadata": {},
   "outputs": [],
   "source": [
    "_makeFig(df)"
   ]
  },
  {
   "cell_type": "code",
   "execution_count": null,
   "metadata": {},
   "outputs": [],
   "source": []
  },
  {
   "cell_type": "code",
   "execution_count": null,
   "metadata": {},
   "outputs": [],
   "source": [
    "ax = sns.histplot(data=filterDf(datafile), x=\"Angular Similarity\", hue=\"Data Set\", alpha=0.2,kde =True)\n",
    "\n",
    "ax.invert_xaxis()\n",
    "\n",
    "#sns.kdeplot(data=filterDf(tape_df), x=\"spectral_angle\", hue=\"data_set\")\n",
    "plt.legend(title='', loc='upper right', labels=['Prosit Transformer', 'Prosit RNN'], prop={\"size\":14})\n",
    "plt.xlabel(\"Angular Similarity\", fontsize=14)\n",
    "plt.xticks(fontsize=14)\n",
    "plt.yticks(fontsize=14)\n",
    "plt.ylabel(\"Density\", fontsize=14)\n",
    "plt.tight_layout()\n",
    "\n",
    "#seaborn.histplot(data=filterDf(datafile), x=\"Angular Similarity\", hue=\"Data Set\", alpha=0.2)\n",
    "#plt.savefig('./plots/spectralAngleDist_x_reverse.png')"
   ]
  },
  {
   "cell_type": "code",
   "execution_count": null,
   "metadata": {},
   "outputs": [],
   "source": []
  },
  {
   "cell_type": "code",
   "execution_count": null,
   "metadata": {},
   "outputs": [],
   "source": []
  },
  {
   "cell_type": "code",
   "execution_count": null,
   "metadata": {},
   "outputs": [],
   "source": []
  },
  {
   "cell_type": "code",
   "execution_count": null,
   "metadata": {},
   "outputs": [],
   "source": [
    "seaborn.histplot(data=filterDf(datafile), x=\"Angular Similarity\", hue=\"Data Set\", alpha=0.2,kde =True)"
   ]
  },
  {
   "cell_type": "code",
   "execution_count": null,
   "metadata": {},
   "outputs": [],
   "source": [
    "seaborn.distplot()"
   ]
  }
 ],
 "metadata": {
  "kernelspec": {
   "display_name": "Python (terran2.0)",
   "language": "python",
   "name": "terran2.0"
  },
  "language_info": {
   "codemirror_mode": {
    "name": "ipython",
    "version": 3
   },
   "file_extension": ".py",
   "mimetype": "text/x-python",
   "name": "python",
   "nbconvert_exporter": "python",
   "pygments_lexer": "ipython3",
   "version": "3.6.13"
  }
 },
 "nbformat": 4,
 "nbformat_minor": 2
}
