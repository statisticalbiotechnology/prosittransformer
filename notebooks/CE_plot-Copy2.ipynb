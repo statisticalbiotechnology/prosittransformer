{
 "cells": [
  {
   "cell_type": "code",
   "execution_count": 1,
   "metadata": {},
   "outputs": [],
   "source": [
    "%config Completer.use_jedi = False\n"
   ]
  },
  {
   "cell_type": "code",
   "execution_count": 2,
   "metadata": {},
   "outputs": [],
   "source": [
    "from prosittransformer.ceCalibrationPlot import CeCalibation"
   ]
  },
  {
   "cell_type": "code",
   "execution_count": null,
   "metadata": {},
   "outputs": [],
   "source": []
  },
  {
   "cell_type": "code",
   "execution_count": null,
   "metadata": {},
   "outputs": [],
   "source": []
  },
  {
   "cell_type": "code",
   "execution_count": null,
   "metadata": {},
   "outputs": [],
   "source": [
    "%config Completer.use_jedi = False\n",
    "\n",
    "\n",
    "from torch.utils.data import Dataset\n",
    "from tape.tokenizers import TAPETokenizer\n",
    "from typing import List, Tuple, Any, Dict\n",
    "import torch\n",
    "from torch.utils.data import DataLoader, RandomSampler, Dataset\n",
    "from tape.utils._sampler import BucketBatchSampler\n",
    "from tape.datasets import pad_sequences\n",
    "from tape import ProteinBertForValuePredictionFragmentationProsit\n",
    "from prosittransformer.utils import cleanTapeOutput\n",
    "from tqdm import tqdm\n",
    "import pickle\n",
    "import multiprocessing\n",
    "import numpy as np\n",
    "\n",
    "torch.multiprocessing.set_sharing_strategy('file_system')\n",
    "import pickle\n",
    "import pandas as pd\n",
    "import seaborn\n",
    "import matplotlib.pyplot as plt\n",
    "import matplotlib\n",
    "matplotlib.rcParams['text.usetex'] = True\n",
    "from tape.datasets import PrositFragmentationDataset\n",
    "import pandas as pd"
   ]
  },
  {
   "cell_type": "code",
   "execution_count": null,
   "metadata": {},
   "outputs": [],
   "source": [
    "class SelectCEData:\n",
    "    def __init__(self, lmdb : str, selected_ce : List[float] = [0.2, 0.25, 0.3, 0.35, 0.4]):\n",
    "        self.PrositData = PrositFragmentationDataset(lmdb, \"test\")\n",
    "        self._ceDataDict = {ce : [] for ce in selected_ce }\n",
    "    @property\n",
    "    def ceDataDict(self):\n",
    "        return self._ceDataDict\n",
    "    \n",
    "    def getCEdata(self)->dict:\n",
    "        #Loop each element in dataset\n",
    "        for i in tqdm(range(len(self.PrositData))):\n",
    "            for k in self._ceDataDict.keys():\n",
    "                ce = np.round(self.PrositData[i][3], 2)\n",
    "                if ce == np.array(k, dtype=np.float32):\n",
    "                    self._ceDataDict[k].append(self.PrositData[i])\n",
    "        return self._ceDataDict\n"
   ]
  },
  {
   "cell_type": "code",
   "execution_count": null,
   "metadata": {},
   "outputs": [],
   "source": [
    "#SelectCE = SelectCEData(\"/sdd/PrositToTapeDataConverter/LMDB\")"
   ]
  },
  {
   "cell_type": "code",
   "execution_count": null,
   "metadata": {},
   "outputs": [],
   "source": [
    "#ceDataDict = SelectCE.getCEdata()"
   ]
  },
  {
   "cell_type": "code",
   "execution_count": null,
   "metadata": {},
   "outputs": [],
   "source": [
    "#ceDataDict = pickle.load(open(\"./data/ceDataDict.pkl\", \"rb\"))\n",
    "#pickle.dump(ceDataDict, open(\"./data/ceDataDict.pkl\", \"wb\"))"
   ]
  },
  {
   "cell_type": "code",
   "execution_count": null,
   "metadata": {},
   "outputs": [],
   "source": [
    "class PrositFragmentationCEDataset(Dataset):\n",
    "\n",
    "    def __init__(self,\n",
    "                 data: dict,\n",
    "                 ce: float):\n",
    "\n",
    "        tokenizer = TAPETokenizer(vocab=\"iupac\")\n",
    "        self.tokenizer = tokenizer\n",
    "        self.data = data\n",
    "        self.ce = ce\n",
    "        self.keys = [\n",
    "                     'intensities_raw',\n",
    "                     'collision_energy_aligned_normed',\n",
    "                     'precursor_charge_onehot'\n",
    "                     ]\n",
    "                     \n",
    "    def __len__(self) -> int:\n",
    "        return len(self.data)\n",
    "\n",
    "    def __getitem__(self, index: int):\n",
    "        return self.data[index][:3] + tuple([np.array(self.ce, dtype=np.float32)]) + self.data[index][4:]\n",
    "\n",
    "    def collate_fn(self, batch: List[Tuple[Any, ...]]) -> Dict[str, torch.Tensor]:\n",
    "        input_ids, input_mask, intensities_raw_true_value, collision_energy, charge = tuple(zip(*batch))\n",
    "\n",
    "        collision_energy = np.stack(collision_energy)\n",
    "        input_ids = torch.from_numpy(pad_sequences(input_ids, 0))\n",
    "        input_mask = torch.from_numpy(pad_sequences(input_mask, 0))\n",
    "        intensities_raw_true_value = torch.FloatTensor(intensities_raw_true_value)  # type: ignore\n",
    "\n",
    "        collision_energy_tensor = torch.FloatTensor(collision_energy)\n",
    "        charge_tensor = torch.FloatTensor(charge)\n",
    "\n",
    "        return {'input_ids': input_ids,\n",
    "                'input_mask': input_mask,\n",
    "                'targets': intensities_raw_true_value,\n",
    "                'collision_energy': collision_energy_tensor,\n",
    "                'charge': charge_tensor}"
   ]
  },
  {
   "cell_type": "code",
   "execution_count": null,
   "metadata": {},
   "outputs": [],
   "source": [
    "class CreateDataLoader:\n",
    "    @staticmethod\n",
    "    def getDataLoader(dataset: PrositFragmentationDataset)->DataLoader:\n",
    "        sampler = RandomSampler(dataset)\n",
    "        batch_sampler = BucketBatchSampler(sampler, 64, False, lambda x: len(x[0]), dataset)\n",
    "        loader = DataLoader(\n",
    "                dataset,\n",
    "                num_workers=multiprocessing.cpu_count() - 2,\n",
    "                collate_fn=dataset.collate_fn,  # type: ignore\n",
    "                batch_sampler=batch_sampler)\n",
    "        return loader\n",
    "    \n",
    "class PytorchModel:\n",
    "    @staticmethod\n",
    "    def getModel(path : str)->ProteinBertForValuePredictionFragmentationProsit:\n",
    "        pytorch_model = ProteinBertForValuePredictionFragmentationProsit.from_pretrained(path)\n",
    "        pytorch_model = pytorch_model.to(torch.device('cuda:0'))\n",
    "        return pytorch_model"
   ]
  },
  {
   "cell_type": "code",
   "execution_count": null,
   "metadata": {},
   "outputs": [],
   "source": [
    "class CeCalibation(SelectCEData, cleanTapeOutput, CreateDataLoader, PytorchModel):\n",
    "    def __init__(self, lmdb: str, pytorch_model: str, out_dir: str, ce_range : np.array = np.linspace(0.10,0.5,41)):\n",
    "        cleanTapeOutput.__init__(self)\n",
    "        CreateDataLoader.__init__(self)\n",
    "        PytorchModel.__init__(self)\n",
    "        SelectCEData.__init__(self, lmdb)\n",
    "        PytorchModel.__init__(self)\n",
    "        self.model = self.getModel(pytorch_model)\n",
    "        self.out_dir = out_dir\n",
    "        self.ce_range = ce_range\n",
    "        \n",
    "    def _getSa(self, loader)->float:\n",
    "        sa_list = list()\n",
    "        for i, batch in tqdm(enumerate(loader), total=len(loader)):  \n",
    "            batch = {name: tensor.cuda(device=torch.device('cuda:0'), non_blocking=True)\n",
    "                         for name, tensor in batch.items()}\n",
    "\n",
    "            targets = batch[\"targets\"].cpu().detach().numpy()\n",
    "            charge = batch[\"charge\"].cpu().detach().numpy()\n",
    "            sequence = batch[\"input_ids\"].cpu().detach().numpy()\n",
    "            predictions = self.model(**batch)[1].cpu().detach().numpy()\n",
    "            sa, _ = self.getIntensitiesAndSpectralAngle(predictions, targets, charge, sequence, True)\n",
    "            sa_list.append(sa)\n",
    "\n",
    "            if i == 3:\n",
    "                break\n",
    "        return np.median(np.concatenate(sa_list))\n",
    "    \n",
    "    def _getCeCalibSeries(self, data, range_x):\n",
    "        sa_list = list()\n",
    "        for i in range_x:\n",
    "            dataset = PrositFragmentationCEDataset(data, round(i,2))\n",
    "            loader = self.getDataLoader(dataset)\n",
    "            sa_list.append(self._getSa(loader))\n",
    "        return sa_list\n",
    "    \n",
    "    def _makeFig(self, df):\n",
    "        fs=16 + 5\n",
    "        plt.figure(figsize=(16, 10))\n",
    "        ax = seaborn.lineplot(x=\"ce\", y=\"sa\", marker=\"o\", hue=\"CE\", data = df, palette=[\"C0\", \"C1\", \"C2\",\"C3\", \"C4\"])\n",
    "        legend = ax.legend(handles=ax.legend_.legendHandles,\n",
    "                           prop={\"size\":fs})\n",
    "\n",
    "\n",
    "        #plt.legend.get_title().set_fontsize('6')\n",
    "        #plt.rcParams['legend.title_fontsize'] = fs\n",
    "        plt.xlabel(\"Collision Energy\", fontsize=fs)\n",
    "        plt.ylabel(\"Median Spectral Angle\", fontsize=fs)\n",
    "        plt.xticks(fontsize=fs)\n",
    "        plt.yticks(fontsize=fs)\n",
    "        plt.plot([0.2, 0.2], [0, 1], color=\"C0\")\n",
    "        plt.plot([0.25, 0.25], [0, 1], color=\"C1\")\n",
    "        plt.plot([0.3, 0.3], [0, 1], color=\"C2\")\n",
    "        plt.plot([0.35, 0.35], [0, 1], color=\"C3\")\n",
    "        plt.plot([0.4, 0.4], [0, 1], color=\"C4\")\n",
    "        plt.tight_layout()\n",
    "\n",
    "        plt.savefig(f\"{self.out_dir}CeCalibation.png\")\n",
    "    \n",
    "    \n",
    "    def _getCeCalibationDF(self):\n",
    "        \n",
    "        #ceDataDict = self.getCEdata()\n",
    "        #pickle.dump(ceDataDict, open(\"./data/ceDataDict.pkl\", \"wb\"))\n",
    "        ceDataDict = pickle.load(open(\"./data/ceDataDict.pkl\", \"rb\"))\n",
    "        data_points = list()\n",
    "        for ce in list(ceDataDict.keys()):\n",
    "            CE_DATA = ceDataDict[ce]\n",
    "            if len(CE_DATA) == 0:\n",
    "                print(f\"no data for {ce}. Skip to next ce.\")\n",
    "                continue\n",
    "                \n",
    "            sa_list = self._getCeCalibSeries(CE_DATA, self.ce_range)\n",
    "    \n",
    "            for s, r in zip(sa_list, self.ce_range):\n",
    "                data_points.append([s,r, ce])\n",
    "            \n",
    "        df = pd.DataFrame(data_points, columns=[\"sa\", \"ce\", \"CE\"])\n",
    "        return df\n",
    "    \n",
    "    def CeCalibarationReport(self):\n",
    "        df = self._getCeCalibationDF()\n",
    "        df.to_csv(f\"{self.out_dir}CeCalibation.csv\")\n",
    "        self._makeFig(df)\n",
    "\n",
    "        \n",
    "    "
   ]
  },
  {
   "cell_type": "code",
   "execution_count": 6,
   "metadata": {},
   "outputs": [],
   "source": [
    "s =\"d\""
   ]
  },
  {
   "cell_type": "code",
   "execution_count": 8,
   "metadata": {},
   "outputs": [
    {
     "data": {
      "text/plain": [
       "False"
      ]
     },
     "execution_count": 8,
     "metadata": {},
     "output_type": "execute_result"
    }
   ],
   "source": [
    "s.endswith(\"/\")"
   ]
  },
  {
   "cell_type": "code",
   "execution_count": 5,
   "metadata": {},
   "outputs": [
    {
     "name": "stdout",
     "output_type": "stream",
     "text": [
      "CeCalibation.csv  CeCalibation.png  ceDataDict.pkl\r\n"
     ]
    }
   ],
   "source": [
    "!ls  /home/ekvall/prosittransformer/notebooks/data"
   ]
  },
  {
   "cell_type": "code",
   "execution_count": 3,
   "metadata": {},
   "outputs": [],
   "source": [
    "Calib = CeCalibation(\"/sdd/PrositToTapeDataConverter/LMDB\", \"/sdd/berzelius/torch_model\", \"/home/ekvall/prosittransformer/notebooks/data/\")"
   ]
  },
  {
   "cell_type": "code",
   "execution_count": 4,
   "metadata": {},
   "outputs": [
    {
     "name": "stderr",
     "output_type": "stream",
     "text": [
      "100%|██████████| 1419705/1419705 [03:39<00:00, 6457.58it/s]\n",
      " 13%|█▎        | 3/23 [00:00<00:03,  5.24it/s]\n",
      " 13%|█▎        | 3/23 [00:00<00:02,  9.34it/s]\n",
      " 13%|█▎        | 3/23 [00:00<00:01, 11.73it/s]\n",
      " 13%|█▎        | 3/23 [00:00<00:02,  9.16it/s]\n",
      " 13%|█▎        | 3/23 [00:00<00:02,  8.84it/s]\n",
      " 13%|█▎        | 3/23 [00:00<00:02,  9.12it/s]\n",
      " 13%|█▎        | 3/23 [00:00<00:02,  9.15it/s]\n",
      " 13%|█▎        | 3/23 [00:00<00:01, 13.23it/s]\n",
      " 13%|█▎        | 3/23 [00:00<00:02,  8.09it/s]\n",
      " 13%|█▎        | 3/23 [00:00<00:02,  8.48it/s]\n",
      " 13%|█▎        | 3/23 [00:00<00:02,  8.01it/s]\n",
      " 13%|█▎        | 3/23 [00:00<00:03,  6.48it/s]\n",
      " 13%|█▎        | 3/23 [00:00<00:03,  6.10it/s]\n",
      " 13%|█▎        | 3/23 [00:00<00:02,  8.75it/s]\n",
      " 13%|█▎        | 3/23 [00:00<00:02,  6.73it/s]\n",
      " 13%|█▎        | 3/23 [00:00<00:02,  7.05it/s]\n",
      " 13%|█▎        | 3/23 [00:00<00:02,  8.71it/s]\n",
      " 13%|█▎        | 3/23 [00:00<00:02,  7.02it/s]\n",
      " 13%|█▎        | 3/23 [00:00<00:02,  8.61it/s]\n",
      " 13%|█▎        | 3/23 [00:00<00:02,  8.81it/s]\n",
      " 13%|█▎        | 3/23 [00:00<00:02,  8.02it/s]\n",
      " 13%|█▎        | 3/23 [00:00<00:02,  6.93it/s]\n",
      " 13%|█▎        | 3/23 [00:00<00:02,  8.96it/s]\n",
      " 13%|█▎        | 3/23 [00:00<00:02,  8.24it/s]\n",
      " 13%|█▎        | 3/23 [00:00<00:02,  8.64it/s]\n",
      " 13%|█▎        | 3/23 [00:00<00:01, 10.17it/s]\n",
      " 13%|█▎        | 3/23 [00:00<00:02,  6.90it/s]\n",
      " 13%|█▎        | 3/23 [00:00<00:02,  8.66it/s]\n",
      " 13%|█▎        | 3/23 [00:00<00:02,  7.65it/s]\n",
      " 13%|█▎        | 3/23 [00:00<00:02,  7.37it/s]\n",
      " 13%|█▎        | 3/23 [00:00<00:01, 10.81it/s]\n",
      " 13%|█▎        | 3/23 [00:00<00:02,  6.90it/s]\n",
      " 13%|█▎        | 3/23 [00:00<00:02,  7.52it/s]\n",
      " 13%|█▎        | 3/23 [00:00<00:02,  8.67it/s]\n",
      " 13%|█▎        | 3/23 [00:00<00:02,  6.71it/s]\n",
      " 13%|█▎        | 3/23 [00:00<00:02,  7.27it/s]\n",
      " 13%|█▎        | 3/23 [00:00<00:01, 10.93it/s]\n",
      " 13%|█▎        | 3/23 [00:00<00:03,  6.45it/s]\n",
      " 13%|█▎        | 3/23 [00:00<00:02,  7.89it/s]\n",
      " 13%|█▎        | 3/23 [00:00<00:02,  8.25it/s]\n",
      " 13%|█▎        | 3/23 [00:00<00:02,  8.19it/s]\n",
      "  0%|          | 3/1773 [00:00<02:24, 12.23it/s]\n",
      "  0%|          | 3/1773 [00:00<02:03, 14.35it/s]\n",
      "  0%|          | 3/1773 [00:00<02:54, 10.14it/s]\n",
      "  0%|          | 3/1773 [00:00<02:18, 12.81it/s]\n",
      "  0%|          | 3/1773 [00:00<02:07, 13.88it/s]\n",
      "  0%|          | 3/1773 [00:00<02:01, 14.52it/s]\n",
      "  0%|          | 3/1773 [00:00<02:10, 13.58it/s]\n",
      "  0%|          | 3/1773 [00:00<02:13, 13.28it/s]\n",
      "  0%|          | 3/1773 [00:00<02:16, 13.01it/s]\n",
      "  0%|          | 3/1773 [00:00<02:02, 14.41it/s]\n",
      "  0%|          | 3/1773 [00:00<02:43, 10.84it/s]\n",
      "  0%|          | 3/1773 [00:00<02:12, 13.36it/s]\n",
      "  0%|          | 3/1773 [00:00<02:08, 13.80it/s]\n",
      "  0%|          | 3/1773 [00:00<02:07, 13.87it/s]\n",
      "  0%|          | 3/1773 [00:00<02:13, 13.23it/s]\n",
      "  0%|          | 3/1773 [00:00<02:19, 12.66it/s]\n",
      "  0%|          | 3/1773 [00:00<02:10, 13.53it/s]\n",
      "  0%|          | 3/1773 [00:00<02:02, 14.49it/s]\n",
      "  0%|          | 3/1773 [00:00<02:13, 13.24it/s]\n",
      "  0%|          | 3/1773 [00:00<02:46, 10.60it/s]\n",
      "  0%|          | 3/1773 [00:00<02:15, 13.07it/s]\n",
      "  0%|          | 3/1773 [00:00<03:05,  9.54it/s]\n",
      "  0%|          | 3/1773 [00:00<02:08, 13.77it/s]\n",
      "  0%|          | 3/1773 [00:00<02:32, 11.64it/s]\n",
      "  0%|          | 3/1773 [00:00<02:38, 11.19it/s]\n",
      "  0%|          | 3/1773 [00:00<02:07, 13.91it/s]\n",
      "  0%|          | 3/1773 [00:00<02:07, 13.92it/s]\n",
      "  0%|          | 3/1773 [00:00<02:14, 13.12it/s]\n",
      "  0%|          | 3/1773 [00:00<02:06, 13.97it/s]\n",
      "  0%|          | 3/1773 [00:00<02:17, 12.88it/s]\n",
      "  0%|          | 3/1773 [00:00<02:43, 10.83it/s]\n",
      "  0%|          | 3/1773 [00:00<02:03, 14.30it/s]\n",
      "  0%|          | 3/1773 [00:00<02:10, 13.53it/s]\n",
      "  0%|          | 3/1773 [00:00<02:27, 12.01it/s]\n",
      "  0%|          | 3/1773 [00:00<02:36, 11.34it/s]\n",
      "  0%|          | 3/1773 [00:00<02:42, 10.89it/s]\n",
      "  0%|          | 3/1773 [00:00<01:50, 16.09it/s]\n",
      "  0%|          | 3/1773 [00:00<02:12, 13.33it/s]\n",
      "  0%|          | 3/1773 [00:00<02:06, 14.01it/s]\n",
      "  0%|          | 3/1773 [00:00<02:07, 13.83it/s]\n",
      "  0%|          | 3/1773 [00:00<02:34, 11.48it/s]\n",
      "  0%|          | 3/896 [00:00<01:53,  7.86it/s]\n",
      "  0%|          | 3/896 [00:00<01:44,  8.52it/s]\n",
      "  0%|          | 3/896 [00:00<01:10, 12.64it/s]\n",
      "  0%|          | 3/896 [00:00<01:12, 12.36it/s]\n",
      "  0%|          | 3/896 [00:00<01:02, 14.28it/s]\n",
      "  0%|          | 3/896 [00:00<01:20, 11.04it/s]\n",
      "  0%|          | 3/896 [00:00<01:06, 13.35it/s]\n",
      "  0%|          | 3/896 [00:00<01:09, 12.92it/s]\n",
      "  0%|          | 3/896 [00:00<01:07, 13.20it/s]\n",
      "  0%|          | 3/896 [00:00<01:21, 10.94it/s]\n",
      "  0%|          | 3/896 [00:00<01:11, 12.43it/s]\n",
      "  0%|          | 3/896 [00:00<01:46,  8.35it/s]\n",
      "  0%|          | 3/896 [00:00<01:06, 13.35it/s]\n",
      "  0%|          | 3/896 [00:00<01:05, 13.61it/s]\n",
      "  0%|          | 3/896 [00:00<01:11, 12.49it/s]\n",
      "  0%|          | 3/896 [00:00<01:43,  8.64it/s]\n",
      "  0%|          | 3/896 [00:00<01:27, 10.22it/s]\n",
      "  0%|          | 3/896 [00:00<01:09, 12.82it/s]\n",
      "  0%|          | 3/896 [00:00<01:25, 10.44it/s]\n",
      "  0%|          | 3/896 [00:00<01:13, 12.11it/s]\n",
      "  0%|          | 3/896 [00:00<01:28, 10.12it/s]\n",
      "  0%|          | 3/896 [00:00<01:14, 12.04it/s]\n",
      "  0%|          | 3/896 [00:00<01:15, 11.87it/s]\n",
      "  0%|          | 3/896 [00:00<01:12, 12.28it/s]\n",
      "  0%|          | 3/896 [00:00<01:21, 11.01it/s]\n",
      "  0%|          | 3/896 [00:00<01:18, 11.35it/s]\n",
      "  0%|          | 3/896 [00:00<01:07, 13.15it/s]\n",
      "  0%|          | 3/896 [00:00<01:31,  9.77it/s]\n",
      "  0%|          | 3/896 [00:00<01:18, 11.39it/s]\n",
      "  0%|          | 3/896 [00:00<01:20, 11.04it/s]\n",
      "  0%|          | 3/896 [00:00<01:13, 12.18it/s]\n",
      "  0%|          | 3/896 [00:00<01:15, 11.78it/s]\n",
      "  0%|          | 3/896 [00:00<01:20, 11.13it/s]\n",
      "  0%|          | 3/896 [00:00<01:41,  8.80it/s]\n",
      "  0%|          | 3/896 [00:00<01:08, 13.01it/s]\n",
      "  0%|          | 3/896 [00:00<01:11, 12.42it/s]\n",
      "  0%|          | 3/896 [00:00<01:15, 11.77it/s]\n",
      "  0%|          | 3/896 [00:00<01:00, 14.82it/s]\n",
      "  0%|          | 3/896 [00:00<01:25, 10.39it/s]\n",
      "  0%|          | 3/896 [00:00<01:13, 12.11it/s]\n",
      "  0%|          | 3/896 [00:00<01:27, 10.20it/s]\n",
      "  1%|▏         | 3/217 [00:00<00:19, 11.20it/s]\n",
      "  1%|▏         | 3/217 [00:00<00:20, 10.58it/s]\n",
      "  1%|▏         | 3/217 [00:00<00:21,  9.97it/s]\n",
      "  1%|▏         | 3/217 [00:00<00:18, 11.53it/s]\n",
      "  1%|▏         | 3/217 [00:00<00:22,  9.54it/s]\n",
      "  1%|▏         | 3/217 [00:00<00:21,  9.76it/s]\n",
      "  1%|▏         | 3/217 [00:00<00:22,  9.63it/s]\n",
      "  1%|▏         | 3/217 [00:00<00:22,  9.57it/s]\n",
      "  1%|▏         | 3/217 [00:00<00:23,  9.22it/s]\n",
      "  1%|▏         | 3/217 [00:00<00:18, 11.39it/s]\n",
      "  1%|▏         | 3/217 [00:00<00:17, 11.94it/s]\n",
      "  1%|▏         | 3/217 [00:00<00:21,  9.79it/s]\n",
      "  1%|▏         | 3/217 [00:00<00:22,  9.54it/s]\n",
      "  1%|▏         | 3/217 [00:00<00:19, 10.97it/s]\n",
      "  1%|▏         | 3/217 [00:00<00:19, 10.88it/s]\n",
      "  1%|▏         | 3/217 [00:00<00:20, 10.28it/s]\n",
      "  1%|▏         | 3/217 [00:00<00:17, 12.22it/s]\n",
      "  1%|▏         | 3/217 [00:00<00:24,  8.69it/s]\n",
      "  1%|▏         | 3/217 [00:00<00:23,  9.30it/s]\n",
      "  1%|▏         | 3/217 [00:00<00:25,  8.31it/s]\n",
      "  1%|▏         | 3/217 [00:00<00:20, 10.27it/s]\n",
      "  1%|▏         | 3/217 [00:00<00:21,  9.89it/s]\n",
      "  1%|▏         | 3/217 [00:00<00:17, 11.97it/s]\n",
      "  1%|▏         | 3/217 [00:00<00:18, 11.69it/s]\n",
      "  1%|▏         | 3/217 [00:00<00:21,  9.94it/s]\n",
      "  1%|▏         | 3/217 [00:00<00:20, 10.42it/s]\n",
      "  1%|▏         | 3/217 [00:00<00:21,  9.89it/s]\n",
      "  1%|▏         | 3/217 [00:00<00:17, 12.37it/s]\n",
      "  1%|▏         | 3/217 [00:00<00:22,  9.55it/s]\n",
      "  1%|▏         | 3/217 [00:00<00:22,  9.57it/s]\n",
      "  1%|▏         | 3/217 [00:00<00:17, 12.21it/s]\n",
      "  1%|▏         | 3/217 [00:00<00:23,  9.00it/s]\n",
      "  1%|▏         | 3/217 [00:00<00:21, 10.15it/s]\n",
      "  1%|▏         | 3/217 [00:00<00:19, 11.00it/s]\n",
      "  1%|▏         | 3/217 [00:00<00:20, 10.35it/s]\n",
      "  1%|▏         | 3/217 [00:00<00:19, 10.70it/s]\n",
      "  1%|▏         | 3/217 [00:00<00:18, 11.74it/s]\n",
      "  1%|▏         | 3/217 [00:00<00:23,  9.12it/s]\n",
      "  1%|▏         | 3/217 [00:00<00:18, 11.48it/s]\n",
      "  1%|▏         | 3/217 [00:00<00:19, 10.81it/s]\n",
      "  1%|▏         | 3/217 [00:00<00:17, 12.05it/s]\n",
      "  2%|▏         | 3/127 [00:00<00:10, 11.30it/s]\n",
      "  2%|▏         | 3/127 [00:00<00:09, 12.78it/s]\n",
      "  2%|▏         | 3/127 [00:00<00:15,  7.78it/s]\n",
      "  2%|▏         | 3/127 [00:00<00:10, 11.87it/s]\n",
      "  2%|▏         | 3/127 [00:00<00:10, 11.73it/s]\n"
     ]
    },
    {
     "name": "stderr",
     "output_type": "stream",
     "text": [
      "  2%|▏         | 3/127 [00:00<00:12, 10.25it/s]\n",
      "  2%|▏         | 3/127 [00:00<00:09, 13.27it/s]\n",
      "  2%|▏         | 3/127 [00:00<00:09, 12.93it/s]\n",
      "  2%|▏         | 3/127 [00:00<00:13,  9.38it/s]\n",
      "  2%|▏         | 3/127 [00:00<00:10, 12.24it/s]\n",
      "  2%|▏         | 3/127 [00:00<00:11, 11.00it/s]\n",
      "  2%|▏         | 3/127 [00:00<00:09, 12.73it/s]\n",
      "  2%|▏         | 3/127 [00:00<00:09, 12.45it/s]\n",
      "  2%|▏         | 3/127 [00:00<00:13,  9.04it/s]\n",
      "  2%|▏         | 3/127 [00:00<00:10, 11.31it/s]\n",
      "  2%|▏         | 3/127 [00:00<00:09, 12.68it/s]\n",
      "  2%|▏         | 3/127 [00:00<00:11, 10.88it/s]\n",
      "  2%|▏         | 3/127 [00:00<00:09, 12.48it/s]\n",
      "  2%|▏         | 3/127 [00:00<00:10, 12.01it/s]\n",
      "  2%|▏         | 3/127 [00:00<00:12, 10.15it/s]\n",
      "  2%|▏         | 3/127 [00:00<00:10, 11.64it/s]\n",
      "  2%|▏         | 3/127 [00:00<00:12,  9.73it/s]\n",
      "  2%|▏         | 3/127 [00:00<00:14,  8.76it/s]\n",
      "  2%|▏         | 3/127 [00:00<00:09, 13.50it/s]\n",
      "  2%|▏         | 3/127 [00:00<00:11, 10.66it/s]\n",
      "  2%|▏         | 3/127 [00:00<00:09, 13.51it/s]\n",
      "  2%|▏         | 3/127 [00:00<00:10, 12.33it/s]\n",
      "  2%|▏         | 3/127 [00:00<00:09, 13.30it/s]\n",
      "  2%|▏         | 3/127 [00:00<00:09, 12.56it/s]\n",
      "  2%|▏         | 3/127 [00:00<00:12, 10.26it/s]\n",
      "  2%|▏         | 3/127 [00:00<00:12,  9.60it/s]\n",
      "  2%|▏         | 3/127 [00:00<00:10, 11.59it/s]\n",
      "  2%|▏         | 3/127 [00:00<00:08, 14.57it/s]\n",
      "  2%|▏         | 3/127 [00:00<00:09, 12.47it/s]\n",
      "  2%|▏         | 3/127 [00:00<00:09, 12.46it/s]\n",
      "  2%|▏         | 3/127 [00:00<00:10, 11.71it/s]\n",
      "  2%|▏         | 3/127 [00:00<00:12,  9.66it/s]\n",
      "  2%|▏         | 3/127 [00:00<00:11, 10.86it/s]\n",
      "  2%|▏         | 3/127 [00:00<00:10, 11.75it/s]\n",
      "  2%|▏         | 3/127 [00:00<00:10, 12.00it/s]\n",
      "  2%|▏         | 3/127 [00:00<00:08, 14.81it/s]\n"
     ]
    },
    {
     "data": {
      "image/png": "[encoded data removed]",
      "text/plain": [
       "<Figure size 1152x720 with 1 Axes>"
      ]
     },
     "metadata": {
      "needs_background": "light"
     },
     "output_type": "display_data"
    }
   ],
   "source": [
    "Calib.CeCalibarationReport()"
   ]
  },
  {
   "cell_type": "code",
   "execution_count": null,
   "metadata": {},
   "outputs": [],
   "source": []
  },
  {
   "cell_type": "code",
   "execution_count": null,
   "metadata": {},
   "outputs": [],
   "source": [
    "fs=16 + 5\n",
    "plt.figure(figsize=(16, 10))\n",
    "ax = seaborn.lineplot(x=\"ce\", y=\"sa\", marker=\"o\", hue=\"CE\", data = df, palette=[\"C0\", \"C1\", \"C2\",\"C3\", \"C4\"])\n",
    "legend = ax.legend(handles=ax.legend_.legendHandles,\n",
    "                   prop={\"size\":fs})\n",
    "\n",
    "\n",
    "#plt.legend.get_title().set_fontsize('6')\n",
    "#plt.rcParams['legend.title_fontsize'] = fs\n",
    "plt.xlabel(\"Collision Energy\", fontsize=fs)\n",
    "plt.ylabel(\"Median Spectral Angle\", fontsize=fs)\n",
    "plt.xticks(fontsize=fs)\n",
    "plt.yticks(fontsize=fs)\n",
    "plt.plot([0.2, 0.2], [0, 1], color=\"C0\")\n",
    "plt.plot([0.25, 0.25], [0, 1], color=\"C1\")\n",
    "plt.plot([0.3, 0.3], [0, 1], color=\"C2\")\n",
    "plt.plot([0.35, 0.35], [0, 1], color=\"C3\")\n",
    "plt.plot([0.4, 0.4], [0, 1], color=\"C4\")\n",
    "\n",
    "#plt.locator_params(axis='y', nbins=5)\n",
    "#plt.locator_params(axis='x', nbins=6)\n",
    "\n",
    "#plt.savefig(\"./compare.png\")"
   ]
  },
  {
   "cell_type": "code",
   "execution_count": null,
   "metadata": {},
   "outputs": [],
   "source": []
  },
  {
   "cell_type": "code",
   "execution_count": null,
   "metadata": {},
   "outputs": [],
   "source": []
  },
  {
   "cell_type": "code",
   "execution_count": null,
   "metadata": {},
   "outputs": [],
   "source": [
    "CTO = cleanTapeOutput()"
   ]
  },
  {
   "cell_type": "code",
   "execution_count": null,
   "metadata": {},
   "outputs": [],
   "source": [
    "targets = np.concatenate(targets)\n",
    "charge = np.concatenate(charge)\n",
    "sequence = np.concatenate(sequence)\n",
    "predictions = np.concatenate(predictions)"
   ]
  },
  {
   "cell_type": "code",
   "execution_count": null,
   "metadata": {},
   "outputs": [],
   "source": [
    "sa, _ = CTO.getIntensitiesAndSpectralAngle(predictions, targets, charge, sequence, True)"
   ]
  },
  {
   "cell_type": "code",
   "execution_count": null,
   "metadata": {},
   "outputs": [],
   "source": []
  },
  {
   "cell_type": "code",
   "execution_count": null,
   "metadata": {},
   "outputs": [],
   "source": [
    "%config Completer.use_jedi = False\n",
    "\n",
    "import numpy as np\n",
    "from tqdm import tqdm"
   ]
  },
  {
   "cell_type": "code",
   "execution_count": null,
   "metadata": {},
   "outputs": [],
   "source": []
  },
  {
   "cell_type": "code",
   "execution_count": null,
   "metadata": {},
   "outputs": [],
   "source": []
  },
  {
   "cell_type": "code",
   "execution_count": null,
   "metadata": {},
   "outputs": [],
   "source": [
    "from tape.datasets import PrositFragmentationDataset\n",
    "PrositData = PrositFragmentationDataset(\"/sdd/PrositToTapeDataConverter/LMDB\", \"test\")\n",
    "x = {\n",
    "    0.25 : [],\n",
    "    0.3 : [],\n",
    "    0.35 : [],\n",
    "    0.4 : [],\n",
    "    0.45 : [],\n",
    "    0.5 : []\n",
    "}\n",
    "def getCEdata(ceDataDict:dict, Dataset: PrositFragmentationDataset)->dict:\n",
    "    #Loop each element in dataset\n",
    "    for i in tqdm(range(len(Dataset))):\n",
    "        for k in ceDataDict.keys():\n",
    "            if np.round(Dataset[i][3], 2) == np.array(k, dtype=np.float32):\n",
    "                ceDataDict[k].append(Dataset[i])\n",
    "    return ceDataDict\n"
   ]
  },
  {
   "cell_type": "code",
   "execution_count": null,
   "metadata": {},
   "outputs": [],
   "source": [
    "def getCEdata(ceDataDict:dict, Dataset: PrositFragmentationDataset)->dict:\n",
    "    #Loop each element in dataset\n",
    "    for i in tqdm(range(len(Dataset))):\n",
    "        for k in ceDataDict.keys():\n",
    "            if np.round(Dataset[i][3], 2) == np.array(k, dtype=np.float32):\n",
    "                ceDataDict[k].append(Dataset[i])\n",
    "    return ceDataDict\n"
   ]
  },
  {
   "cell_type": "code",
   "execution_count": null,
   "metadata": {},
   "outputs": [],
   "source": [
    "from torch.utils.data import Dataset\n",
    "from tape.tokenizers import TAPETokenizer\n",
    "from typing import List, Tuple, Any, Dict\n",
    "import torch"
   ]
  },
  {
   "cell_type": "code",
   "execution_count": null,
   "metadata": {},
   "outputs": [],
   "source": [
    "from torch.utils.data import DataLoader, RandomSampler, Dataset\n",
    "from tape.utils._sampler import BucketBatchSampler"
   ]
  },
  {
   "cell_type": "code",
   "execution_count": null,
   "metadata": {},
   "outputs": [],
   "source": []
  },
  {
   "cell_type": "code",
   "execution_count": null,
   "metadata": {},
   "outputs": [],
   "source": [
    "class PrositFragmentationDataset(Dataset):\n",
    "\n",
    "    def __init__(self,\n",
    "                 data: dict,\n",
    "                 ce: float):\n",
    "\n",
    "        tokenizer = TAPETokenizer(vocab=\"iupac\")\n",
    "        self.tokenizer = tokenizer\n",
    "        self.data = data\n",
    "        self.ce = ce\n",
    "        self.keys = [\n",
    "                     'intensities_raw',\n",
    "                     'collision_energy_aligned_normed',\n",
    "                     'precursor_charge_onehot'\n",
    "                     ]\n",
    "                     \n",
    "    def __len__(self) -> int:\n",
    "        return len(self.data)\n",
    "\n",
    "    def __getitem__(self, index: int):\n",
    "        return self.data[index][:3] + tuple([np.array(self.ce, dtype=np.float32)]) + self.data[index][4:]\n",
    "\n",
    "    def collate_fn(self, batch: List[Tuple[Any, ...]]) -> Dict[str, torch.Tensor]:\n",
    "        input_ids, input_mask, intensities_raw_true_value, collision_energy, charge = tuple(zip(*batch))\n",
    "\n",
    "        collision_energy = np.stack(collision_energy)\n",
    "        input_ids = torch.from_numpy(pad_sequences(input_ids, 0))\n",
    "        input_mask = torch.from_numpy(pad_sequences(input_mask, 0))\n",
    "        intensities_raw_true_value = torch.FloatTensor(intensities_raw_true_value)  # type: ignore\n",
    "\n",
    "        collision_energy_tensor = torch.FloatTensor(collision_energy)\n",
    "        charge_tensor = torch.FloatTensor(charge)\n",
    "\n",
    "        return {'input_ids': input_ids,\n",
    "                'input_mask': input_mask,\n",
    "                'targets': intensities_raw_true_value,\n",
    "                'collision_energy': collision_energy_tensor,\n",
    "                'charge': charge_tensor}"
   ]
  },
  {
   "cell_type": "code",
   "execution_count": null,
   "metadata": {},
   "outputs": [],
   "source": [
    "from tape.datasets import pad_sequences"
   ]
  },
  {
   "cell_type": "code",
   "execution_count": null,
   "metadata": {},
   "outputs": [],
   "source": [
    "import pickle\n",
    "import multiprocessing\n",
    "#ceDataDict = getCEdata(x, PrositData)\n",
    "#pickle.dump(ceDataDict, open(\"./data/ceDataDict.pkl\", \"wb\"))"
   ]
  },
  {
   "cell_type": "code",
   "execution_count": null,
   "metadata": {},
   "outputs": [],
   "source": [
    "ce25Dataset = PrositFragmentationDataset(ceDataDict[0.25], 0.3)"
   ]
  },
  {
   "cell_type": "code",
   "execution_count": null,
   "metadata": {},
   "outputs": [],
   "source": [
    "ce25Dataset[0]"
   ]
  },
  {
   "cell_type": "code",
   "execution_count": null,
   "metadata": {},
   "outputs": [],
   "source": [
    "sampler = RandomSampler(ce25Dataset)\n",
    "batch_sampler = BucketBatchSampler(sampler, 64, False, lambda x: len(x[0]), ce25Dataset)\n",
    "loader = DataLoader(\n",
    "        ce25Dataset,\n",
    "        num_workers=multiprocessing.cpu_count() - 1,\n",
    "        collate_fn=ce25Dataset.collate_fn,  # type: ignore\n",
    "        batch_sampler=batch_sampler)"
   ]
  },
  {
   "cell_type": "code",
   "execution_count": null,
   "metadata": {},
   "outputs": [],
   "source": [
    "from tape import ProteinBertForValuePredictionFragmentationProsit"
   ]
  },
  {
   "cell_type": "code",
   "execution_count": null,
   "metadata": {},
   "outputs": [],
   "source": [
    "pytorch_model = ProteinBertForValuePredictionFragmentationProsit.from_pretrained(\"/sdd/berzelius/torch_model\")\n",
    "if torch.cuda.is_available():\n",
    "    use_gpu = True\n",
    "    pytorch_model = pytorch_model.to(torch.device('cuda:0'))\n",
    "else:\n",
    "    use_gpu = False"
   ]
  },
  {
   "cell_type": "code",
   "execution_count": null,
   "metadata": {},
   "outputs": [],
   "source": []
  },
  {
   "cell_type": "code",
   "execution_count": null,
   "metadata": {},
   "outputs": [],
   "source": [
    "CTO = cleanTapeOutput()"
   ]
  },
  {
   "cell_type": "code",
   "execution_count": null,
   "metadata": {},
   "outputs": [],
   "source": [
    "predictions = list()\n",
    "targets = list()\n",
    "for batch in tqdm(loader):  \n",
    "    targets.append(batch[\"targets\"].cpu().detach().numpy())\n",
    "    if use_gpu:\n",
    "        batch = {name: tensor.cuda(device=torch.device('cuda:0'), non_blocking=True)\n",
    "                 for name, tensor in batch.items()}\n",
    "    predictions.append(pytorch_model(**batch)[1].cpu().detach().numpy())\n",
    "    break"
   ]
  },
  {
   "cell_type": "code",
   "execution_count": null,
   "metadata": {},
   "outputs": [],
   "source": [
    "targets"
   ]
  },
  {
   "cell_type": "code",
   "execution_count": null,
   "metadata": {},
   "outputs": [],
   "source": [
    "predictions"
   ]
  },
  {
   "cell_type": "code",
   "execution_count": null,
   "metadata": {},
   "outputs": [],
   "source": [
    "CTO = cleanTapeOutput()"
   ]
  },
  {
   "cell_type": "code",
   "execution_count": null,
   "metadata": {},
   "outputs": [],
   "source": [
    "CTO."
   ]
  },
  {
   "cell_type": "code",
   "execution_count": null,
   "metadata": {},
   "outputs": [],
   "source": []
  },
  {
   "cell_type": "code",
   "execution_count": null,
   "metadata": {},
   "outputs": [],
   "source": [
    "pytorch_model = ProteinBertForValuePredictionFragmentationProsit.from_pretrained(model)\n",
    "    if torch.cuda.is_available():\n",
    "        use_gpu = True\n",
    "        pytorch_model = pytorch_model.to(torch.device('cuda:0'))\n",
    "    else:\n",
    "        use_gpu = False\n",
    "   \n",
    "    loader = getTorchDataLoader(lmdb, split, batch_size = batch_size)\n",
    "    predictions = list()\n",
    "    for batch in tqdm(loader):  \n",
    "        if use_gpu:\n",
    "            batch = {name: tensor.cuda(device=torch.device('cuda:0'), non_blocking=True)\n",
    "                     for name, tensor in batch.items()}\n",
    "        predictions.append(pytorch_model(**batch)[1].cpu().detach().numpy())\n",
    "    predictions = np.concatenate(predictions)"
   ]
  },
  {
   "cell_type": "code",
   "execution_count": null,
   "metadata": {},
   "outputs": [],
   "source": [
    "for b in loader:\n",
    "    break"
   ]
  },
  {
   "cell_type": "code",
   "execution_count": null,
   "metadata": {},
   "outputs": [],
   "source": [
    "b"
   ]
  },
  {
   "cell_type": "code",
   "execution_count": null,
   "metadata": {},
   "outputs": [],
   "source": []
  },
  {
   "cell_type": "code",
   "execution_count": null,
   "metadata": {},
   "outputs": [],
   "source": [
    "\n",
    "    batch_sampler = BucketBatchSampler(\n",
    "        sampler, batch_size, False, lambda x: len(x[0]), dataset)\n",
    "\n",
    "    loader = DataLoader(\n",
    "        dataset,\n",
    "        num_workers=num_workers,\n",
    "        collate_fn=dataset.collate_fn,  # type: ignore\n",
    "        batch_sampler=batch_sampler)"
   ]
  },
  {
   "cell_type": "code",
   "execution_count": null,
   "metadata": {},
   "outputs": [],
   "source": []
  },
  {
   "cell_type": "code",
   "execution_count": null,
   "metadata": {},
   "outputs": [],
   "source": [
    "ceDataDict[0.25][0][:3] + tuple([np.array(0.3, dtype=np.float32)]) + ceDataDict[0.25][0][4:]"
   ]
  },
  {
   "cell_type": "code",
   "execution_count": null,
   "metadata": {},
   "outputs": [],
   "source": [
    "ceDataDict[0.25][0][4:]"
   ]
  },
  {
   "cell_type": "code",
   "execution_count": null,
   "metadata": {},
   "outputs": [],
   "source": [
    "([np.array(0.3, dtype=np.float32)])"
   ]
  },
  {
   "cell_type": "code",
   "execution_count": null,
   "metadata": {},
   "outputs": [],
   "source": [
    "x == np.array(0.32, dtype=np.float32)"
   ]
  },
  {
   "cell_type": "code",
   "execution_count": null,
   "metadata": {},
   "outputs": [],
   "source": [
    "np.round(TEST[0][3], 2)"
   ]
  },
  {
   "cell_type": "code",
   "execution_count": null,
   "metadata": {},
   "outputs": [],
   "source": []
  }
 ],
 "metadata": {
  "kernelspec": {
   "display_name": "Python (prosittransformer)",
   "language": "python",
   "name": "prosittransformer"
  },
  "language_info": {
   "codemirror_mode": {
    "name": "ipython",
    "version": 3
   },
   "file_extension": ".py",
   "mimetype": "text/x-python",
   "name": "python",
   "nbconvert_exporter": "python",
   "pygments_lexer": "ipython3",
   "version": "3.6.13"
  }
 },
 "nbformat": 4,
 "nbformat_minor": 2
}
