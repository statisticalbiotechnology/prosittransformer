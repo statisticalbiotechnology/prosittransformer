{
 "cells": [
  {
   "cell_type": "code",
   "execution_count": 1,
   "metadata": {},
   "outputs": [],
   "source": [
    "%config Completer.use_jedi = False\n",
    "\n",
    "\n",
    "from torch.utils.data import Dataset\n",
    "from tape.tokenizers import TAPETokenizer\n",
    "from typing import List, Tuple, Any, Dict\n",
    "import torch\n",
    "from torch.utils.data import DataLoader, RandomSampler, Dataset\n",
    "from tape.utils._sampler import BucketBatchSampler\n",
    "from tape.datasets import pad_sequences\n",
    "from tape import ProteinBertForValuePredictionFragmentationProsit\n",
    "from prosittransformer.utils import cleanTapeOutput\n",
    "from tqdm import tqdm\n",
    "import pickle\n",
    "import multiprocessing\n",
    "import numpy as np\n",
    "\n",
    "torch.multiprocessing.set_sharing_strategy('file_system')"
   ]
  },
  {
   "cell_type": "code",
   "execution_count": 48,
   "metadata": {},
   "outputs": [],
   "source": [
    "import pickle\n",
    "import pandas as pd\n",
    "import seaborn\n",
    "import matplotlib.pyplot as plt\n",
    "import matplotlib\n",
    "matplotlib.rcParams['text.usetex'] = True\n"
   ]
  },
  {
   "cell_type": "code",
   "execution_count": 69,
   "metadata": {},
   "outputs": [],
   "source": [
    "ceDataDict = pickle.load(open(\"./data/ceDataDict.pkl\", \"rb\"))"
   ]
  },
  {
   "cell_type": "code",
   "execution_count": 71,
   "metadata": {},
   "outputs": [],
   "source": [
    "class PrositFragmentationDataset(Dataset):\n",
    "\n",
    "    def __init__(self,\n",
    "                 data: dict,\n",
    "                 ce: float):\n",
    "\n",
    "        tokenizer = TAPETokenizer(vocab=\"iupac\")\n",
    "        self.tokenizer = tokenizer\n",
    "        self.data = data\n",
    "        self.ce = ce\n",
    "        self.keys = [\n",
    "                     'intensities_raw',\n",
    "                     'collision_energy_aligned_normed',\n",
    "                     'precursor_charge_onehot'\n",
    "                     ]\n",
    "                     \n",
    "    def __len__(self) -> int:\n",
    "        return len(self.data)\n",
    "\n",
    "    def __getitem__(self, index: int):\n",
    "        return self.data[index][:3] + tuple([np.array(self.ce, dtype=np.float32)]) + self.data[index][4:]\n",
    "\n",
    "    def collate_fn(self, batch: List[Tuple[Any, ...]]) -> Dict[str, torch.Tensor]:\n",
    "        input_ids, input_mask, intensities_raw_true_value, collision_energy, charge = tuple(zip(*batch))\n",
    "\n",
    "        collision_energy = np.stack(collision_energy)\n",
    "        input_ids = torch.from_numpy(pad_sequences(input_ids, 0))\n",
    "        input_mask = torch.from_numpy(pad_sequences(input_mask, 0))\n",
    "        intensities_raw_true_value = torch.FloatTensor(intensities_raw_true_value)  # type: ignore\n",
    "\n",
    "        collision_energy_tensor = torch.FloatTensor(collision_energy)\n",
    "        charge_tensor = torch.FloatTensor(charge)\n",
    "\n",
    "        return {'input_ids': input_ids,\n",
    "                'input_mask': input_mask,\n",
    "                'targets': intensities_raw_true_value,\n",
    "                'collision_energy': collision_energy_tensor,\n",
    "                'charge': charge_tensor}"
   ]
  },
  {
   "cell_type": "code",
   "execution_count": 72,
   "metadata": {},
   "outputs": [],
   "source": [
    "def getDataLoader(dataset: PrositFragmentationDataset)->DataLoader:\n",
    "    sampler = RandomSampler(dataset)\n",
    "    batch_sampler = BucketBatchSampler(sampler, 64, False, lambda x: len(x[0]), dataset)\n",
    "    loader = DataLoader(\n",
    "            dataset,\n",
    "            num_workers=multiprocessing.cpu_count() - 2,\n",
    "            collate_fn=dataset.collate_fn,  # type: ignore\n",
    "            batch_sampler=batch_sampler)\n",
    "    return loader\n",
    "\n",
    "def getModel()->ProteinBertForValuePredictionFragmentationProsit:\n",
    "    pytorch_model = ProteinBertForValuePredictionFragmentationProsit.from_pretrained(\"/sdd/berzelius/torch_model\")\n",
    "    pytorch_model = pytorch_model.to(torch.device('cuda:0'))\n",
    "    return pytorch_model\n"
   ]
  },
  {
   "cell_type": "code",
   "execution_count": 73,
   "metadata": {},
   "outputs": [],
   "source": [
    "pytorch_model = getModel()"
   ]
  },
  {
   "cell_type": "code",
   "execution_count": 74,
   "metadata": {},
   "outputs": [],
   "source": [
    "CTO = cleanTapeOutput()"
   ]
  },
  {
   "cell_type": "code",
   "execution_count": 75,
   "metadata": {},
   "outputs": [],
   "source": [
    "def getSa(model, loader)->float:\n",
    "    sa_list = list()\n",
    "    for i, batch in tqdm(enumerate(loader), total=len(loader)):  \n",
    "        batch = {name: tensor.cuda(device=torch.device('cuda:0'), non_blocking=True)\n",
    "                     for name, tensor in batch.items()}\n",
    "\n",
    "        targets = batch[\"targets\"].cpu().detach().numpy()\n",
    "        charge = batch[\"charge\"].cpu().detach().numpy()\n",
    "        sequence = batch[\"input_ids\"].cpu().detach().numpy()\n",
    "        predictions = model(**batch)[1].cpu().detach().numpy()\n",
    "\n",
    "\n",
    "\n",
    "        sa, _ = CTO.getIntensitiesAndSpectralAngle(predictions, targets, charge, sequence, True)\n",
    "        sa_list.append(sa)\n",
    "\n",
    "        if i == 3:\n",
    "            break\n",
    "    \n",
    "    return np.median(np.concatenate(sa_list))\n"
   ]
  },
  {
   "cell_type": "code",
   "execution_count": 76,
   "metadata": {},
   "outputs": [],
   "source": [
    "def getCeCalibSeries(model, data, range_x):\n",
    "    sa_list = list()\n",
    "    for i in range_x:\n",
    "        dataset = PrositFragmentationDataset(data, round(i,2))\n",
    "        loader = getDataLoader(dataset)\n",
    "        sa_list.append(getSa(model, loader))\n",
    "    return sa_list"
   ]
  },
  {
   "cell_type": "code",
   "execution_count": 77,
   "metadata": {},
   "outputs": [],
   "source": [
    "R = np.linspace(0.10,0.7,61)"
   ]
  },
  {
   "cell_type": "code",
   "execution_count": 86,
   "metadata": {},
   "outputs": [
    {
     "data": {
      "text/plain": [
       "dict_keys([0.25, 0.3, 0.35, 0.4, 0.45, 0.5])"
      ]
     },
     "execution_count": 86,
     "metadata": {},
     "output_type": "execute_result"
    }
   ],
   "source": [
    "ceDataDict.keys()"
   ]
  },
  {
   "cell_type": "code",
   "execution_count": 88,
   "metadata": {},
   "outputs": [
    {
     "data": {
      "text/plain": [
       "[]"
      ]
     },
     "execution_count": 88,
     "metadata": {},
     "output_type": "execute_result"
    }
   ],
   "source": [
    "ceDataDict[0.5]"
   ]
  },
  {
   "cell_type": "code",
   "execution_count": 64,
   "metadata": {},
   "outputs": [
    {
     "name": "stderr",
     "output_type": "stream",
     "text": [
      "  0%|          | 3/5317 [00:00<08:55,  9.93it/s]\n",
      "  0%|          | 3/5317 [00:00<07:26, 11.91it/s]\n",
      "  0%|          | 3/5317 [00:00<06:44, 13.13it/s]\n",
      "  0%|          | 3/5317 [00:00<08:21, 10.60it/s]\n",
      "  0%|          | 3/5317 [00:00<05:57, 14.85it/s]\n",
      "  0%|          | 3/5317 [00:00<05:56, 14.92it/s]\n",
      "  0%|          | 3/5317 [00:00<07:47, 11.38it/s]\n",
      "  0%|          | 3/5317 [00:00<05:41, 15.58it/s]\n",
      "  0%|          | 3/5317 [00:00<06:47, 13.05it/s]\n",
      "  0%|          | 3/5317 [00:00<06:21, 13.95it/s]\n",
      "  0%|          | 3/5317 [00:00<06:39, 13.32it/s]\n",
      "  0%|          | 3/5317 [00:00<08:47, 10.07it/s]\n",
      "  0%|          | 3/5317 [00:00<08:06, 10.92it/s]\n",
      "  0%|          | 3/5317 [00:00<05:48, 15.23it/s]\n",
      "  0%|          | 3/5317 [00:00<07:01, 12.61it/s]\n",
      "  0%|          | 3/5317 [00:00<06:21, 13.94it/s]\n",
      "  0%|          | 3/5317 [00:00<06:05, 14.54it/s]\n",
      "  0%|          | 3/5317 [00:00<06:43, 13.18it/s]\n",
      "  0%|          | 3/5317 [00:00<06:16, 14.13it/s]\n",
      "  0%|          | 3/5317 [00:00<06:58, 12.70it/s]\n",
      "  0%|          | 3/5317 [00:00<06:26, 13.77it/s]\n",
      "  0%|          | 3/5317 [00:00<06:31, 13.59it/s]\n",
      "  0%|          | 3/5317 [00:00<06:02, 14.68it/s]\n",
      "  0%|          | 3/5317 [00:00<08:53,  9.95it/s]\n",
      "  0%|          | 3/5317 [00:00<07:14, 12.22it/s]\n",
      "  0%|          | 3/5317 [00:00<07:49, 11.32it/s]\n",
      "  0%|          | 3/5317 [00:00<07:22, 12.00it/s]\n",
      "  0%|          | 3/5317 [00:00<07:18, 12.11it/s]\n",
      "  0%|          | 3/5317 [00:00<07:00, 12.65it/s]\n",
      "  0%|          | 3/5317 [00:00<06:27, 13.72it/s]\n",
      "  0%|          | 3/5317 [00:00<08:56,  9.90it/s]\n",
      "  0%|          | 3/5317 [00:00<07:11, 12.32it/s]\n",
      "  0%|          | 3/5317 [00:00<08:06, 10.92it/s]\n",
      "  0%|          | 3/5317 [00:00<06:51, 12.91it/s]\n",
      "  0%|          | 3/5317 [00:00<06:16, 14.12it/s]\n",
      "  0%|          | 3/5317 [00:00<08:05, 10.94it/s]\n",
      "  0%|          | 3/5317 [00:00<07:56, 11.15it/s]\n",
      "  0%|          | 3/5317 [00:00<07:38, 11.59it/s]\n",
      "  0%|          | 3/5317 [00:00<09:14,  9.59it/s]\n",
      "  0%|          | 3/5317 [00:00<07:25, 11.92it/s]\n",
      "  0%|          | 3/5317 [00:00<08:02, 11.01it/s]\n",
      "  0%|          | 3/5317 [00:00<09:29,  9.32it/s]\n",
      "  0%|          | 3/5317 [00:00<08:33, 10.35it/s]\n",
      "  0%|          | 3/5317 [00:00<07:07, 12.43it/s]\n",
      "  0%|          | 3/5317 [00:00<07:58, 11.10it/s]\n",
      "  0%|          | 3/5317 [00:00<07:41, 11.52it/s]\n",
      "  0%|          | 3/5317 [00:00<07:09, 12.37it/s]\n",
      "  0%|          | 3/5317 [00:00<06:54, 12.83it/s]\n",
      "  0%|          | 3/5317 [00:00<06:43, 13.18it/s]\n",
      "  0%|          | 3/5317 [00:00<07:24, 11.95it/s]\n",
      "  0%|          | 3/5317 [00:00<07:24, 11.94it/s]\n",
      "  0%|          | 3/5317 [00:00<07:24, 11.96it/s]\n",
      "  0%|          | 3/5317 [00:00<06:13, 14.24it/s]\n",
      "  0%|          | 3/5317 [00:00<06:25, 13.77it/s]\n",
      "  0%|          | 3/5317 [00:00<07:05, 12.49it/s]\n",
      "  0%|          | 3/5317 [00:00<06:25, 13.78it/s]\n",
      "  0%|          | 3/5317 [00:00<07:20, 12.06it/s]\n",
      "  0%|          | 3/5317 [00:00<06:40, 13.27it/s]\n",
      "  0%|          | 3/5317 [00:00<08:19, 10.65it/s]\n",
      "  0%|          | 3/5317 [00:00<07:51, 11.28it/s]\n",
      "  0%|          | 3/5317 [00:00<06:59, 12.68it/s]\n",
      "  0%|          | 3/2686 [00:00<03:13, 13.84it/s]\n",
      "  0%|          | 3/2686 [00:00<03:51, 11.59it/s]\n",
      "  0%|          | 3/2686 [00:00<03:35, 12.47it/s]\n",
      "  0%|          | 3/2686 [00:00<03:54, 11.45it/s]\n",
      "  0%|          | 3/2686 [00:00<03:44, 11.96it/s]\n",
      "  0%|          | 3/2686 [00:00<04:42,  9.51it/s]\n",
      "  0%|          | 3/2686 [00:00<04:04, 10.99it/s]\n",
      "  0%|          | 3/2686 [00:00<03:28, 12.87it/s]\n",
      "  0%|          | 3/2686 [00:00<04:44,  9.43it/s]\n",
      "  0%|          | 3/2686 [00:00<03:53, 11.50it/s]\n",
      "  0%|          | 3/2686 [00:00<03:27, 12.95it/s]\n",
      "  0%|          | 3/2686 [00:00<03:32, 12.60it/s]\n",
      "  0%|          | 3/2686 [00:00<03:26, 12.97it/s]\n",
      "  0%|          | 3/2686 [00:00<04:22, 10.22it/s]\n",
      "  0%|          | 3/2686 [00:00<04:14, 10.56it/s]\n",
      "  0%|          | 3/2686 [00:00<04:54,  9.12it/s]\n",
      "  0%|          | 3/2686 [00:00<04:55,  9.09it/s]\n",
      "  0%|          | 3/2686 [00:00<03:54, 11.42it/s]\n",
      "  0%|          | 3/2686 [00:00<03:37, 12.33it/s]\n",
      "  0%|          | 3/2686 [00:00<04:08, 10.78it/s]\n",
      "  0%|          | 3/2686 [00:00<04:24, 10.13it/s]\n",
      "  0%|          | 3/2686 [00:00<04:15, 10.49it/s]\n",
      "  0%|          | 3/2686 [00:00<04:45,  9.39it/s]\n",
      "  0%|          | 3/2686 [00:00<05:33,  8.05it/s]\n",
      "  0%|          | 3/2686 [00:00<03:31, 12.70it/s]\n",
      "  0%|          | 3/2686 [00:00<03:30, 12.74it/s]\n",
      "  0%|          | 3/2686 [00:00<04:29,  9.97it/s]\n",
      "  0%|          | 3/2686 [00:00<03:01, 14.81it/s]\n",
      "  0%|          | 3/2686 [00:00<04:56,  9.06it/s]\n",
      "  0%|          | 3/2686 [00:00<03:30, 12.72it/s]\n",
      "  0%|          | 3/2686 [00:00<04:12, 10.63it/s]\n",
      "  0%|          | 3/2686 [00:00<03:45, 11.90it/s]\n",
      "  0%|          | 3/2686 [00:00<03:05, 14.48it/s]\n",
      "  0%|          | 3/2686 [00:00<03:11, 13.99it/s]\n",
      "  0%|          | 3/2686 [00:00<03:27, 12.93it/s]\n",
      "  0%|          | 3/2686 [00:00<03:29, 12.81it/s]\n",
      "  0%|          | 3/2686 [00:00<04:03, 11.03it/s]\n",
      "  0%|          | 3/2686 [00:00<04:13, 10.59it/s]\n",
      "  0%|          | 3/2686 [00:00<04:33,  9.82it/s]\n",
      "  0%|          | 3/2686 [00:00<04:23, 10.18it/s]\n",
      "  0%|          | 3/2686 [00:00<03:54, 11.43it/s]\n",
      "  0%|          | 3/2686 [00:00<03:14, 13.77it/s]\n",
      "  0%|          | 3/2686 [00:00<04:08, 10.78it/s]\n",
      "  0%|          | 3/2686 [00:00<02:49, 15.79it/s]\n",
      "  0%|          | 3/2686 [00:00<03:56, 11.34it/s]\n",
      "  0%|          | 3/2686 [00:00<03:29, 12.83it/s]\n",
      "  0%|          | 3/2686 [00:00<04:00, 11.17it/s]\n",
      "  0%|          | 3/2686 [00:00<04:16, 10.46it/s]\n",
      "  0%|          | 3/2686 [00:00<05:01,  8.91it/s]\n",
      "  0%|          | 3/2686 [00:00<04:26, 10.08it/s]\n",
      "  0%|          | 3/2686 [00:00<04:02, 11.08it/s]\n",
      "  0%|          | 3/2686 [00:00<04:16, 10.45it/s]\n",
      "  0%|          | 3/2686 [00:00<03:33, 12.56it/s]\n",
      "  0%|          | 3/2686 [00:00<04:07, 10.85it/s]\n",
      "  0%|          | 3/2686 [00:00<04:53,  9.13it/s]\n",
      "  0%|          | 3/2686 [00:00<04:18, 10.38it/s]\n",
      "  0%|          | 3/2686 [00:00<04:51,  9.21it/s]\n",
      "  0%|          | 3/2686 [00:00<04:35,  9.73it/s]\n",
      "  0%|          | 3/2686 [00:00<04:39,  9.60it/s]\n",
      "  0%|          | 3/2686 [00:00<04:31,  9.90it/s]\n",
      "  0%|          | 3/2686 [00:00<03:56, 11.35it/s]\n",
      "  0%|          | 3/650 [00:00<01:11,  9.01it/s]\n",
      "  0%|          | 3/650 [00:00<01:14,  8.63it/s]\n",
      "  0%|          | 3/650 [00:00<01:07,  9.64it/s]\n",
      "  0%|          | 3/650 [00:00<01:16,  8.46it/s]\n",
      "  0%|          | 3/650 [00:00<01:05,  9.94it/s]\n",
      "  0%|          | 3/650 [00:00<01:05,  9.91it/s]\n",
      "  0%|          | 3/650 [00:00<01:08,  9.50it/s]\n",
      "  0%|          | 3/650 [00:00<01:05,  9.93it/s]\n",
      "  0%|          | 3/650 [00:00<01:12,  8.94it/s]\n",
      "  0%|          | 3/650 [00:00<00:54, 11.77it/s]\n",
      "  0%|          | 3/650 [00:00<00:52, 12.24it/s]\n",
      "  0%|          | 3/650 [00:00<00:56, 11.48it/s]\n",
      "  0%|          | 3/650 [00:00<01:01, 10.56it/s]\n",
      "  0%|          | 3/650 [00:00<01:02, 10.43it/s]\n",
      "  0%|          | 3/650 [00:00<01:01, 10.52it/s]\n",
      "  0%|          | 3/650 [00:00<00:55, 11.64it/s]\n",
      "  0%|          | 3/650 [00:00<01:18,  8.20it/s]\n",
      "  0%|          | 3/650 [00:00<00:51, 12.60it/s]\n",
      "  0%|          | 3/650 [00:00<00:52, 12.31it/s]\n",
      "  0%|          | 3/650 [00:00<01:12,  8.98it/s]\n",
      "  0%|          | 3/650 [00:00<01:00, 10.70it/s]\n",
      "  0%|          | 3/650 [00:00<01:00, 10.62it/s]\n",
      "  0%|          | 3/650 [00:00<01:15,  8.58it/s]\n",
      "  0%|          | 3/650 [00:00<01:09,  9.29it/s]\n",
      "  0%|          | 3/650 [00:00<00:54, 11.79it/s]\n",
      "  0%|          | 3/650 [00:00<00:56, 11.40it/s]\n",
      "  0%|          | 3/650 [00:00<01:05,  9.91it/s]\n",
      "  0%|          | 3/650 [00:00<00:55, 11.71it/s]\n",
      "  0%|          | 3/650 [00:00<01:00, 10.66it/s]\n",
      "  0%|          | 3/650 [00:00<01:10,  9.15it/s]\n",
      "  0%|          | 3/650 [00:00<01:06,  9.67it/s]\n",
      "  0%|          | 3/650 [00:00<01:03, 10.17it/s]\n",
      "  0%|          | 3/650 [00:00<00:48, 13.46it/s]\n",
      "  0%|          | 3/650 [00:00<01:02, 10.37it/s]\n",
      "  0%|          | 3/650 [00:00<00:57, 11.32it/s]\n",
      "  0%|          | 3/650 [00:00<00:58, 11.08it/s]\n",
      "  0%|          | 3/650 [00:00<00:49, 13.13it/s]\n",
      "  0%|          | 3/650 [00:00<00:59, 10.87it/s]\n",
      "  0%|          | 3/650 [00:00<01:14,  8.67it/s]\n",
      "  0%|          | 3/650 [00:00<01:06,  9.73it/s]\n",
      "  0%|          | 3/650 [00:00<00:58, 11.01it/s]\n",
      "  0%|          | 3/650 [00:00<01:16,  8.46it/s]\n",
      "  0%|          | 3/650 [00:00<01:08,  9.39it/s]\n",
      "  0%|          | 3/650 [00:00<01:00, 10.63it/s]\n",
      "  0%|          | 3/650 [00:00<00:59, 10.85it/s]\n",
      "  0%|          | 3/650 [00:00<01:04,  9.97it/s]\n"
     ]
    },
    {
     "name": "stderr",
     "output_type": "stream",
     "text": [
      "  0%|          | 3/650 [00:00<01:09,  9.29it/s]\n",
      "  0%|          | 3/650 [00:00<01:15,  8.57it/s]\n",
      "  0%|          | 3/650 [00:00<01:21,  7.93it/s]\n",
      "  0%|          | 3/650 [00:00<00:56, 11.47it/s]\n",
      "  0%|          | 3/650 [00:00<01:01, 10.54it/s]\n",
      "  0%|          | 3/650 [00:00<01:00, 10.68it/s]\n",
      "  0%|          | 3/650 [00:00<01:19,  8.09it/s]\n",
      "  0%|          | 3/650 [00:00<01:24,  7.65it/s]\n",
      "  0%|          | 3/650 [00:00<01:02, 10.40it/s]\n",
      "  0%|          | 3/650 [00:00<01:14,  8.68it/s]\n",
      "  0%|          | 3/650 [00:00<00:54, 11.94it/s]\n",
      "  0%|          | 3/650 [00:00<01:15,  8.61it/s]\n",
      "  0%|          | 3/650 [00:00<01:04, 10.10it/s]\n",
      "  0%|          | 3/650 [00:00<00:52, 12.42it/s]\n",
      "  0%|          | 3/650 [00:00<01:11,  9.02it/s]\n",
      "  1%|          | 3/381 [00:00<00:31, 11.81it/s]\n",
      "  1%|          | 3/381 [00:00<00:31, 11.91it/s]\n",
      "  1%|          | 3/381 [00:00<00:33, 11.42it/s]\n",
      "  1%|          | 3/381 [00:00<00:33, 11.37it/s]\n",
      "  1%|          | 3/381 [00:00<00:42,  8.84it/s]\n",
      "  1%|          | 3/381 [00:00<00:30, 12.32it/s]\n",
      "  1%|          | 3/381 [00:00<00:32, 11.57it/s]\n",
      "  1%|          | 3/381 [00:00<00:33, 11.44it/s]\n",
      "  1%|          | 3/381 [00:00<00:36, 10.27it/s]\n",
      "  1%|          | 3/381 [00:00<00:41,  9.17it/s]\n",
      "  1%|          | 3/381 [00:00<00:40,  9.30it/s]\n",
      "  1%|          | 3/381 [00:00<00:25, 14.92it/s]\n",
      "  1%|          | 3/381 [00:00<00:34, 11.09it/s]\n",
      "  1%|          | 3/381 [00:00<00:33, 11.35it/s]\n",
      "  1%|          | 3/381 [00:00<00:36, 10.44it/s]\n",
      "  1%|          | 3/381 [00:00<00:40,  9.39it/s]\n",
      "  1%|          | 3/381 [00:00<00:30, 12.32it/s]\n",
      "  1%|          | 3/381 [00:00<00:34, 11.01it/s]\n",
      "  1%|          | 3/381 [00:00<00:39,  9.56it/s]\n",
      "  1%|          | 3/381 [00:00<00:35, 10.64it/s]\n",
      "  1%|          | 3/381 [00:00<00:30, 12.37it/s]\n",
      "  1%|          | 3/381 [00:00<00:38,  9.74it/s]\n",
      "  1%|          | 3/381 [00:00<00:33, 11.32it/s]\n",
      "  1%|          | 3/381 [00:00<00:34, 10.97it/s]\n",
      "  1%|          | 3/381 [00:00<00:35, 10.79it/s]\n",
      "  1%|          | 3/381 [00:00<00:38,  9.73it/s]\n",
      "  1%|          | 3/381 [00:00<00:40,  9.29it/s]\n",
      "  1%|          | 3/381 [00:00<00:38,  9.76it/s]\n",
      "  1%|          | 3/381 [00:00<00:34, 10.83it/s]\n",
      "  1%|          | 3/381 [00:00<00:35, 10.57it/s]\n",
      "  1%|          | 3/381 [00:00<00:30, 12.45it/s]\n",
      "  1%|          | 3/381 [00:00<00:29, 12.74it/s]\n",
      "  1%|          | 3/381 [00:00<00:35, 10.72it/s]\n",
      "  1%|          | 3/381 [00:00<00:39,  9.49it/s]\n",
      "  1%|          | 3/381 [00:00<00:40,  9.25it/s]\n",
      "  1%|          | 3/381 [00:00<00:30, 12.50it/s]\n",
      "  1%|          | 3/381 [00:00<00:30, 12.40it/s]\n",
      "  1%|          | 3/381 [00:00<00:37, 10.15it/s]\n",
      "  1%|          | 3/381 [00:00<00:42,  8.96it/s]\n",
      "  1%|          | 3/381 [00:00<00:39,  9.54it/s]\n",
      "  1%|          | 3/381 [00:00<00:31, 12.05it/s]\n",
      "  1%|          | 3/381 [00:00<00:30, 12.22it/s]\n",
      "  1%|          | 3/381 [00:00<00:31, 12.06it/s]\n",
      "  1%|          | 3/381 [00:00<00:47,  7.91it/s]\n",
      "  1%|          | 3/381 [00:00<00:36, 10.43it/s]\n",
      "  1%|          | 3/381 [00:00<00:30, 12.40it/s]\n",
      "  1%|          | 3/381 [00:00<00:30, 12.24it/s]\n",
      "  1%|          | 3/381 [00:00<00:33, 11.41it/s]\n",
      "  1%|          | 3/381 [00:00<00:28, 13.08it/s]\n",
      "  1%|          | 3/381 [00:00<00:36, 10.35it/s]\n",
      "  1%|          | 3/381 [00:00<00:32, 11.74it/s]\n",
      "  1%|          | 3/381 [00:00<00:30, 12.45it/s]\n",
      "  1%|          | 3/381 [00:00<00:32, 11.58it/s]\n",
      "  1%|          | 3/381 [00:00<00:29, 12.82it/s]\n",
      "  1%|          | 3/381 [00:00<00:32, 11.49it/s]\n",
      "  1%|          | 3/381 [00:00<00:32, 11.81it/s]\n",
      "  1%|          | 3/381 [00:00<00:32, 11.81it/s]\n",
      "  1%|          | 3/381 [00:00<00:29, 12.67it/s]\n",
      "  1%|          | 3/381 [00:00<00:36, 10.33it/s]\n",
      "  1%|          | 3/381 [00:00<00:38,  9.73it/s]\n",
      "  1%|          | 3/381 [00:00<00:33, 11.38it/s]\n"
     ]
    },
    {
     "ename": "ValueError",
     "evalue": "num_samples should be a positive integer value, but got num_samples=0",
     "output_type": "error",
     "traceback": [
      "\u001b[0;31m---------------------------------------------------------------------------\u001b[0m",
      "\u001b[0;31mValueError\u001b[0m                                Traceback (most recent call last)",
      "\u001b[0;32m<ipython-input-64-bc4960823ea9>\u001b[0m in \u001b[0;36m<module>\u001b[0;34m\u001b[0m\n\u001b[1;32m      3\u001b[0m \u001b[0;32mfor\u001b[0m \u001b[0mce\u001b[0m \u001b[0;32min\u001b[0m \u001b[0mlist\u001b[0m\u001b[0;34m(\u001b[0m\u001b[0mceDataDict\u001b[0m\u001b[0;34m.\u001b[0m\u001b[0mkeys\u001b[0m\u001b[0;34m(\u001b[0m\u001b[0;34m)\u001b[0m\u001b[0;34m)\u001b[0m\u001b[0;34m:\u001b[0m\u001b[0;34m\u001b[0m\u001b[0;34m\u001b[0m\u001b[0m\n\u001b[1;32m      4\u001b[0m     \u001b[0mCE_DATA\u001b[0m \u001b[0;34m=\u001b[0m \u001b[0mceDataDict\u001b[0m\u001b[0;34m[\u001b[0m\u001b[0mce\u001b[0m\u001b[0;34m]\u001b[0m\u001b[0;34m\u001b[0m\u001b[0;34m\u001b[0m\u001b[0m\n\u001b[0;32m----> 5\u001b[0;31m     \u001b[0msa_list\u001b[0m \u001b[0;34m=\u001b[0m \u001b[0mgetCeCalibSeries\u001b[0m\u001b[0;34m(\u001b[0m\u001b[0mpytorch_model\u001b[0m\u001b[0;34m,\u001b[0m \u001b[0mCE_DATA\u001b[0m\u001b[0;34m,\u001b[0m \u001b[0mR\u001b[0m\u001b[0;34m)\u001b[0m\u001b[0;34m\u001b[0m\u001b[0;34m\u001b[0m\u001b[0m\n\u001b[0m\u001b[1;32m      6\u001b[0m \u001b[0;34m\u001b[0m\u001b[0m\n\u001b[1;32m      7\u001b[0m     \u001b[0;32mfor\u001b[0m \u001b[0ms\u001b[0m\u001b[0;34m,\u001b[0m \u001b[0mr\u001b[0m \u001b[0;32min\u001b[0m \u001b[0mzip\u001b[0m\u001b[0;34m(\u001b[0m\u001b[0msa_list\u001b[0m\u001b[0;34m,\u001b[0m \u001b[0mR\u001b[0m\u001b[0;34m)\u001b[0m\u001b[0;34m:\u001b[0m\u001b[0;34m\u001b[0m\u001b[0;34m\u001b[0m\u001b[0m\n",
      "\u001b[0;32m<ipython-input-38-d048293eaa27>\u001b[0m in \u001b[0;36mgetCeCalibSeries\u001b[0;34m(model, data, range_x)\u001b[0m\n\u001b[1;32m      3\u001b[0m     \u001b[0;32mfor\u001b[0m \u001b[0mi\u001b[0m \u001b[0;32min\u001b[0m \u001b[0mrange_x\u001b[0m\u001b[0;34m:\u001b[0m\u001b[0;34m\u001b[0m\u001b[0;34m\u001b[0m\u001b[0m\n\u001b[1;32m      4\u001b[0m         \u001b[0mdataset\u001b[0m \u001b[0;34m=\u001b[0m \u001b[0mPrositFragmentationDataset\u001b[0m\u001b[0;34m(\u001b[0m\u001b[0mdata\u001b[0m\u001b[0;34m,\u001b[0m \u001b[0mround\u001b[0m\u001b[0;34m(\u001b[0m\u001b[0mi\u001b[0m\u001b[0;34m,\u001b[0m\u001b[0;36m2\u001b[0m\u001b[0;34m)\u001b[0m\u001b[0;34m)\u001b[0m\u001b[0;34m\u001b[0m\u001b[0;34m\u001b[0m\u001b[0m\n\u001b[0;32m----> 5\u001b[0;31m         \u001b[0mloader\u001b[0m \u001b[0;34m=\u001b[0m \u001b[0mgetDataLoader\u001b[0m\u001b[0;34m(\u001b[0m\u001b[0mdataset\u001b[0m\u001b[0;34m)\u001b[0m\u001b[0;34m\u001b[0m\u001b[0;34m\u001b[0m\u001b[0m\n\u001b[0m\u001b[1;32m      6\u001b[0m         \u001b[0msa_list\u001b[0m\u001b[0;34m.\u001b[0m\u001b[0mappend\u001b[0m\u001b[0;34m(\u001b[0m\u001b[0mgetSa\u001b[0m\u001b[0;34m(\u001b[0m\u001b[0mmodel\u001b[0m\u001b[0;34m,\u001b[0m \u001b[0mloader\u001b[0m\u001b[0;34m)\u001b[0m\u001b[0;34m)\u001b[0m\u001b[0;34m\u001b[0m\u001b[0;34m\u001b[0m\u001b[0m\n\u001b[1;32m      7\u001b[0m     \u001b[0;32mreturn\u001b[0m \u001b[0msa_list\u001b[0m\u001b[0;34m\u001b[0m\u001b[0;34m\u001b[0m\u001b[0m\n",
      "\u001b[0;32m<ipython-input-4-b58b6eefa0aa>\u001b[0m in \u001b[0;36mgetDataLoader\u001b[0;34m(dataset)\u001b[0m\n\u001b[1;32m      1\u001b[0m \u001b[0;32mdef\u001b[0m \u001b[0mgetDataLoader\u001b[0m\u001b[0;34m(\u001b[0m\u001b[0mdataset\u001b[0m\u001b[0;34m:\u001b[0m \u001b[0mPrositFragmentationDataset\u001b[0m\u001b[0;34m)\u001b[0m\u001b[0;34m->\u001b[0m\u001b[0mDataLoader\u001b[0m\u001b[0;34m:\u001b[0m\u001b[0;34m\u001b[0m\u001b[0;34m\u001b[0m\u001b[0m\n\u001b[0;32m----> 2\u001b[0;31m     \u001b[0msampler\u001b[0m \u001b[0;34m=\u001b[0m \u001b[0mRandomSampler\u001b[0m\u001b[0;34m(\u001b[0m\u001b[0mdataset\u001b[0m\u001b[0;34m)\u001b[0m\u001b[0;34m\u001b[0m\u001b[0;34m\u001b[0m\u001b[0m\n\u001b[0m\u001b[1;32m      3\u001b[0m     \u001b[0mbatch_sampler\u001b[0m \u001b[0;34m=\u001b[0m \u001b[0mBucketBatchSampler\u001b[0m\u001b[0;34m(\u001b[0m\u001b[0msampler\u001b[0m\u001b[0;34m,\u001b[0m \u001b[0;36m64\u001b[0m\u001b[0;34m,\u001b[0m \u001b[0;32mFalse\u001b[0m\u001b[0;34m,\u001b[0m \u001b[0;32mlambda\u001b[0m \u001b[0mx\u001b[0m\u001b[0;34m:\u001b[0m \u001b[0mlen\u001b[0m\u001b[0;34m(\u001b[0m\u001b[0mx\u001b[0m\u001b[0;34m[\u001b[0m\u001b[0;36m0\u001b[0m\u001b[0;34m]\u001b[0m\u001b[0;34m)\u001b[0m\u001b[0;34m,\u001b[0m \u001b[0mdataset\u001b[0m\u001b[0;34m)\u001b[0m\u001b[0;34m\u001b[0m\u001b[0;34m\u001b[0m\u001b[0m\n\u001b[1;32m      4\u001b[0m     loader = DataLoader(\n\u001b[1;32m      5\u001b[0m             \u001b[0mdataset\u001b[0m\u001b[0;34m,\u001b[0m\u001b[0;34m\u001b[0m\u001b[0;34m\u001b[0m\u001b[0m\n",
      "\u001b[0;32m~/anaconda3/envs/prosittransformer/lib/python3.6/site-packages/torch/utils/data/sampler.py\u001b[0m in \u001b[0;36m__init__\u001b[0;34m(self, data_source, replacement, num_samples, generator)\u001b[0m\n\u001b[1;32m    102\u001b[0m         \u001b[0;32mif\u001b[0m \u001b[0;32mnot\u001b[0m \u001b[0misinstance\u001b[0m\u001b[0;34m(\u001b[0m\u001b[0mself\u001b[0m\u001b[0;34m.\u001b[0m\u001b[0mnum_samples\u001b[0m\u001b[0;34m,\u001b[0m \u001b[0mint\u001b[0m\u001b[0;34m)\u001b[0m \u001b[0;32mor\u001b[0m \u001b[0mself\u001b[0m\u001b[0;34m.\u001b[0m\u001b[0mnum_samples\u001b[0m \u001b[0;34m<=\u001b[0m \u001b[0;36m0\u001b[0m\u001b[0;34m:\u001b[0m\u001b[0;34m\u001b[0m\u001b[0;34m\u001b[0m\u001b[0m\n\u001b[1;32m    103\u001b[0m             raise ValueError(\"num_samples should be a positive integer \"\n\u001b[0;32m--> 104\u001b[0;31m                              \"value, but got num_samples={}\".format(self.num_samples))\n\u001b[0m\u001b[1;32m    105\u001b[0m \u001b[0;34m\u001b[0m\u001b[0m\n\u001b[1;32m    106\u001b[0m     \u001b[0;34m@\u001b[0m\u001b[0mproperty\u001b[0m\u001b[0;34m\u001b[0m\u001b[0;34m\u001b[0m\u001b[0m\n",
      "\u001b[0;31mValueError\u001b[0m: num_samples should be a positive integer value, but got num_samples=0"
     ]
    }
   ],
   "source": [
    "#SA_list, R_list, CE_list = list(), list(), list()\n",
    "data_points = list()\n",
    "for ce in list(ceDataDict.keys()):\n",
    "    CE_DATA = ceDataDict[ce]\n",
    "    sa_list = getCeCalibSeries(pytorch_model, CE_DATA, R)\n",
    "    \n",
    "    for s, r in zip(sa_list, R):\n",
    "        data_points.append([s,r, ce])\n"
   ]
  },
  {
   "cell_type": "code",
   "execution_count": 65,
   "metadata": {},
   "outputs": [],
   "source": [
    "import pandas as pd"
   ]
  },
  {
   "cell_type": "code",
   "execution_count": 66,
   "metadata": {},
   "outputs": [],
   "source": [
    "df = pd.DataFrame(data_points, columns=[\"sa\", \"ce\", \"CE\"])"
   ]
  },
  {
   "cell_type": "code",
   "execution_count": 85,
   "metadata": {},
   "outputs": [
    {
     "data": {
      "text/html": [
       "<div>\n",
       "<style scoped>\n",
       "    .dataframe tbody tr th:only-of-type {\n",
       "        vertical-align: middle;\n",
       "    }\n",
       "\n",
       "    .dataframe tbody tr th {\n",
       "        vertical-align: top;\n",
       "    }\n",
       "\n",
       "    .dataframe thead th {\n",
       "        text-align: right;\n",
       "    }\n",
       "</style>\n",
       "<table border=\"1\" class=\"dataframe\">\n",
       "  <thead>\n",
       "    <tr style=\"text-align: right;\">\n",
       "      <th></th>\n",
       "      <th>sa</th>\n",
       "      <th>ce</th>\n",
       "      <th>CE</th>\n",
       "    </tr>\n",
       "  </thead>\n",
       "  <tbody>\n",
       "    <tr>\n",
       "      <th>0</th>\n",
       "      <td>0.844831</td>\n",
       "      <td>0.10</td>\n",
       "      <td>0.25</td>\n",
       "    </tr>\n",
       "    <tr>\n",
       "      <th>1</th>\n",
       "      <td>0.849177</td>\n",
       "      <td>0.11</td>\n",
       "      <td>0.25</td>\n",
       "    </tr>\n",
       "    <tr>\n",
       "      <th>2</th>\n",
       "      <td>0.841241</td>\n",
       "      <td>0.12</td>\n",
       "      <td>0.25</td>\n",
       "    </tr>\n",
       "    <tr>\n",
       "      <th>3</th>\n",
       "      <td>0.815053</td>\n",
       "      <td>0.13</td>\n",
       "      <td>0.25</td>\n",
       "    </tr>\n",
       "    <tr>\n",
       "      <th>4</th>\n",
       "      <td>0.882520</td>\n",
       "      <td>0.14</td>\n",
       "      <td>0.25</td>\n",
       "    </tr>\n",
       "    <tr>\n",
       "      <th>...</th>\n",
       "      <td>...</td>\n",
       "      <td>...</td>\n",
       "      <td>...</td>\n",
       "    </tr>\n",
       "    <tr>\n",
       "      <th>239</th>\n",
       "      <td>0.897386</td>\n",
       "      <td>0.66</td>\n",
       "      <td>0.40</td>\n",
       "    </tr>\n",
       "    <tr>\n",
       "      <th>240</th>\n",
       "      <td>0.904550</td>\n",
       "      <td>0.67</td>\n",
       "      <td>0.40</td>\n",
       "    </tr>\n",
       "    <tr>\n",
       "      <th>241</th>\n",
       "      <td>0.908505</td>\n",
       "      <td>0.68</td>\n",
       "      <td>0.40</td>\n",
       "    </tr>\n",
       "    <tr>\n",
       "      <th>242</th>\n",
       "      <td>0.886718</td>\n",
       "      <td>0.69</td>\n",
       "      <td>0.40</td>\n",
       "    </tr>\n",
       "    <tr>\n",
       "      <th>243</th>\n",
       "      <td>0.896564</td>\n",
       "      <td>0.70</td>\n",
       "      <td>0.40</td>\n",
       "    </tr>\n",
       "  </tbody>\n",
       "</table>\n",
       "<p>244 rows × 3 columns</p>\n",
       "</div>"
      ],
      "text/plain": [
       "           sa    ce    CE\n",
       "0    0.844831  0.10  0.25\n",
       "1    0.849177  0.11  0.25\n",
       "2    0.841241  0.12  0.25\n",
       "3    0.815053  0.13  0.25\n",
       "4    0.882520  0.14  0.25\n",
       "..        ...   ...   ...\n",
       "239  0.897386  0.66  0.40\n",
       "240  0.904550  0.67  0.40\n",
       "241  0.908505  0.68  0.40\n",
       "242  0.886718  0.69  0.40\n",
       "243  0.896564  0.70  0.40\n",
       "\n",
       "[244 rows x 3 columns]"
      ]
     },
     "execution_count": 85,
     "metadata": {},
     "output_type": "execute_result"
    }
   ],
   "source": [
    "df"
   ]
  },
  {
   "cell_type": "code",
   "execution_count": 80,
   "metadata": {},
   "outputs": [],
   "source": [
    "fs=16 + 5"
   ]
  },
  {
   "cell_type": "code",
   "execution_count": 84,
   "metadata": {},
   "outputs": [
    {
     "data": {
      "text/plain": [
       "(array([0.2, 0.3, 0.4, 0.5, 0.6, 0.7, 0.8, 0.9, 1. ]),\n",
       " [Text(0, 0, ''),\n",
       "  Text(0, 0, ''),\n",
       "  Text(0, 0, ''),\n",
       "  Text(0, 0, ''),\n",
       "  Text(0, 0, ''),\n",
       "  Text(0, 0, ''),\n",
       "  Text(0, 0, ''),\n",
       "  Text(0, 0, ''),\n",
       "  Text(0, 0, '')])"
      ]
     },
     "execution_count": 84,
     "metadata": {},
     "output_type": "execute_result"
    },
    {
     "data": {
      "image/png": "[encoded data removed]",
      "text/plain": [
       "<Figure size 1152x720 with 1 Axes>"
      ]
     },
     "metadata": {
      "needs_background": "light"
     },
     "output_type": "display_data"
    }
   ],
   "source": [
    "plt.figure(figsize=(16, 10))\n",
    "ax = seaborn.lineplot(x=\"ce\", y=\"sa\", marker=\"o\", hue=\"CE\", data = df)\n",
    "legend = ax.legend(handles=ax.legend_.legendHandles,\n",
    "                   prop={\"size\":fs})\n",
    "\n",
    "\n",
    "#plt.legend.get_title().set_fontsize('6')\n",
    "#plt.rcParams['legend.title_fontsize'] = fs\n",
    "plt.xlabel(\"Collision Energy\", fontsize=fs)\n",
    "plt.ylabel(\"Median Spectral Angle\", fontsize=fs)\n",
    "plt.xticks(fontsize=fs)\n",
    "plt.yticks(fontsize=fs)\n",
    "\n",
    "#plt.locator_params(axis='y', nbins=5)\n",
    "#plt.locator_params(axis='x', nbins=6)\n",
    "\n",
    "#plt.savefig(\"./compare.png\")"
   ]
  },
  {
   "cell_type": "code",
   "execution_count": null,
   "metadata": {},
   "outputs": [],
   "source": []
  },
  {
   "cell_type": "code",
   "execution_count": null,
   "metadata": {},
   "outputs": [],
   "source": []
  },
  {
   "cell_type": "code",
   "execution_count": null,
   "metadata": {},
   "outputs": [],
   "source": [
    "CTO = cleanTapeOutput()"
   ]
  },
  {
   "cell_type": "code",
   "execution_count": null,
   "metadata": {},
   "outputs": [],
   "source": [
    "targets = np.concatenate(targets)\n",
    "charge = np.concatenate(charge)\n",
    "sequence = np.concatenate(sequence)\n",
    "predictions = np.concatenate(predictions)"
   ]
  },
  {
   "cell_type": "code",
   "execution_count": null,
   "metadata": {},
   "outputs": [],
   "source": [
    "sa, _ = CTO.getIntensitiesAndSpectralAngle(predictions, targets, charge, sequence, True)"
   ]
  },
  {
   "cell_type": "code",
   "execution_count": null,
   "metadata": {},
   "outputs": [],
   "source": []
  },
  {
   "cell_type": "code",
   "execution_count": null,
   "metadata": {},
   "outputs": [],
   "source": [
    "%config Completer.use_jedi = False\n",
    "\n",
    "import numpy as np\n",
    "from tqdm import tqdm"
   ]
  },
  {
   "cell_type": "code",
   "execution_count": null,
   "metadata": {},
   "outputs": [],
   "source": [
    "from tape.datasets import PrositFragmentationDataset"
   ]
  },
  {
   "cell_type": "code",
   "execution_count": null,
   "metadata": {},
   "outputs": [],
   "source": [
    "PrositData = PrositFragmentationDataset(\"/sdd/PrositToTapeDataConverter/LMDB\", \"test\")"
   ]
  },
  {
   "cell_type": "code",
   "execution_count": null,
   "metadata": {},
   "outputs": [],
   "source": [
    "x = {\n",
    "    0.25 : [],\n",
    "    0.3 : [],\n",
    "    0.35 : [],\n",
    "    0.4 : [],\n",
    "    0.45 : [],\n",
    "    0.5 : []\n",
    "}"
   ]
  },
  {
   "cell_type": "code",
   "execution_count": null,
   "metadata": {},
   "outputs": [],
   "source": [
    "def getCEdata(ceDataDict:dict, Dataset: PrositFragmentationDataset)->dict:\n",
    "    #Loop each element in dataset\n",
    "    for i in tqdm(range(len(Dataset))):\n",
    "        for k in ceDataDict.keys():\n",
    "            if np.round(Dataset[i][3], 2) == np.array(k, dtype=np.float32):\n",
    "                ceDataDict[k].append(Dataset[i])\n",
    "    return ceDataDict\n"
   ]
  },
  {
   "cell_type": "code",
   "execution_count": null,
   "metadata": {},
   "outputs": [],
   "source": [
    "from torch.utils.data import Dataset\n",
    "from tape.tokenizers import TAPETokenizer\n",
    "from typing import List, Tuple, Any, Dict\n",
    "import torch"
   ]
  },
  {
   "cell_type": "code",
   "execution_count": null,
   "metadata": {},
   "outputs": [],
   "source": [
    "from torch.utils.data import DataLoader, RandomSampler, Dataset\n",
    "from tape.utils._sampler import BucketBatchSampler"
   ]
  },
  {
   "cell_type": "code",
   "execution_count": null,
   "metadata": {},
   "outputs": [],
   "source": []
  },
  {
   "cell_type": "code",
   "execution_count": null,
   "metadata": {},
   "outputs": [],
   "source": [
    "class PrositFragmentationDataset(Dataset):\n",
    "\n",
    "    def __init__(self,\n",
    "                 data: dict,\n",
    "                 ce: float):\n",
    "\n",
    "        tokenizer = TAPETokenizer(vocab=\"iupac\")\n",
    "        self.tokenizer = tokenizer\n",
    "        self.data = data\n",
    "        self.ce = ce\n",
    "        self.keys = [\n",
    "                     'intensities_raw',\n",
    "                     'collision_energy_aligned_normed',\n",
    "                     'precursor_charge_onehot'\n",
    "                     ]\n",
    "                     \n",
    "    def __len__(self) -> int:\n",
    "        return len(self.data)\n",
    "\n",
    "    def __getitem__(self, index: int):\n",
    "        return self.data[index][:3] + tuple([np.array(self.ce, dtype=np.float32)]) + self.data[index][4:]\n",
    "\n",
    "    def collate_fn(self, batch: List[Tuple[Any, ...]]) -> Dict[str, torch.Tensor]:\n",
    "        input_ids, input_mask, intensities_raw_true_value, collision_energy, charge = tuple(zip(*batch))\n",
    "\n",
    "        collision_energy = np.stack(collision_energy)\n",
    "        input_ids = torch.from_numpy(pad_sequences(input_ids, 0))\n",
    "        input_mask = torch.from_numpy(pad_sequences(input_mask, 0))\n",
    "        intensities_raw_true_value = torch.FloatTensor(intensities_raw_true_value)  # type: ignore\n",
    "\n",
    "        collision_energy_tensor = torch.FloatTensor(collision_energy)\n",
    "        charge_tensor = torch.FloatTensor(charge)\n",
    "\n",
    "        return {'input_ids': input_ids,\n",
    "                'input_mask': input_mask,\n",
    "                'targets': intensities_raw_true_value,\n",
    "                'collision_energy': collision_energy_tensor,\n",
    "                'charge': charge_tensor}"
   ]
  },
  {
   "cell_type": "code",
   "execution_count": null,
   "metadata": {},
   "outputs": [],
   "source": [
    "from tape.datasets import pad_sequences"
   ]
  },
  {
   "cell_type": "code",
   "execution_count": null,
   "metadata": {},
   "outputs": [],
   "source": [
    "import pickle\n",
    "import multiprocessing\n",
    "#ceDataDict = getCEdata(x, PrositData)\n",
    "#pickle.dump(ceDataDict, open(\"./data/ceDataDict.pkl\", \"wb\"))"
   ]
  },
  {
   "cell_type": "code",
   "execution_count": null,
   "metadata": {},
   "outputs": [],
   "source": [
    "ce25Dataset = PrositFragmentationDataset(ceDataDict[0.25], 0.3)"
   ]
  },
  {
   "cell_type": "code",
   "execution_count": null,
   "metadata": {},
   "outputs": [],
   "source": [
    "ce25Dataset[0]"
   ]
  },
  {
   "cell_type": "code",
   "execution_count": null,
   "metadata": {},
   "outputs": [],
   "source": [
    "sampler = RandomSampler(ce25Dataset)\n",
    "batch_sampler = BucketBatchSampler(sampler, 64, False, lambda x: len(x[0]), ce25Dataset)\n",
    "loader = DataLoader(\n",
    "        ce25Dataset,\n",
    "        num_workers=multiprocessing.cpu_count() - 1,\n",
    "        collate_fn=ce25Dataset.collate_fn,  # type: ignore\n",
    "        batch_sampler=batch_sampler)"
   ]
  },
  {
   "cell_type": "code",
   "execution_count": null,
   "metadata": {},
   "outputs": [],
   "source": [
    "from tape import ProteinBertForValuePredictionFragmentationProsit"
   ]
  },
  {
   "cell_type": "code",
   "execution_count": null,
   "metadata": {},
   "outputs": [],
   "source": [
    "pytorch_model = ProteinBertForValuePredictionFragmentationProsit.from_pretrained(\"/sdd/berzelius/torch_model\")\n",
    "if torch.cuda.is_available():\n",
    "    use_gpu = True\n",
    "    pytorch_model = pytorch_model.to(torch.device('cuda:0'))\n",
    "else:\n",
    "    use_gpu = False"
   ]
  },
  {
   "cell_type": "code",
   "execution_count": null,
   "metadata": {},
   "outputs": [],
   "source": []
  },
  {
   "cell_type": "code",
   "execution_count": null,
   "metadata": {},
   "outputs": [],
   "source": [
    "CTO = cleanTapeOutput()"
   ]
  },
  {
   "cell_type": "code",
   "execution_count": null,
   "metadata": {},
   "outputs": [],
   "source": [
    "predictions = list()\n",
    "targets = list()\n",
    "for batch in tqdm(loader):  \n",
    "    targets.append(batch[\"targets\"].cpu().detach().numpy())\n",
    "    if use_gpu:\n",
    "        batch = {name: tensor.cuda(device=torch.device('cuda:0'), non_blocking=True)\n",
    "                 for name, tensor in batch.items()}\n",
    "    predictions.append(pytorch_model(**batch)[1].cpu().detach().numpy())\n",
    "    break"
   ]
  },
  {
   "cell_type": "code",
   "execution_count": null,
   "metadata": {},
   "outputs": [],
   "source": [
    "targets"
   ]
  },
  {
   "cell_type": "code",
   "execution_count": null,
   "metadata": {},
   "outputs": [],
   "source": [
    "predictions"
   ]
  },
  {
   "cell_type": "code",
   "execution_count": null,
   "metadata": {},
   "outputs": [],
   "source": [
    "CTO = cleanTapeOutput()"
   ]
  },
  {
   "cell_type": "code",
   "execution_count": null,
   "metadata": {},
   "outputs": [],
   "source": [
    "CTO."
   ]
  },
  {
   "cell_type": "code",
   "execution_count": null,
   "metadata": {},
   "outputs": [],
   "source": []
  },
  {
   "cell_type": "code",
   "execution_count": null,
   "metadata": {},
   "outputs": [],
   "source": [
    "pytorch_model = ProteinBertForValuePredictionFragmentationProsit.from_pretrained(model)\n",
    "    if torch.cuda.is_available():\n",
    "        use_gpu = True\n",
    "        pytorch_model = pytorch_model.to(torch.device('cuda:0'))\n",
    "    else:\n",
    "        use_gpu = False\n",
    "   \n",
    "    loader = getTorchDataLoader(lmdb, split, batch_size = batch_size)\n",
    "    predictions = list()\n",
    "    for batch in tqdm(loader):  \n",
    "        if use_gpu:\n",
    "            batch = {name: tensor.cuda(device=torch.device('cuda:0'), non_blocking=True)\n",
    "                     for name, tensor in batch.items()}\n",
    "        predictions.append(pytorch_model(**batch)[1].cpu().detach().numpy())\n",
    "    predictions = np.concatenate(predictions)"
   ]
  },
  {
   "cell_type": "code",
   "execution_count": null,
   "metadata": {},
   "outputs": [],
   "source": [
    "for b in loader:\n",
    "    break"
   ]
  },
  {
   "cell_type": "code",
   "execution_count": null,
   "metadata": {},
   "outputs": [],
   "source": [
    "b"
   ]
  },
  {
   "cell_type": "code",
   "execution_count": null,
   "metadata": {},
   "outputs": [],
   "source": []
  },
  {
   "cell_type": "code",
   "execution_count": null,
   "metadata": {},
   "outputs": [],
   "source": [
    "\n",
    "    batch_sampler = BucketBatchSampler(\n",
    "        sampler, batch_size, False, lambda x: len(x[0]), dataset)\n",
    "\n",
    "    loader = DataLoader(\n",
    "        dataset,\n",
    "        num_workers=num_workers,\n",
    "        collate_fn=dataset.collate_fn,  # type: ignore\n",
    "        batch_sampler=batch_sampler)"
   ]
  },
  {
   "cell_type": "code",
   "execution_count": null,
   "metadata": {},
   "outputs": [],
   "source": []
  },
  {
   "cell_type": "code",
   "execution_count": null,
   "metadata": {},
   "outputs": [],
   "source": [
    "ceDataDict[0.25][0][:3] + tuple([np.array(0.3, dtype=np.float32)]) + ceDataDict[0.25][0][4:]"
   ]
  },
  {
   "cell_type": "code",
   "execution_count": null,
   "metadata": {},
   "outputs": [],
   "source": [
    "ceDataDict[0.25][0][4:]"
   ]
  },
  {
   "cell_type": "code",
   "execution_count": null,
   "metadata": {},
   "outputs": [],
   "source": [
    "([np.array(0.3, dtype=np.float32)])"
   ]
  },
  {
   "cell_type": "code",
   "execution_count": null,
   "metadata": {},
   "outputs": [],
   "source": [
    "x == np.array(0.32, dtype=np.float32)"
   ]
  },
  {
   "cell_type": "code",
   "execution_count": null,
   "metadata": {},
   "outputs": [],
   "source": [
    "np.round(TEST[0][3], 2)"
   ]
  },
  {
   "cell_type": "code",
   "execution_count": null,
   "metadata": {},
   "outputs": [],
   "source": []
  }
 ],
 "metadata": {
  "kernelspec": {
   "display_name": "Python (prosittransformer)",
   "language": "python",
   "name": "prosittransformer"
  },
  "language_info": {
   "codemirror_mode": {
    "name": "ipython",
    "version": 3
   },
   "file_extension": ".py",
   "mimetype": "text/x-python",
   "name": "python",
   "nbconvert_exporter": "python",
   "pygments_lexer": "ipython3",
   "version": "3.6.13"
  }
 },
 "nbformat": 4,
 "nbformat_minor": 2
}
